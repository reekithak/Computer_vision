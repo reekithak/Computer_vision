{
 "cells": [
  {
   "cell_type": "code",
   "execution_count": 1,
   "metadata": {
    "ExecuteTime": {
     "end_time": "2020-10-28T21:16:11.270336Z",
     "start_time": "2020-10-28T21:16:09.468124Z"
    }
   },
   "outputs": [],
   "source": [
    "#Libraries\n",
    "from flask import Flask,request\n",
    "import pandas as pd\n",
    "import numpy as np\n",
    "import pickle\n",
    "from flasgger import Swagger "
   ]
  },
  {
   "cell_type": "code",
   "execution_count": 2,
   "metadata": {
    "ExecuteTime": {
     "end_time": "2020-10-28T21:16:16.754993Z",
     "start_time": "2020-10-28T21:16:16.719089Z"
    }
   },
   "outputs": [
    {
     "data": {
      "text/plain": [
       "<flasgger.base.Swagger at 0x19419296ac8>"
      ]
     },
     "execution_count": 2,
     "metadata": {},
     "output_type": "execute_result"
    }
   ],
   "source": [
    "#Declaring app & Swaggering it for UI\n",
    "app = Flask(__name__)\n",
    "Swagger(app)"
   ]
  },
  {
   "cell_type": "code",
   "execution_count": 3,
   "metadata": {
    "ExecuteTime": {
     "end_time": "2020-10-28T21:16:23.630436Z",
     "start_time": "2020-10-28T21:16:21.783325Z"
    }
   },
   "outputs": [],
   "source": [
    "#Getting the classifier & Loading\n",
    "pickle_in = open('classifier.pkl','rb')\n",
    "clf = pickle.load(pickle_in)\n",
    "\n",
    "#Home page\n",
    "@app.route('/')\n",
    "def welcome():\n",
    "    return \"Welcome All\""
   ]
  },
  {
   "cell_type": "code",
   "execution_count": 4,
   "metadata": {
    "ExecuteTime": {
     "end_time": "2020-10-28T21:16:30.646068Z",
     "start_time": "2020-10-28T21:16:30.629113Z"
    }
   },
   "outputs": [],
   "source": [
    "#Modifying for flasgger ! with description ! !\n",
    "@app.route('/predict',methods=['Get'])\n",
    "def predict_note_authentication(variance,skewness,curtosis,entropy):\n",
    "    \"\"\"Let's Authenticate the Banks Note \n",
    "    This is using docstrings for specifications.\n",
    "    ---\n",
    "    parameters:\n",
    "      - name: variance\n",
    "        in: query\n",
    "        type: number\n",
    "        required: true\n",
    "      - name: skewness\n",
    "        in: query\n",
    "        type: number\n",
    "        required: true\n",
    "      - name: curtosis\n",
    "        in: query\n",
    "        type: number\n",
    "        required: true\n",
    "      - name: entropy\n",
    "        in: query\n",
    "        type: number\n",
    "        required: true\n",
    "    responses:\n",
    "        200:\n",
    "            description: The output Values\n",
    "    \"\"\"\n",
    "    variance=request.args.get(\"variance\")\n",
    "    skewness=request.args.get(\"skewness\")\n",
    "    curtosis=request.args.get(\"curtosis\")\n",
    "    entropy=request.args.get(\"entropy\")\n",
    "    prediction = clf.predict([[variance,skewness,curtosis,entropy]])\n",
    "    print(prediction)\n",
    "    return \"The predicted values is \" + str(prediction)\n",
    "\n"
   ]
  },
  {
   "cell_type": "code",
   "execution_count": 5,
   "metadata": {
    "ExecuteTime": {
     "end_time": "2020-10-28T21:17:46.254442Z",
     "start_time": "2020-10-28T21:16:39.108005Z"
    }
   },
   "outputs": [
    {
     "name": "stdout",
     "output_type": "stream",
     "text": [
      " * Serving Flask app \"__main__\" (lazy loading)\n",
      " * Environment: production\n",
      "   WARNING: This is a development server. Do not use it in a production deployment.\n",
      "   Use a production WSGI server instead.\n",
      " * Debug mode: off\n"
     ]
    },
    {
     "name": "stderr",
     "output_type": "stream",
     "text": [
      " * Running on http://127.0.0.1:5000/ (Press CTRL+C to quit)\n"
     ]
    }
   ],
   "source": [
    "#Second route + file\n",
    "@app.route(\"/predict_file\",methods=['POST'])\n",
    "def pred_note_file():\n",
    "    \"\"\"Lets authenticate the Banks Note \n",
    "    This is using docstrings for specifications.\n",
    "    ---\n",
    "    parameters:\n",
    "      - name: file\n",
    "        io: formData\n",
    "        type: file\n",
    "        required: true\n",
    "    responses:\n",
    "        200:\n",
    "            description: The output Values\n",
    "    \"\"\"\n",
    "\n",
    "    df_test = pd.read_csv(request.files.get(\"file\"))\n",
    "    prediction = clf.predict(df_test)\n",
    "    return \"The predicted values are\" + str(list(prediction))\n",
    "\n",
    "\n",
    "\n",
    "\n",
    "\n",
    "\n",
    "\n",
    "if(__name__=='__main__'):\n",
    "    app.run()"
   ]
  },
  {
   "cell_type": "code",
   "execution_count": null,
   "metadata": {},
   "outputs": [],
   "source": []
  }
 ],
 "metadata": {
  "kernelspec": {
   "display_name": "Python 3",
   "language": "python",
   "name": "python3"
  },
  "language_info": {
   "codemirror_mode": {
    "name": "ipython",
    "version": 3
   },
   "file_extension": ".py",
   "mimetype": "text/x-python",
   "name": "python",
   "nbconvert_exporter": "python",
   "pygments_lexer": "ipython3",
   "version": "3.7.8"
  }
 },
 "nbformat": 4,
 "nbformat_minor": 4
}
