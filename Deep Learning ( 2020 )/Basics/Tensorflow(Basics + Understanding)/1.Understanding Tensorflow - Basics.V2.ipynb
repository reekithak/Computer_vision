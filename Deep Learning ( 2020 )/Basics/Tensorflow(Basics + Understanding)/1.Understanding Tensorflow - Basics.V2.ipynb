{
 "cells": [
  {
   "cell_type": "markdown",
   "metadata": {},
   "source": [
    "# **Program with basic explanation of tensorflow workflow - [purpose: To understand Tf Workflow]** - 1"
   ]
  },
  {
   "cell_type": "markdown",
   "metadata": {},
   "source": [
    " "
   ]
  },
  {
   "cell_type": "markdown",
   "metadata": {},
   "source": [
    " "
   ]
  },
  {
   "cell_type": "code",
   "execution_count": 2,
   "metadata": {},
   "outputs": [],
   "source": [
    "#import tensorflow as tf\n",
    "import tensorflow.compat.v1 as tf\n",
    "tf.disable_v2_behavior()\n",
    "#eager execution :- runs and evaluates immediately , without forming grpahs"
   ]
  },
  {
   "cell_type": "markdown",
   "metadata": {},
   "source": [
    "**PLACEHOLDERS**"
   ]
  },
  {
   "cell_type": "markdown",
   "metadata": {},
   "source": [
    "tf.placeholder - similar to variables , can be fed into the runtime using feed_dict within session.run , no initial value needed\n",
    "\n",
    "tf.variable - you can provide initial values while declaring it\n",
    "\n",
    "\n",
    "\n",
    "**#Sample : 1**"
   ]
  },
  {
   "cell_type": "code",
   "execution_count": 3,
   "metadata": {},
   "outputs": [],
   "source": [
    "x = tf.placeholder(tf.int32,shape=[3],name='x')\n",
    "'''It is of type int32 with shape(3,1)i.e 1D vector with 3 elements and given the name\n",
    "x, similarly another placeholder is created , namely y . We treat these as\n",
    "similar to constants'''\n",
    "y = tf.placeholder(tf.int32 , shape=[3],name='y')"
   ]
  },
  {
   "cell_type": "code",
   "execution_count": 4,
   "metadata": {},
   "outputs": [
    {
     "name": "stdout",
     "output_type": "stream",
     "text": [
      "WARNING:tensorflow:From <ipython-input-4-6b17f575a6c3>:5: div (from tensorflow.python.ops.math_ops) is deprecated and will be removed in a future version.\n",
      "Instructions for updating:\n",
      "Deprecated in favor of operator or tf.math.divide.\n",
      "sum(x): 600\n",
      "prod(y): 6\n"
     ]
    }
   ],
   "source": [
    "'''we need to run the graph inorder to know ,what value (x,y) holds'''\n",
    "sum_x = tf.reduce_sum(x,name='sum_x') #sum of elements within the palceholder\n",
    "prod_y = tf.reduce_prod(y,name='prod_y') #product of elements within the ph\n",
    "\n",
    "final_div = tf.div(sum_x,prod_y,name='final_div')#element wise division\n",
    "\n",
    "\n",
    "final_mean = tf.reduce_mean([sum_x,prod_y],name='final_mean')#taking the mean of array of values\n",
    "\n",
    "#STARTING THE SESSION\n",
    "\n",
    "sess = tf.Session()\n",
    "print(\"sum(x):\", sess.run(sum_x,feed_dict={x:[100,200,300]}))\n",
    "print(\"prod(y):\", sess.run(prod_y,feed_dict={y:[1,2,3]}))\n",
    "writer = tf.summary.FileWriter('./tensorflow_example',sess.graph)\n",
    "writer.close()\n",
    "sess.close()\n",
    "\n"
   ]
  },
  {
   "cell_type": "markdown",
   "metadata": {},
   "source": [
    "Summary :- Begins with a session,end it out. Writer creates an event list and\n",
    "logs em into the given directory. To run , pass em into sess.run() provided ,\n",
    "we add in the feed_dict(dictionary of values that are needed)"
   ]
  },
  {
   "cell_type": "markdown",
   "metadata": {},
   "source": [
    " "
   ]
  },
  {
   "cell_type": "markdown",
   "metadata": {},
   "source": [
    " "
   ]
  },
  {
   "cell_type": "markdown",
   "metadata": {},
   "source": [
    " "
   ]
  },
  {
   "cell_type": "markdown",
   "metadata": {},
   "source": [
    " "
   ]
  },
  {
   "cell_type": "markdown",
   "metadata": {},
   "source": [
    "**FETCHES & FEED DICTIONARY**\n",
    "\n",
    "\n",
    ": we give fetches and feed_dict pass into every session.run command. fetches parameter indicate what it is we want to compute and the feed dictionary specifies the placeholder values for that computation"
   ]
  },
  {
   "cell_type": "code",
   "execution_count": 5,
   "metadata": {},
   "outputs": [],
   "source": [
    "W = tf.constant([10,100],name='const_W')\n",
    "'''placeholders, where values/shapes arent given, can hold any shape tensors'''\n",
    "x = tf.placeholder(tf.int32,name='x')\n",
    "b = tf.placeholder(tf.int32,name='b')\n",
    "#Simple multiplication\n",
    "\n",
    "Wx = tf.multiply(W,x,name='Wx')\n",
    "y=tf.add(Wx,b,name='y')"
   ]
  },
  {
   "cell_type": "markdown",
   "metadata": {},
   "source": [
    "The code simply represents a fetch , i.e node of the graph we want to compute.\n",
    "feed_dict is used to pass the value for the placeholders."
   ]
  },
  {
   "cell_type": "code",
   "execution_count": 6,
   "metadata": {},
   "outputs": [
    {
     "name": "stdout",
     "output_type": "stream",
     "text": [
      "Inter Result : =  [  30 3300]\n",
      "Final Result : =  [  57 5009]\n"
     ]
    }
   ],
   "source": [
    "with tf.Session() as sess:\n",
    "    print(\"Inter Result : = \",sess.run(Wx,feed_dict={x:[3,33]}))\n",
    "    print(\"Final Result : = \",sess.run(y,feed_dict={x:[5,50],b:[7,9]}))\n",
    "    \n",
    "writer = tf.summary.FileWriter('./fetchesAndFeed',sess.graph)\n",
    "writer.close()"
   ]
  },
  {
   "cell_type": "markdown",
   "metadata": {},
   "source": [
    " \n",
    " "
   ]
  },
  {
   "cell_type": "markdown",
   "metadata": {},
   "source": [
    " "
   ]
  },
  {
   "cell_type": "markdown",
   "metadata": {},
   "source": [
    " "
   ]
  },
  {
   "cell_type": "markdown",
   "metadata": {},
   "source": [
    "**Variables**\n",
    "\n",
    ":Values within a variable can be changed, its a mutable tensor.\n",
    "In supervised learning ,  lets say regression here.\n",
    "The values of a & b in the line keeps on changing as our aim is to get the minimum error,these intermediate results are\n",
    "stored in variables"
   ]
  },
  {
   "cell_type": "code",
   "execution_count": 9,
   "metadata": {},
   "outputs": [],
   "source": [
    "W = tf.Variable([2.5,4.0],tf.float32,name='var_W')\n",
    "x = tf.placeholder(tf.float32, name='x')\n",
    "b = tf.Variable([5.0,10.0],tf.float32, name='var_b')\n",
    "\n",
    "y = W*x + b  #Typical Linear Regression\n"
   ]
  },
  {
   "cell_type": "markdown",
   "metadata": {},
   "source": [
    "Now that we've initialized our variable , we need our graph to know that we've something as such declared.\n",
    "For this purpose, we use tf.global_variable_initializer()."
   ]
  },
  {
   "cell_type": "code",
   "execution_count": 10,
   "metadata": {},
   "outputs": [],
   "source": [
    "init  = tf.global_variables_initializer()"
   ]
  },
  {
   "cell_type": "code",
   "execution_count": 11,
   "metadata": {},
   "outputs": [
    {
     "name": "stdout",
     "output_type": "stream",
     "text": [
      "final result :  [ 30. 410.]\n"
     ]
    }
   ],
   "source": [
    "with tf.Session() as sess:\n",
    "    sess.run(init)  #calling the initializer \n",
    "    print(\"final result : \",sess.run(y,feed_dict={x:[10,100]}))"
   ]
  },
  {
   "cell_type": "code",
   "execution_count": 18,
   "metadata": {},
   "outputs": [],
   "source": [
    "#Now changing the values , we get:\n",
    "number = tf.Variable(3)\n",
    "multiplier = tf.Variable(2)"
   ]
  },
  {
   "cell_type": "code",
   "execution_count": 19,
   "metadata": {},
   "outputs": [
    {
     "name": "stdout",
     "output_type": "stream",
     "text": [
      "Result * multiplier : -  6\n",
      "Increment Multiplier,new_value : -  3\n",
      "Result * multiplier : -  18\n",
      "Increment Multiplier,new_value : -  4\n",
      "Result * multiplier : -  72\n",
      "Increment Multiplier,new_value : -  5\n",
      "Result * multiplier : -  360\n",
      "Increment Multiplier,new_value : -  6\n",
      "Result * multiplier : -  2160\n",
      "Increment Multiplier,new_value : -  7\n",
      "Result * multiplier : -  15120\n",
      "Increment Multiplier,new_value : -  8\n",
      "Result * multiplier : -  120960\n",
      "Increment Multiplier,new_value : -  9\n",
      "Result * multiplier : -  1088640\n",
      "Increment Multiplier,new_value : -  10\n",
      "Result * multiplier : -  10886400\n",
      "Increment Multiplier,new_value : -  11\n",
      "Result * multiplier : -  119750400\n",
      "Increment Multiplier,new_value : -  12\n"
     ]
    }
   ],
   "source": [
    "init = tf.global_variables_initializer()\n",
    "result = number.assign(tf.multiply(number,multiplier))\n",
    "with tf.Session() as sess:\n",
    "    sess.run(init)\n",
    "    for i in range(10):\n",
    "        print(\"Result * multiplier : - \",sess.run(result))\n",
    "        print(\"Increment Multiplier,new_value : - \",sess.run(multiplier.assign_add(1)))"
   ]
  },
  {
   "cell_type": "markdown",
   "metadata": {},
   "source": [
    "The Above code shows , varying nature of a variable. Like any use-case , This is something of a common nature to a variable"
   ]
  },
  {
   "cell_type": "code",
   "execution_count": null,
   "metadata": {},
   "outputs": [],
   "source": []
  }
 ],
 "metadata": {
  "kernelspec": {
   "display_name": "Python 3",
   "language": "python",
   "name": "python3"
  },
  "language_info": {
   "codemirror_mode": {
    "name": "ipython",
    "version": 3
   },
   "file_extension": ".py",
   "mimetype": "text/x-python",
   "name": "python",
   "nbconvert_exporter": "python",
   "pygments_lexer": "ipython3",
   "version": "3.7.7"
  }
 },
 "nbformat": 4,
 "nbformat_minor": 2
}
