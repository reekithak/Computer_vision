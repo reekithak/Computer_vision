{
 "cells": [
  {
   "cell_type": "markdown",
   "metadata": {},
   "source": [
    "# **Program with basic explanation of tensorflow workflow - [purpose: To understand Tf Workflow]** - 1"
   ]
  },
  {
   "cell_type": "markdown",
   "metadata": {},
   "source": [
    " "
   ]
  },
  {
   "cell_type": "markdown",
   "metadata": {},
   "source": [
    " "
   ]
  },
  {
   "cell_type": "code",
   "execution_count": 122,
   "metadata": {},
   "outputs": [],
   "source": [
    "import matplotlib.pyplot as plt\n",
    "from IPython.display import Image\n",
    "%matplotlib inline\n",
    "img_1 = Image(filename = r\"C:/users/Akhil Sanker/Downloads/1.png\", width = 600, height = 300)\n",
    "img_2 = Image(filename = r\"C:/users/Akhil Sanker/Downloads/2.png\", width = 600, height = 300)"
   ]
  },
  {
   "cell_type": "code",
   "execution_count": 123,
   "metadata": {},
   "outputs": [],
   "source": [
    "#import tensorflow as tf\n",
    "import tensorflow.compat.v1 as tf\n",
    "tf.disable_v2_behavior()\n",
    "#eager execution :- runs and evaluates immediately , without forming grpahs"
   ]
  },
  {
   "cell_type": "markdown",
   "metadata": {},
   "source": [
    "**PLACEHOLDERS**"
   ]
  },
  {
   "cell_type": "markdown",
   "metadata": {},
   "source": [
    "tf.placeholder - similar to variables , can be fed into the runtime using feed_dict within session.run , no initial value needed\n",
    "\n",
    "tf.variable - you can provide initial values while declaring it\n",
    "\n",
    "\n",
    "\n",
    "**#Sample : 1**"
   ]
  },
  {
   "cell_type": "code",
   "execution_count": 124,
   "metadata": {},
   "outputs": [],
   "source": [
    "x = tf.placeholder(tf.int32,shape=[3],name='x')\n",
    "'''It is of type int32 with shape(3,1)i.e 1D vector with 3 elements and given the name\n",
    "x, similarly another placeholder is created , namely y . We treat these as\n",
    "similar to constants'''\n",
    "y = tf.placeholder(tf.int32 , shape=[3],name='y')"
   ]
  },
  {
   "cell_type": "code",
   "execution_count": 125,
   "metadata": {},
   "outputs": [
    {
     "name": "stdout",
     "output_type": "stream",
     "text": [
      "sum(x): 600\n",
      "prod(y): 6\n",
      "WARNING:tensorflow:Issue encountered when serializing variables.\n",
      "Type is unsupported, or the types of the items don't match field type in CollectionDef. Note this is a warning and probably safe to ignore.\n",
      "tf.float32 has type DType, but expected one of: int, long, bool\n",
      "WARNING:tensorflow:Issue encountered when serializing trainable_variables.\n",
      "Type is unsupported, or the types of the items don't match field type in CollectionDef. Note this is a warning and probably safe to ignore.\n",
      "tf.float32 has type DType, but expected one of: int, long, bool\n"
     ]
    }
   ],
   "source": [
    "'''we need to run the graph inorder to know ,what value (x,y) holds'''\n",
    "sum_x = tf.reduce_sum(x,name='sum_x') #sum of elements within the palceholder\n",
    "prod_y = tf.reduce_prod(y,name='prod_y') #product of elements within the ph\n",
    "\n",
    "final_div = tf.div(sum_x,prod_y,name='final_div')#element wise division\n",
    "\n",
    "\n",
    "final_mean = tf.reduce_mean([sum_x,prod_y],name='final_mean')#taking the mean of array of values\n",
    "\n",
    "#STARTING THE SESSION\n",
    "\n",
    "sess = tf.Session()\n",
    "print(\"sum(x):\", sess.run(sum_x,feed_dict={x:[100,200,300]}))\n",
    "print(\"prod(y):\", sess.run(prod_y,feed_dict={y:[1,2,3]}))\n",
    "writer = tf.summary.FileWriter('./tensorflow_example',sess.graph)\n",
    "writer.close()\n",
    "sess.close()\n",
    "\n"
   ]
  },
  {
   "cell_type": "markdown",
   "metadata": {},
   "source": [
    "Summary :- Begins with a session,end it out. Writer creates an event list and\n",
    "logs em into the given directory. To run , pass em into sess.run() provided ,\n",
    "we add in the feed_dict(dictionary of values that are needed)"
   ]
  },
  {
   "cell_type": "markdown",
   "metadata": {},
   "source": [
    " "
   ]
  },
  {
   "cell_type": "markdown",
   "metadata": {},
   "source": [
    " "
   ]
  },
  {
   "cell_type": "markdown",
   "metadata": {},
   "source": [
    " "
   ]
  },
  {
   "cell_type": "markdown",
   "metadata": {},
   "source": [
    " "
   ]
  },
  {
   "cell_type": "markdown",
   "metadata": {},
   "source": [
    "**FETCHES & FEED DICTIONARY**\n",
    "\n",
    "\n",
    ": we give fetches and feed_dict pass into every session.run command. fetches parameter indicate what it is we want to compute and the feed dictionary specifies the placeholder values for that computation"
   ]
  },
  {
   "cell_type": "code",
   "execution_count": 126,
   "metadata": {},
   "outputs": [],
   "source": [
    "W = tf.constant([10,100],name='const_W')\n",
    "'''placeholders, where values/shapes arent given, can hold any shape tensors'''\n",
    "x = tf.placeholder(tf.int32,name='x')\n",
    "b = tf.placeholder(tf.int32,name='b')\n",
    "#Simple multiplication\n",
    "\n",
    "Wx = tf.multiply(W,x,name='Wx')\n",
    "y=tf.add(Wx,b,name='y')"
   ]
  },
  {
   "cell_type": "markdown",
   "metadata": {},
   "source": [
    "The code simply represents a fetch , i.e node of the graph we want to compute.\n",
    "feed_dict is used to pass the value for the placeholders."
   ]
  },
  {
   "cell_type": "code",
   "execution_count": 127,
   "metadata": {},
   "outputs": [
    {
     "name": "stdout",
     "output_type": "stream",
     "text": [
      "Inter Result : =  [  30 3300]\n",
      "Final Result : =  [  57 5009]\n",
      "WARNING:tensorflow:Issue encountered when serializing variables.\n",
      "Type is unsupported, or the types of the items don't match field type in CollectionDef. Note this is a warning and probably safe to ignore.\n",
      "tf.float32 has type DType, but expected one of: int, long, bool\n",
      "WARNING:tensorflow:Issue encountered when serializing trainable_variables.\n",
      "Type is unsupported, or the types of the items don't match field type in CollectionDef. Note this is a warning and probably safe to ignore.\n",
      "tf.float32 has type DType, but expected one of: int, long, bool\n"
     ]
    }
   ],
   "source": [
    "with tf.Session() as sess:\n",
    "    print(\"Inter Result : = \",sess.run(Wx,feed_dict={x:[3,33]}))\n",
    "    print(\"Final Result : = \",sess.run(y,feed_dict={x:[5,50],b:[7,9]}))\n",
    "    \n",
    "writer = tf.summary.FileWriter('./fetchesAndFeed',sess.graph)\n",
    "writer.close()"
   ]
  },
  {
   "cell_type": "markdown",
   "metadata": {},
   "source": [
    " \n",
    " "
   ]
  },
  {
   "cell_type": "markdown",
   "metadata": {},
   "source": [
    " "
   ]
  },
  {
   "cell_type": "markdown",
   "metadata": {},
   "source": [
    " "
   ]
  },
  {
   "cell_type": "markdown",
   "metadata": {},
   "source": [
    "**Variables**\n",
    "\n",
    ":Values within a variable can be changed, its a mutable tensor.\n",
    "In supervised learning ,  lets say regression here.\n",
    "The values of a & b in the line keeps on changing as our aim is to get the minimum error,these intermediate results are\n",
    "stored in variables"
   ]
  },
  {
   "cell_type": "code",
   "execution_count": 128,
   "metadata": {},
   "outputs": [],
   "source": [
    "W = tf.Variable([2.5,4.0],tf.float32,name='var_W')\n",
    "x = tf.placeholder(tf.float32, name='x')\n",
    "b = tf.Variable([5.0,10.0],tf.float32, name='var_b')\n",
    "\n",
    "y = W*x + b  #Typical Linear Regression\n"
   ]
  },
  {
   "cell_type": "markdown",
   "metadata": {},
   "source": [
    "Now that we've initialized our variable , we need our graph to know that we've something as such declared.\n",
    "For this purpose, we use tf.global_variable_initializer()."
   ]
  },
  {
   "cell_type": "code",
   "execution_count": 129,
   "metadata": {},
   "outputs": [],
   "source": [
    "init  = tf.global_variables_initializer()"
   ]
  },
  {
   "cell_type": "code",
   "execution_count": 130,
   "metadata": {},
   "outputs": [
    {
     "name": "stdout",
     "output_type": "stream",
     "text": [
      "final result :  [ 30. 410.]\n"
     ]
    }
   ],
   "source": [
    "with tf.Session() as sess:\n",
    "    sess.run(init)  #calling the initializer \n",
    "    print(\"final result : \",sess.run(y,feed_dict={x:[10,100]}))"
   ]
  },
  {
   "cell_type": "code",
   "execution_count": 131,
   "metadata": {},
   "outputs": [],
   "source": [
    "#Now changing the values , we get:\n",
    "number = tf.Variable(3)\n",
    "multiplier = tf.Variable(2)"
   ]
  },
  {
   "cell_type": "code",
   "execution_count": 132,
   "metadata": {},
   "outputs": [
    {
     "name": "stdout",
     "output_type": "stream",
     "text": [
      "Result * multiplier : -  6\n",
      "Increment Multiplier,new_value : -  3\n",
      "Result * multiplier : -  18\n",
      "Increment Multiplier,new_value : -  4\n",
      "Result * multiplier : -  72\n",
      "Increment Multiplier,new_value : -  5\n",
      "Result * multiplier : -  360\n",
      "Increment Multiplier,new_value : -  6\n",
      "Result * multiplier : -  2160\n",
      "Increment Multiplier,new_value : -  7\n",
      "Result * multiplier : -  15120\n",
      "Increment Multiplier,new_value : -  8\n",
      "Result * multiplier : -  120960\n",
      "Increment Multiplier,new_value : -  9\n",
      "Result * multiplier : -  1088640\n",
      "Increment Multiplier,new_value : -  10\n",
      "Result * multiplier : -  10886400\n",
      "Increment Multiplier,new_value : -  11\n",
      "Result * multiplier : -  119750400\n",
      "Increment Multiplier,new_value : -  12\n"
     ]
    }
   ],
   "source": [
    "init = tf.global_variables_initializer()\n",
    "result = number.assign(tf.multiply(number,multiplier))\n",
    "with tf.Session() as sess:\n",
    "    sess.run(init)\n",
    "    for i in range(10):\n",
    "        print(\"Result * multiplier : - \",sess.run(result))\n",
    "        print(\"Increment Multiplier,new_value : - \",sess.run(multiplier.assign_add(1)))"
   ]
  },
  {
   "cell_type": "markdown",
   "metadata": {},
   "source": [
    "The Above code shows , varying nature of a variable. Like any use-case , This is something of a common nature to a variable"
   ]
  },
  {
   "cell_type": "markdown",
   "metadata": {},
   "source": [
    " "
   ]
  },
  {
   "cell_type": "markdown",
   "metadata": {},
   "source": [
    " \n",
    " \n",
    "    "
   ]
  },
  {
   "cell_type": "markdown",
   "metadata": {},
   "source": [
    " "
   ]
  },
  {
   "cell_type": "markdown",
   "metadata": {},
   "source": [
    " "
   ]
  },
  {
   "cell_type": "markdown",
   "metadata": {},
   "source": [
    "**Mutiple Graphs for a Tf Program**:\n",
    "\n",
    "We can explicitly create as many graphs inside a TensorFlow program. Any TensorFlow program have a default graph which contains all the placeholders and variables you have instantiated. But we can logically segment the graph by instantiating a graph explicitly using tf.graph() ."
   ]
  },
  {
   "cell_type": "code",
   "execution_count": 133,
   "metadata": {},
   "outputs": [
    {
     "data": {
      "text/plain": [
       "'We need to set g1 to **default** to add tensors to the graph'"
      ]
     },
     "execution_count": 133,
     "metadata": {},
     "output_type": "execute_result"
    }
   ],
   "source": [
    "g1 = tf.Graph()\n",
    "'''We need to set g1 to **default** to add tensors to the graph'''"
   ]
  },
  {
   "cell_type": "code",
   "execution_count": 134,
   "metadata": {},
   "outputs": [
    {
     "name": "stdout",
     "output_type": "stream",
     "text": [
      "[ 53 704]\n"
     ]
    }
   ],
   "source": [
    "with g1.as_default():\n",
    "    with tf.Session() as sess:\n",
    "        A = tf.constant([5,7],tf.int32,name='A')\n",
    "        x = tf.placeholder(tf.int32,name='x')\n",
    "        b = tf.constant([3,4],tf.int32,name='b')\n",
    "        y = A*x+b\n",
    "        print(sess.run(y,feed_dict={x:[10,100]}))\n",
    "        \n",
    "        assert y.graph ==g1 \n",
    "        '''The assert statement makes sure that the tensors and computations are within the specified graph only'''"
   ]
  },
  {
   "cell_type": "code",
   "execution_count": 135,
   "metadata": {},
   "outputs": [],
   "source": [
    "g2 = tf.Graph()"
   ]
  },
  {
   "cell_type": "code",
   "execution_count": 136,
   "metadata": {},
   "outputs": [
    {
     "name": "stdout",
     "output_type": "stream",
     "text": [
      "[  125 16807]\n"
     ]
    }
   ],
   "source": [
    "with g2.as_default():\n",
    "    with tf.Session() as sess:\n",
    "        A = tf.constant([5,7],tf.int32,name='A')\n",
    "        x = tf.placeholder(tf.int32,name='x')\n",
    "        y = tf.pow(A,x,name='y')\n",
    "        print(sess.run(y,feed_dict={x:[3,5]}))\n",
    "        assert y.graph == g2    \n",
    "        '''A new graph g2'''"
   ]
  },
  {
   "cell_type": "code",
   "execution_count": 137,
   "metadata": {},
   "outputs": [
    {
     "name": "stdout",
     "output_type": "stream",
     "text": [
      "[ 8 12]\n"
     ]
    }
   ],
   "source": [
    "'''Now accessing the main / default graph of the tensorflow program'''\n",
    "default_graph = tf.get_default_graph()\n",
    "with tf.Session() as sess:\n",
    "    A = tf.constant([5,7],tf.int32,name='A')\n",
    "    x = tf.placeholder(tf.int32,name='x')\n",
    "    y = A + x\n",
    "    print(sess.run(y,feed_dict={x:[3,5]}))\n",
    "    \n",
    "    assert y.graph == default_graph"
   ]
  },
  {
   "cell_type": "markdown",
   "metadata": {},
   "source": [
    " "
   ]
  },
  {
   "cell_type": "markdown",
   "metadata": {},
   "source": [
    " "
   ]
  },
  {
   "cell_type": "markdown",
   "metadata": {},
   "source": [
    " "
   ]
  },
  {
   "cell_type": "markdown",
   "metadata": {},
   "source": [
    "**Named Scope - Tensorboard**\n",
    "\n",
    ": Tensorboard is useful for debugging tensorflow codes , as the graph becomes huge we use tensorboard to get a view on our graph structure"
   ]
  },
  {
   "cell_type": "code",
   "execution_count": 138,
   "metadata": {},
   "outputs": [],
   "source": [
    "A = tf.constant([4],tf.int32,name='A')\n",
    "B = tf.constant([4],tf.int32,name='B')\n",
    "C = tf.constant([4],tf.int32,name='C')\n",
    "\n",
    "x = tf.placeholder(tf.int32,name='x')\n",
    "\n",
    "# y = Ax^2 + Bx + C\n",
    "\n",
    "Ax2_1 = tf.multiply(A,tf.pow(x,2),name='Ax2_1')\n",
    "Bx = tf.multiply(A,x,name='Bx')\n",
    "y1 = tf.add_n([Ax2_1,Bx,C],name='y1')\n",
    "\n",
    "# y2 = Ax^2 + Bx^2\n",
    "\n",
    "Ax2_2 = tf.multiply(A,tf.pow(x,2),name='Ax2_2')\n",
    "Bx2 = tf.multiply(B,tf.pow(x,2),name='Bx2')\n",
    "y2 = tf.add_n([Ax2_2,Bx2],name='y2')\n",
    "\n",
    "y = y1 + y2"
   ]
  },
  {
   "cell_type": "code",
   "execution_count": 139,
   "metadata": {},
   "outputs": [
    {
     "name": "stdout",
     "output_type": "stream",
     "text": [
      "[1244]\n",
      "WARNING:tensorflow:Issue encountered when serializing variables.\n",
      "Type is unsupported, or the types of the items don't match field type in CollectionDef. Note this is a warning and probably safe to ignore.\n",
      "tf.float32 has type DType, but expected one of: int, long, bool\n",
      "WARNING:tensorflow:Issue encountered when serializing trainable_variables.\n",
      "Type is unsupported, or the types of the items don't match field type in CollectionDef. Note this is a warning and probably safe to ignore.\n",
      "tf.float32 has type DType, but expected one of: int, long, bool\n"
     ]
    },
    {
     "data": {
      "image/png": "[encoded data removed]",
      "text/plain": [
       "<IPython.core.display.Image object>"
      ]
     },
     "execution_count": 139,
     "metadata": {
      "image/png": {
       "height": 300,
       "width": 600
      }
     },
     "output_type": "execute_result"
    }
   ],
   "source": [
    "with tf.Session() as sess:\n",
    "    print(sess.run(y,feed_dict ={x:[10]}))\n",
    "writer = tf.summary.FileWriter('./named_scope',sess.graph)\n",
    "writer.close()\n",
    "img_1"
   ]
  },
  {
   "cell_type": "markdown",
   "metadata": {},
   "source": [
    "We use namedscope so that we wrap up units and makes the graph looks better. And there's less mess and instead there's proper arrangement and management:\n",
    "\n",
    "The above graph looks complicated , here we use namedscope to make it look much better"
   ]
  },
  {
   "cell_type": "markdown",
   "metadata": {},
   "source": [
    "**Rewriting the Above code for better graphical structure and less complexity**"
   ]
  },
  {
   "cell_type": "code",
   "execution_count": 140,
   "metadata": {},
   "outputs": [
    {
     "name": "stdout",
     "output_type": "stream",
     "text": [
      "[1244]\n",
      "WARNING:tensorflow:Issue encountered when serializing variables.\n",
      "Type is unsupported, or the types of the items don't match field type in CollectionDef. Note this is a warning and probably safe to ignore.\n",
      "tf.float32 has type DType, but expected one of: int, long, bool\n",
      "WARNING:tensorflow:Issue encountered when serializing trainable_variables.\n",
      "Type is unsupported, or the types of the items don't match field type in CollectionDef. Note this is a warning and probably safe to ignore.\n",
      "tf.float32 has type DType, but expected one of: int, long, bool\n"
     ]
    },
    {
     "data": {
      "image/png": "[encoded data removed]",
      "text/plain": [
       "<IPython.core.display.Image object>"
      ]
     },
     "execution_count": 140,
     "metadata": {
      "image/png": {
       "height": 300,
       "width": 600
      }
     },
     "output_type": "execute_result"
    }
   ],
   "source": [
    "A = tf.constant([4],tf.int32,name='A')\n",
    "B = tf.constant([4],tf.int32,name='B')\n",
    "C = tf.constant([4],tf.int32,name='C')\n",
    "\n",
    "x = tf.placeholder(tf.int32,name='x')\n",
    "\n",
    "# y = Ax^2 + Bx + C\n",
    "with tf.name_scope(\"Equation1\"):\n",
    "    \n",
    "    Ax2_1 = tf.multiply(A,tf.pow(x,2),name='Ax2_1')\n",
    "    Bx = tf.multiply(A,x,name='Bx')\n",
    "    y1 = tf.add_n([Ax2_1,Bx,C],name='y1')\n",
    "\n",
    "# y2 = Ax^2 + Bx^2\n",
    "with tf.name_scope(\"Equation2\"):\n",
    "    Ax2_2 = tf.multiply(A,tf.pow(x,2),name='Ax2_2')\n",
    "    Bx2 = tf.multiply(B,tf.pow(x,2),name='Bx2')\n",
    "    y2 = tf.add_n([Ax2_2,Bx2],name='y2')\n",
    "with tf.name_scope(\"final_sum\"):\n",
    "    y = y1 + y2\n",
    "    \n",
    "with tf.Session() as sess:\n",
    "    print(sess.run(y,feed_dict={x:[10]}))\n",
    "writer = tf.summary.FileWriter('./named_scope',sess.graph)\n",
    "writer.close()\n",
    "img_2"
   ]
  },
  {
   "cell_type": "code",
   "execution_count": null,
   "metadata": {},
   "outputs": [],
   "source": []
  }
 ],
 "metadata": {
  "kernelspec": {
   "display_name": "Python 3",
   "language": "python",
   "name": "python3"
  },
  "language_info": {
   "codemirror_mode": {
    "name": "ipython",
    "version": 3
   },
   "file_extension": ".py",
   "mimetype": "text/x-python",
   "name": "python",
   "nbconvert_exporter": "python",
   "pygments_lexer": "ipython3",
   "version": "3.7.7"
  }
 },
 "nbformat": 4,
 "nbformat_minor": 2
}
