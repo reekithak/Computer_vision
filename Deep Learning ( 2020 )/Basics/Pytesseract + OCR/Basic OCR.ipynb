{
 "cells": [
  {
   "cell_type": "markdown",
   "metadata": {},
   "source": [
    "**Pytesseract + OCR ( Optical character recognition )**"
   ]
  },
  {
   "cell_type": "markdown",
   "metadata": {},
   "source": [
    "- Libraries [ opencv , pytesseract ] \n",
    "- install tesseract-ocr "
   ]
  },
  {
   "cell_type": "code",
   "execution_count": 27,
   "metadata": {
    "ExecuteTime": {
     "end_time": "2020-10-09T20:54:41.224343Z",
     "start_time": "2020-10-09T20:54:36.997477Z"
    }
   },
   "outputs": [],
   "source": [
    "import pytesseract \n",
    "pytesseract.pytesseract.tesseract_cmd = r\"C:\\Program Files\\Tesseract-OCR\\tesseract.exe\"\n",
    "import matplotlib.pyplot as plt\n",
    "%matplotlib inline"
   ]
  },
  {
   "cell_type": "code",
   "execution_count": 28,
   "metadata": {
    "ExecuteTime": {
     "end_time": "2020-10-09T20:54:41.255199Z",
     "start_time": "2020-10-09T20:54:41.231263Z"
    }
   },
   "outputs": [],
   "source": [
    "import cv2"
   ]
  },
  {
   "cell_type": "code",
   "execution_count": 57,
   "metadata": {
    "ExecuteTime": {
     "end_time": "2020-10-09T21:03:39.224876Z",
     "start_time": "2020-10-09T21:03:38.746146Z"
    }
   },
   "outputs": [],
   "source": [
    "img = cv2.imread('4.png') #read\n",
    "gray = cv2.cvtColor(img,cv2.COLOR_BGR2GRAY) #apply gray"
   ]
  },
  {
   "cell_type": "code",
   "execution_count": 58,
   "metadata": {
    "ExecuteTime": {
     "end_time": "2020-10-09T21:03:39.565675Z",
     "start_time": "2020-10-09T21:03:39.555702Z"
    }
   },
   "outputs": [],
   "source": [
    "ret, thresh1 = cv2.threshold(gray, 0, 255, cv2.THRESH_OTSU | cv2.THRESH_BINARY_INV) #OSTU is performed , to identify binary colors"
   ]
  },
  {
   "cell_type": "code",
   "execution_count": 59,
   "metadata": {
    "ExecuteTime": {
     "end_time": "2020-10-09T21:03:41.393890Z",
     "start_time": "2020-10-09T21:03:40.180284Z"
    }
   },
   "outputs": [],
   "source": [
    "cv2.imshow('sample img',thresh1)\n",
    "cv2.waitKey(0)\n",
    "cv2.destroyAllWindows()"
   ]
  },
  {
   "cell_type": "code",
   "execution_count": 60,
   "metadata": {
    "ExecuteTime": {
     "end_time": "2020-10-09T21:03:42.692415Z",
     "start_time": "2020-10-09T21:03:42.117953Z"
    }
   },
   "outputs": [
    {
     "name": "stdout",
     "output_type": "stream",
     "text": [
      "   \n",
      " \n",
      "\n",
      "   \n",
      "   \n",
      "\n",
      "“Aet as if what\n",
      "you do makes\n",
      "PMs Caneitaen\n",
      "IT DOES.”\n",
      "\n",
      "AS es)\n",
      "\f",
      "\n"
     ]
    }
   ],
   "source": [
    "text = pytesseract.image_to_string(thresh1)\n",
    "print(text)"
   ]
  },
  {
   "cell_type": "code",
   "execution_count": null,
   "metadata": {},
   "outputs": [],
   "source": []
  }
 ],
 "metadata": {
  "kernelspec": {
   "display_name": "Python 3",
   "language": "python",
   "name": "python3"
  },
  "language_info": {
   "codemirror_mode": {
    "name": "ipython",
    "version": 3
   },
   "file_extension": ".py",
   "mimetype": "text/x-python",
   "name": "python",
   "nbconvert_exporter": "python",
   "pygments_lexer": "ipython3",
   "version": "3.7.7"
  }
 },
 "nbformat": 4,
 "nbformat_minor": 4
}
