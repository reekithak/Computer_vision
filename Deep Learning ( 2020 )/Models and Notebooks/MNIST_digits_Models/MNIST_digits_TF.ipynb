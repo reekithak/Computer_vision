{
 "cells": [
  {
   "cell_type": "markdown",
   "metadata": {
    "slideshow": {
     "slide_type": "slide"
    }
   },
   "source": [
    "# MNIST digits classification with TensorFlow"
   ]
  },
  {
   "cell_type": "markdown",
   "metadata": {},
   "source": [
    "<img src=\"images/mnist_sample.png\" style=\"width:30%\">"
   ]
  },
  {
   "cell_type": "code",
   "execution_count": 17,
   "metadata": {},
   "outputs": [
    {
     "name": "stdout",
     "output_type": "stream",
     "text": [
      "We're using TF 1.2.1\n"
     ]
    }
   ],
   "source": [
    "import numpy as np\n",
    "from sklearn.metrics import accuracy_score\n",
    "from matplotlib import pyplot as plt\n",
    "%matplotlib inline\n",
    "import tensorflow as tf\n",
    "print(\"We're using TF\", tf.__version__)"
   ]
  },
  {
   "cell_type": "code",
   "execution_count": 18,
   "metadata": {},
   "outputs": [],
   "source": [
    "import sys\n",
    "sys.path.append(\"../..\")\n",
    "import grading\n",
    "\n",
    "import matplotlib_utils\n",
    "from importlib import reload\n",
    "reload(matplotlib_utils)\n",
    "\n",
    "import grading_utils\n",
    "reload(grading_utils)\n",
    "\n",
    "import keras_utils\n",
    "from keras_utils import reset_tf_session"
   ]
  },
  {
   "cell_type": "markdown",
   "metadata": {},
   "source": [
    "# Look at the data\n",
    "\n",
    "In this task we have 50000 28x28 images of digits from 0 to 9.\n",
    "We will train a classifier on this data."
   ]
  },
  {
   "cell_type": "code",
   "execution_count": 21,
   "metadata": {
    "collapsed": true
   },
   "outputs": [],
   "source": [
    "import preprocessed_mnist\n",
    "X_train, y_train, X_val, y_val, X_test, y_test = preprocessed_mnist.load_dataset_from_file()"
   ]
  },
  {
   "cell_type": "code",
   "execution_count": 22,
   "metadata": {},
   "outputs": [
    {
     "name": "stdout",
     "output_type": "stream",
     "text": [
      "X_train [shape (50000, 28, 28)] sample patch:\n",
      " [[ 0.          0.29803922  0.96470588  0.98823529  0.43921569]\n",
      " [ 0.          0.33333333  0.98823529  0.90196078  0.09803922]\n",
      " [ 0.          0.33333333  0.98823529  0.8745098   0.        ]\n",
      " [ 0.          0.33333333  0.98823529  0.56862745  0.        ]\n",
      " [ 0.          0.3372549   0.99215686  0.88235294  0.        ]]\n",
      "A closeup of a sample patch:\n"
     ]
    },
    {
     "data": {
      "image/png": "[encoded data removed]",
      "text/plain": [
       "<matplotlib.figure.Figure at 0x7f47d0744cf8>"
      ]
     },
     "metadata": {},
     "output_type": "display_data"
    },
    {
     "name": "stdout",
     "output_type": "stream",
     "text": [
      "And the whole sample:\n"
     ]
    },
    {
     "data": {
      "image/png": "[encoded data removed]",
      "text/plain": [
       "<matplotlib.figure.Figure at 0x7f481f907518>"
      ]
     },
     "metadata": {},
     "output_type": "display_data"
    },
    {
     "name": "stdout",
     "output_type": "stream",
     "text": [
      "y_train [shape (50000,)] 10 samples:\n",
      " [5 0 4 1 9 2 1 3 1 4]\n"
     ]
    }
   ],
   "source": [
    "# X contains rgb values divided by 255\n",
    "print(\"X_train [shape %s] sample patch:\\n\" % (str(X_train.shape)), X_train[1, 15:20, 5:10])\n",
    "print(\"A closeup of a sample patch:\")\n",
    "plt.imshow(X_train[1, 15:20, 5:10], cmap=\"Greys\")\n",
    "plt.show()\n",
    "print(\"And the whole sample:\")\n",
    "plt.imshow(X_train[1], cmap=\"Greys\")\n",
    "plt.show()\n",
    "print(\"y_train [shape %s] 10 samples:\\n\" % (str(y_train.shape)), y_train[:10])"
   ]
  },
  {
   "cell_type": "markdown",
   "metadata": {},
   "source": [
    "# Linear model\n",
    "\n",
    "Your task is to train a linear classifier $\\vec{x} \\rightarrow y$ with SGD using TensorFlow.\n",
    "\n",
    "You will need to calculate a logit (a linear transformation) $z_k$ for each class: \n",
    "$$z_k = \\vec{x} \\cdot \\vec{w_k} + b_k \\quad k = 0..9$$\n",
    "\n",
    "And transform logits $z_k$ to valid probabilities $p_k$ with softmax: \n",
    "$$p_k = \\frac{e^{z_k}}{\\sum_{i=0}^{9}{e^{z_i}}} \\quad k = 0..9$$\n",
    "\n",
    "We will use a cross-entropy loss to train our multi-class classifier:\n",
    "$$\\text{cross-entropy}(y, p) = -\\sum_{k=0}^{9}{\\log(p_k)[y = k]}$$ \n",
    "\n",
    "where \n",
    "$$\n",
    "[x]=\\begin{cases}\n",
    "       1, \\quad \\text{if $x$ is true} \\\\\n",
    "       0, \\quad \\text{otherwise}\n",
    "    \\end{cases}\n",
    "$$\n",
    "\n",
    "Cross-entropy minimization pushes $p_k$ close to 1 when $y = k$, which is what we want.\n",
    "\n",
    "Here's the plan:\n",
    "* Flatten the images (28x28 -> 784) with `X_train.reshape((X_train.shape[0], -1))` to simplify our linear model implementation\n",
    "* Use a matrix placeholder for flattened `X_train`\n",
    "* Convert `y_train` to one-hot encoded vectors that are needed for cross-entropy\n",
    "* Use a shared variable `W` for all weights (a column $\\vec{w_k}$ per class) and `b` for all biases.\n",
    "* Aim for ~0.93 validation accuracy"
   ]
  },
  {
   "cell_type": "code",
   "execution_count": 23,
   "metadata": {},
   "outputs": [
    {
     "name": "stdout",
     "output_type": "stream",
     "text": [
      "(50000, 784)\n",
      "(10000, 784)\n"
     ]
    }
   ],
   "source": [
    "X_train_flat = X_train.reshape((X_train.shape[0], -1))\n",
    "print(X_train_flat.shape)\n",
    "\n",
    "X_val_flat = X_val.reshape((X_val.shape[0], -1))\n",
    "print(X_val_flat.shape)"
   ]
  },
  {
   "cell_type": "code",
   "execution_count": 24,
   "metadata": {},
   "outputs": [
    {
     "name": "stdout",
     "output_type": "stream",
     "text": [
      "(50000, 10)\n",
      "[[ 0.  0.  0.  0.  0.  1.  0.  0.  0.  0.]\n",
      " [ 1.  0.  0.  0.  0.  0.  0.  0.  0.  0.]\n",
      " [ 0.  0.  0.  0.  1.  0.  0.  0.  0.  0.]] [5 0 4]\n"
     ]
    }
   ],
   "source": [
    "import keras\n",
    "\n",
    "y_train_oh = keras.utils.to_categorical(y_train, 10)\n",
    "y_val_oh = keras.utils.to_categorical(y_val, 10)\n",
    "\n",
    "print(y_train_oh.shape)\n",
    "print(y_train_oh[:3], y_train[:3])"
   ]
  },
  {
   "cell_type": "code",
   "execution_count": 25,
   "metadata": {
    "collapsed": true
   },
   "outputs": [],
   "source": [
    "# run this again if you remake your graph\n",
    "s = reset_tf_session()"
   ]
  },
  {
   "cell_type": "code",
   "execution_count": 26,
   "metadata": {
    "collapsed": true
   },
   "outputs": [],
   "source": [
    "# Model parameters: W and b\n",
    "W = tf.get_variable(\"W\",shape=(784,10) , dtype=tf.float32 , initializer = tf.contrib.layers.xavier_initializer())### YOUR CODE HERE ### tf.get_variable(...) with shape[0] = 784\n",
    "b = tf.get_variable(\"b\",shape=(10,),dtype=tf.float32,initializer = tf.contrib.layers.xavier_initializer())### YOUR CODE HERE ### tf.get_variable(...)"
   ]
  },
  {
   "cell_type": "code",
   "execution_count": 27,
   "metadata": {
    "collapsed": true
   },
   "outputs": [],
   "source": [
    "# Placeholders for the input data\n",
    "input_X = tf.placeholder(dtype = tf.float32,shape = [None,784])### YOUR CODE HERE ### tf.placeholder(...) for flat X with shape[0] = None for any batch size\n",
    "input_y = tf.placeholder(dtype = tf.float32,shape = [None,10])### YOUR CODE HERE ### tf.placeholder(...) for one-hot encoded true labels"
   ]
  },
  {
   "cell_type": "code",
   "execution_count": 28,
   "metadata": {
    "collapsed": true
   },
   "outputs": [],
   "source": [
    "# Compute predictions\n",
    "logits = tf.matmul(input_X,W)+b### YOUR CODE HERE ### logits for input_X, resulting shape should be [input_X.shape[0], 10]\n",
    "probas = tf.nn.softmax(logits)### YOUR CODE HERE ### apply tf.nn.softmax to logits\n",
    "classes = tf.argmax(probas,1)### YOUR CODE HERE ### apply tf.argmax to find a class index with highest probability\n",
    "\n",
    "# Loss should be a scalar number: average loss over all the objects with tf.reduce_mean().\n",
    "# Use tf.nn.softmax_cross_entropy_with_logits on top of one-hot encoded input_y and logits.\n",
    "# It is identical to calculating cross-entropy on top of probas, but is more numerically friendly (read the docs).\n",
    "loss = tf.reduce_mean(tf.nn.softmax_cross_entropy_with_logits(logits=logits,labels=input_y))### YOUR CODE HERE ### cross-entropy loss\n",
    "\n",
    "# Use a default tf.train.AdamOptimizer to get an SGD step\n",
    "step = tf.train.AdamOptimizer().minimize(loss)### YOUR CODE HERE ### optimizer step that minimizes the loss"
   ]
  },
  {
   "cell_type": "code",
   "execution_count": 29,
   "metadata": {
    "scrolled": false
   },
   "outputs": [
    {
     "data": {
      "text/html": [
       "<img src=\"data:image/jpeg;base64,/9j/4AAQSkZJRgABAQAAAQABAAD/2wBDAAIBAQEBAQIBAQECAgICAgQDAgICAgUEBAMEBgUGBgYFBgYGBwkIBgcJBwYGCAsICQoKCgoKBggLDAsKDAkKCgr/2wBDAQICAgICAgUDAwUKBwYHCgoKCgoKCgoKCgoKCgoKCgoKCgoKCgoKCgoKCgoKCgoKCgoKCgoKCgoKCgoKCgoKCgr/wAARCAEgA2ADASIAAhEBAxEB/8QAHwAAAQUBAQEBAQEAAAAAAAAAAAECAwQFBgcICQoL/8QAtRAAAgEDAwIEAwUFBAQAAAF9AQIDAAQRBRIhMUEGE1FhByJxFDKBkaEII0KxwRVS0fAkM2JyggkKFhcYGRolJicoKSo0NTY3ODk6Q0RFRkdISUpTVFVWV1hZWmNkZWZnaGlqc3R1dnd4eXqDhIWGh4iJipKTlJWWl5iZmqKjpKWmp6ipqrKztLW2t7i5usLDxMXGx8jJytLT1NXW19jZ2uHi4%2BTl5ufo6erx8vP09fb3%2BPn6/8QAHwEAAwEBAQEBAQEBAQAAAAAAAAECAwQFBgcICQoL/8QAtREAAgECBAQDBAcFBAQAAQJ3AAECAxEEBSExBhJBUQdhcRMiMoEIFEKRobHBCSMzUvAVYnLRChYkNOEl8RcYGRomJygpKjU2Nzg5OkNERUZHSElKU1RVVldYWVpjZGVmZ2hpanN0dXZ3eHl6goOEhYaHiImKkpOUlZaXmJmaoqOkpaanqKmqsrO0tba3uLm6wsPExcbHyMnK0tPU1dbX2Nna4uPk5ebn6Onq8vP09fb3%2BPn6/9oADAMBAAIRAxEAPwD9/KKKKACiiigAooooAKKKKACiiigAooooAKKKKACiiigAooooAKKKKACiiigAooooAKKKKACiiigAooooAKKKKACiiigAooooAKKKKACiiigAooooAKKKKACiiigAooooAKKKKACiiigAooooAKKKKACiiigAooooAKKKKACiiigAooooAKKKKACiiigAooooAKKKKACiiigAooooAKKKKACiiigAooooAKKKKACiiigAooooAKKKKACiiigAooooAKKKKACiiigAooooAKKKKACiiigAooooAKKKKACiiigAooooAKKKKACiiigAooooAKKKKACiiigAooooAKKKKACiiigAooooAKKKKACvPfjt%2B1J8FP2b5NGsfil4g1Maj4ilnTQNB8OeF9R1zVNR8lVed4bHTbee5kjiVkMkixlI96biu5c%2BhV4N%2B0P8D/j5/wANJ%2BDv2tv2bLLwfrWueH/B2seFNX8KeOdcutLtLywv7mwuxcQXtraXj288U2noCpt3WVJSCUKK1ABpf/BTL9izWLvxPb2nxXv0h8FWsk/jLUrvwXrEFjoIS0iu9l5dy2iwWsrQzRskMjrJIWKorMrKL2n/APBQ/wDZK1HwBrXxFTx/q9vB4f1ay0vVdE1DwNrNrrkV5ebfscC6PNaLqEr3AYGER27eaAxTcFYjy2b9gH4y%2BMf2a/jn8NfGHinwppHin4o/FS38daHc6U1xeWFpeW0OiywQ3IkihkkiN3pRRwoyYHGDuJVaPi79i/8AaV%2BLmr/Ef45fG34S/CjWvFnjWx8KaPp/gKy%2BI2s2Wm6fY6Hcaldw3qa7b6al5DqDXOqTOksVoPJSKNFZiWcgHsviH9vv9mzwv4a8OeI9XvvG3meK0v5NE8P2vwm8SXGuSRWUscV3NJpMWntf28MLzQq8s0CIpmiy37xM%2Bmaz8RPBHhv4e3XxX8T%2BJbbSvDljo76rf6vqrfZYbSySIzPPMZdvlKsYLNvxtAOcYNfGHin9hH9s/WPgX4X8Nay3hfxV470a58RHRfGV/wDHbxNpGr%2BCLW%2BuUktLO11q1sJLzXIYkjhEy3qw/aTbReYCFGPUfjR/wTotfj1%2Bzb4n%2BHHxD%2BOfjW78d%2BMPhfH4Z17xS3jbWho818tpDE2oJoS3y2FuzzQLK3kRRSEPIBIrSM5AOkg/4KUfsZf8K58V/FbWPite6Jo3giysr7xQ/ifwdq%2Bk3NlZXkxhtb37LeWsVxJaSyK6pcxxtC3luQ%2BEYjj/AI3f8FZP2d/hn8ENU%2BMfgPRfFXiqbQfiD4X8L674Y/4QXXbHU7A6zqVrax3T2cmnNdeV5Fw88DeT5d48aW8MhknjB8r1T/gmJ8ZPHfwq8faR4i8DeG9G8Y%2BI9D0fR7DxDqv7RfjPxut3aWusW%2BoTRyf27AfsEZ8likUSzHe%2BGkxknv8A9qH9gz40/GD4g/F/4g%2BBfEPheOTxfB8LbzwlZ6tfXMSvf%2BE/EdzrUsN40dvJ5ENwGt4VljEzrl2MfyKrgHqFh/wUE/Zb1H4m2XwZh8T%2BJo/Fd5oun6xLoF38N9egudO0%2B9adILu/SSyU6dDut5VeS68pYiFEhQum6j4a/wCCmH7FPi3wZ4s%2BIWkfGC4TR/Bfgi68Zaxe6h4S1W0Fx4et0Z5tWsVntUbVLNVQ4nsxPGxZArEugbB0P9kP4ofEP4mfG74g/G9fD2gxfGj4O%2BHfCF1Y%2BE9duNRl0u4tE11Ltlnns7XzYwNViMT7FZikm6OPA3fN37Y37Kn7UOj/ALDHxS%2BJv7TF34AtIfhD%2BxT8QfBHhePwFqF5cNrzXukWxn1G6W5toBYqE0i3CWcbXAVppCZ22oKAPrPw9/wUl/Yy8TaHrHiPT/i1dQWehppU1/JqnhLVbJmtNSu1s7HUIUuLVGubCWdgovoQ9qoDO0qorMPT9E%2BLvw88R/FLX/gvofiH7T4k8LaXp%2Boa/YR2k22zgvmuBa7pinlF3%2ByzHy1cyKoRmVVkjLfJOofsz%2BIPFegeKfjb/wAFIvF/wz8J%2BBbf9nu5%2BHUlx4f8QTLay6beyQyXmq3k17BbpYOTBbCG2QzCAmT/AEiQsuOw/wCCPngP4u2f7I9r8f8A9pDUDf8AxJ%2BL15H4n8V6g9nJbtJCLSCy01fKl%2BeH/iX2lpI0TYKSzTZAYtkA%2BqqKKKACiiigAooooAKKKKACiiigAooooAKKKKACiiigAooooAKKKKACiiigAooooAKKKKACiiigAooooAKKKKACiiigAooooAK8R0j/AIKMfse6ld69Z6n8Urzw83hzw5c%2BINQk8a%2BEdV0GObSbd0jnv7WTUrWBb63R5IlaW2MqAyxjOXXPtN7FczWcsNndCCZ4mWKYx7/LYjhtp64POO9fmJq//BHL9uX4v6t4X1z43fHHQ31vw14P1Cz1DxRqHxW8TeJx4h1v7ZpV9a6idLvoobLSbaS50xfPsLIBRHJtWWQKgUA%2B2X/b/wD2YbX4aN8WNY8QeKtK0ttcg0axs9c%2BGWv2GqanfzIZIYLLTbixS9v2kQM6/Z4ZAyo7AkIxHReA/wBqz4H/ABH1%2By8J%2BHPEOqQ6vf8AhSfxJDpGteFdS0y7TTYbv7JLLLDeW8UkDrP8hhkVZe%2BzbzXk3xO%2BDn7bvxib4e/G3XPBvwq0P4h/Cjx1NrHh/wAM2vjjUr/Rdcs7jSbvTLmO4vn0qGaxmKXskkbpa3AjMQU%2BYJGxV%2BJPwG/bg1/4y%2BHf2mvA%2BjfCu08WX3ww1XwX4x0LUvFepSWGkLcX8N1a39lcJpwk1AxCN1kt5YrQSlxiWLHIB3Gk/wDBRv8AZA8R694F8LeFfiNqus6n8SfBuleLfBunaJ4H1m9nvND1F9lrqMiQWjNa2%2B7HmSTiNbcMpm8oMCdj4a/tufs3fFf4jXPwn8M%2BL9Ws9ft9LudThsvE/gzVtEW/sbeRI57uyl1G1gjv4I3liDy2zSIvmISQGUnyj9hT9hL4sfsw6/8ADjWfHniDw1dnwd%2Byl4R%2BGN%2B%2BkXM8rNq2lvM1zNF5kEe61bemxmKu235o0wK8a%2BGn/BKv9sbxP8UfC/ib9qb4w2eqRaf4A8V%2BF/GniaD4v%2BJNavPEUur2KW39p2umX0Men6EcqWNpaKUXKgTOI1WgD6l8J/8ABRf9kfxrosfirQfHeuf2Hcarpen6f4lvfh/rdrpWoy6lex2VlJaX09mlteQS3M0UYuIJHhBlQs4VgT6X4W%2BLvw88a/EDxT8LvC/iH7XrnguSzj8T2iWkwWxkuoPtEEZlZBG7tCVkKIzMiyRlgokTd8w%2BOPAnxF8K/wDBPbxp8CP%2BChnif4VeCPAWg/DSLQLb4meHfFt2GadI0trXUntLqzgTTZlmFvJDBHcXTGcoiOTtDdr/AMEr/h98WPDf7ImlfFX9oqwS3%2BJ3xYvpfHXxEhW3aL7Pf36xmG02N8yfZbGOys9pyQLXBoA%2BjaKKKACiiigAooooAKKKKACiiigAooooAKKKKACiiigAooooAKKKKACiiigAooooAKKKKACiiigAooooAKKKKACiiigAooooAKKKKACvF/j14/8A2i/%2BGi/AvwI%2BAvjPwV4fTX/BXiXXtX1Pxf4Lu9aJOnXeh28MMMdvqVj5Yb%2B1JWZmZ8%2BWgAXkn2ivCviLrSWX/BSr4Q6LIoxe/BP4hsjZ53R6t4NOPyZj%2BFJtLcuEJVHaPZv7tWX/APhB/wDgoX/0dB8Gf/DD6t/81FH/AAg//BQv/o6D4M/%2BGH1b/wCaivZqKZB4z/wg/wDwUL/6Og%2BDP/hh9W/%2Baij/AIQf/goX/wBHQfBn/wAMPq3/AM1FezUUAeM/8IP/AMFC/wDo6D4M/wDhh9W/%2Baij/hB/%2BChf/R0HwZ/8MPq3/wA1FezUUAeM/wDCD/8ABQv/AKOg%2BDP/AIYfVv8A5qKP%2BEH/AOChf/R0HwZ/8MPq3/zUV7NRQB4z/wAIP/wUL/6Og%2BDP/hh9W/8Amoo/4Qf/AIKF/wDR0HwZ/wDDD6t/81FezUUAeM/8IP8A8FC/%2BjoPgz/4YfVv/moo/wCEH/4KF/8AR0HwZ/8ADD6t/wDNRXs1FAHjP/CD/wDBQv8A6Og%2BDP8A4YfVv/moo/4Qf/goX/0dB8Gf/DD6t/8ANRXs1FAHjP8Awg//AAUL/wCjoPgz/wCGH1b/AOaij/hB/wDgoX/0dB8Gf/DD6t/81FWtf%2BN/7InwptNI0n46fGH4c%2BHNc1DRYNQNt4u8Q2Fpd3EcmR5%2B24dXZGdJAG6ZRhnggZv/AA1//wAE4P8Ao6L4I/8AhbaP/wDHa5p4zB05OM6sU10cop/c5JntYfhviTF0I1qGBrzhJXUo0a0otd1KNGUWtHqm1puWP%2BEH/wCChf8A0dB8Gf8Aww%2Brf/NRR/wg/wDwUL/6Og%2BDP/hh9W/%2Baiq//DX/APwTg/6Oi%2BCP/hbaP/8AHa9O0DRfhZ4r0Ky8U%2BFtJ8P6lpmpWkd1p2o6fBBNBdQSKHjljkQFXRlIZWUkEEEHBq6WJw9dtU5xlbtJP8mznx2TZzlcIzxuFq0lJ2TqU6lNN72TnTgm7a2Tbtra2p5z/wAIP/wUL/6Og%2BDP/hh9W/8Amoo/4Qf/AIKF/wDR0HwZ/wDDD6t/81FeefD7/go1%2Bxf4v8D2fjDxD8PfE%2Bgz6p441rwtomjXPwe1ue81a9064v45FtIodPZ7omHT552WJXMIBjk2SKyjsviF%2B1R%2By14FsvHtpeaJFp%2BseAvCGteIby28WeBNW0mzu7PTF/0ue3upNOcXtvEzRCSWyS6KiaNgj70V9jzTR/4Qf/goX/0dB8Gf/DD6t/8ANRR/wg//AAUL/wCjoPgz/wCGH1b/AOaiqth%2B1Z%2BxhqHxnk/Z%2BhvLf/hKLfxBHoN1H/wg1%2BLCHVX06PUo7FtQa0Fos72kqTJGZQzg4UFgVGz8a/ir8FfhJ%2Bzzrv7Q%2Bj%2BEdG8Uadpdg0mm2%2BhrbSDVbppRBBaxTAFA0lwyQ7idqsxLdDQBQ/4Qf/goX/0dB8Gf/DD6t/8ANRR/wg//AAUL/wCjoPgz/wCGH1b/AOain/s4fEC2%2BLl54y8D/FH4FeG/CvjDwH4gh0zX9K0fUV1WxkWextr23uba6ktLZ5Y3iuVU74I2WWKVcMoV38k%2BJn7aPiH4DeGfifL8cv2Q/BGneIPAHwsHjuy03QvHQvrO6sjPPAILy6k0uBrCbfA3Kw3EbKshR38phQB6x/wg/wDwUL/6Og%2BDP/hh9W/%2Baij/AIQf/goX/wBHQfBn/wAMPq3/AM1FeaeNP22/h18Pv2fPC3xc8Q%2BF/gbd6h438VyaJ4au9E%2BLME/hT93bXF1Lc3WuyabELeNIbS4DbbaQ%2Bb5US7mkGNr4x/H/AMZ/B34TaN8fLv8AZi%2BGut%2BDf7J0278U6noPxCE8qvd3SQCPSE/soJqoxJG8bSSWhm8xERdxxQB2P/CD/wDBQv8A6Og%2BDP8A4YfVv/moo/4Qf/goX/0dB8Gf/DD6t/8ANRXBad%2B2L4Pn/aAg%2BGuqfAPwxZeFNR%2BKF78O9H8RS69EdUn8QW2mS6gyyab9kCxWrpBKiSi5aQkxOYVjk8xdTwN8Yvix4i%2BIXiv4EeJ/2SPhzpnj/RfB%2Bm%2BJNI0608fSXelXNreXVzbLFeXg0dJbKcNaTEKttOjgHZIdr7QDqf8AhB/%2BChf/AEdB8Gf/AAw%2Brf8AzUUf8IP/AMFC/wDo6D4M/wDhh9W/%2BaivH/Bn7afjnxlommaRa/sc/DyLxb4h%2BKviLwd4at2%2BIbjQr6PRIJWvr06i2jLMpFxa3lskC2blzbs%2B8JuZK0//AAUg%2BHOv%2BALH4x/Cn9mnRtc8IaV8MNH8ffEvU7vWobafw/pGoXN3bgWsUdrNHqU8P9m6jJInmwJstlKSOZUWgD2n/hB/%2BChf/R0HwZ/8MPq3/wA1FH/CD/8ABQv/AKOg%2BDP/AIYfVv8A5qKqeFviZqur/tX%2BMP2avEP7OHhXT7XRvB1p4h8MeIIdeE76tDNcT22y4t/sKiyIkgbBWWfKnJCn5TyPgL9qC8sPG/xZ8PftL/s5eAfCmk/CXw7peoav4g8H%2BK5tfjuLq8S4l/s5YptIspPtKQR20mxBIX/tC2VAWYgAHc/8IP8A8FC/%2BjoPgz/4YfVv/moo/wCEH/4KF/8AR0HwZ/8ADD6t/wDNRXjmvf8ABQbw94U/YE1H9rzxL%2ByJY23jK21vxZo9l8KY9Zt5Zbi90DUdUtbtWvlttiRpBpVzdyyCJxGiMqCZtgktfFz9vvwF8Lv2j/DPwA/4UF4Qmn19PDJitNR8URWeuaoNYu2tjJo2mmyf%2B1YbIKZruTz4PJiSRsHbyAes/wDCD/8ABQv/AKOg%2BDP/AIYfVv8A5qKP%2BEH/AOChf/R0HwZ/8MPq3/zUVyWn/tSeHfGP7Vfin9mT4Xfs4aTrKaB4G1PU9N8T3Oow2ttqutWFxawXGlRr9nfbHG97BG93uYJMlxF5RaB64n4m/t4H4MfD7xre/FL9mr4aaP4p8DfEDw14Z1hLn4jCPw1Cusm1MV1Lq8mlJJAIY7kPLG9mCo2EErKr0Aex/wDCD/8ABQv/AKOg%2BDP/AIYfVv8A5qKoeB/HH7Vng79qzw58Efjd8R/h74m0bxN8PfEOuQzeFfh5faLdWl1pt9oluis9xq98ksbpqkpKhEYNEhDYyD1vg6fSPGXwLt/iXJ4c8HW9/eaG99BdeCdZGqaeDsZ45LW%2B%2Bz27XCEBWD%2BUmc4wRycHxx/ykL%2BF/wD2Rnx5/wCnbwhQB7NRRRQAUUUUAFFFFABXzj8JvFX7d/x10fXvHfhf43/CTQNLt/iF4q0PS9Kv/g/ql/cRWul69f6ZC0twniKBZZHjs1dmWKNdzkBQAK%2Bjq8Z/YP8A%2BSIa5/2Wb4j/APqa63QAf8IP/wAFC/8Ao6D4M/8Ahh9W/wDmoo/4Qf8A4KF/9HQfBn/ww%2Brf/NRXs1FAHjP/AAg//BQv/o6D4M/%2BGH1b/wCaij/hB/8AgoX/ANHQfBn/AMMPq3/zUV7NRQB4z/wg/wDwUL/6Og%2BDP/hh9W/%2Baij/AIQf/goX/wBHQfBn/wAMPq3/AM1FezUUAeM/8IP/AMFC/wDo6D4M/wDhh9W/%2Baij/hB/%2BChf/R0HwZ/8MPq3/wA1FezUUAeM/wDCD/8ABQv/AKOg%2BDP/AIYfVv8A5qKP%2BEH/AOChf/R0HwZ/8MPq3/zUV7NRQB4z/wAIP/wUL/6Og%2BDP/hh9W/8Amoo/4Qf/AIKF/wDR0HwZ/wDDD6t/81FezUUAeM/8IP8A8FC/%2BjoPgz/4YfVv/moo/wCEH/4KF/8AR0HwZ/8ADD6t/wDNRXs1FAHjP/CD/wDBQv8A6Og%2BDP8A4YfVv/moo/4Qf/goX/0dB8Gf/DD6t/8ANRXs1FAHjP8Awg//AAUL/wCjoPgz/wCGH1b/AOaij/hB/wDgoX/0dB8Gf/DD6t/81FezUUAeM/8ACD/8FC/%2BjoPgz/4YfVv/AJqKP%2BEH/wCChf8A0dB8Gf8Aww%2Brf/NRXs1FAHjP/CD/APBQv/o6D4M/%2BGH1b/5qKP8AhB/%2BChf/AEdB8Gf/AAw%2Brf8AzUV7NRQB4z/wg/8AwUL/AOjoPgz/AOGH1b/5qKP%2BEH/4KF/9HQfBn/ww%2Brf/ADUV7NWZr3jXwb4VXf4o8W6ZpoxnN/fxw8f8DYUnKMVduwpSjFXk7I8s/wCEH/4KF/8AR0HwZ/8ADD6t/wDNRR/wg/8AwUL/AOjoPgz/AOGH1b/5qK6mb9qv9l62vP7OuP2kfAMdx/zwfxhZB/8Avky5qzd/tIfs72Fj/al98e/BcFt/z8TeKbRY/wDvoyYrH6zhv%2Bfkf/Ao/wCZgsZg3f8Aex0/vR/%2BSON/4Qf/AIKF/wDR0HwZ/wDDD6t/81FH/CD/APBQv/o6D4M/%2BGH1b/5qKfqP/BQ39g3Srk2d7%2B2V8MRIv3lj8b2L49iVlIB9qzdY/wCCnP8AwT20O2N3e/ti%2BAHQdrPxDFcN/wB8xFm/SsXmWXR3rQ/8Dj/8kc8s3ymG%2BIpr/t%2BH/wAmX/8AhB/%2BChf/AEdB8Gf/AAw%2Brf8AzUUf8IP/AMFC/wDo6D4M/wDhh9W/%2BaivPb7/AILY/wDBMDTrlrS4/aps2Zepg8NarKv4MlqQfwNRf8Pvv%2BCXP/R00H/hJax/8h1h/bmSr/mJp/8Agcf8zlfEfDyf%2B%2BUv/BkP8z0f/hB/%2BChf/R0HwZ/8MPq3/wA1FH/CD/8ABQv/AKOg%2BDP/AIYfVv8A5qK87g/4Lb/8Evbhtsf7U9qD/t%2BFtXUfraCpbz/gtX/wTCsYfPm/aqsGUjpD4d1SQ/klqTR/beTW/wB5p/8Agcf8x/6x8P2v9bpf%2BDIf5nf/APCD/wDBQv8A6Og%2BDP8A4YfVv/moo/4Qf/goX/0dB8Gf/DD6t/8ANRXl0v8AwXH/AOCbRXzNP%2BM%2Br3idpLXwLq5B%2Bm61Fc34s/4L/fsBeG7dp9Lfx3rhUZKaX4OkQ/TNy8I/Ws58QZHBXeJh/wCBJ/lc1oZ3lOLmoYesqknsoc02/RQhNv5Jnuv/AAg//BQv/o6D4M/%2BGH1b/wCaij/hB/8AgoX/ANHQfBn/AMMPq3/zUV8map/wcZfBS9iM/wAPv2edbvUP%2BrHiDxlo2lsfqpuJCtcRrn/ByF4ktndbb9lDwzZID8stz8W4rzI9dtrZsfwya4qnF/DtP/l%2Bn6KT/Q%2BmwmQ8V5g7YPKMbV/wYHGP88NA%2B6v%2BEH/4KF/9HQfBn/ww%2Brf/ADUVb/ZW%2BI3xp8Yax8UPAnx01/wvq2qeAfiFFodnqvhPw1c6Tb3VrLoOj6mrPb3F7eMsiyajKhYS7SsaHapzn8%2B7T/g4X%2BOXiEBvCn7Pvg253fdWK71u4P8A45YDNfUn/BIT46%2BNP2lvCHxn%2BNvxC8J22h6xrfxmH2vS7SK4SOEQ%2BF/D0CYFyiSjckSt8yjluMjBrry3iDK82rOlhpNtK/wtK2i3fqXjuHuKcopqpmeWYnCwbspV6FSjFvflTna8rJu1tk%2Bx9d0UUV7R5QUUUUAFFFFABRRRQAUUUUAFFFFABRRRQAUUUUAFFFFABRRRQAUVy3xt8EWPxG%2BFGu%2BDdS1/XtLgu7El77wzr91pd9HsIkHlXVpJHNCSUClo3VipYZGa8h/Zt8R6N4y/4JYfDPxz%2B0D8WtY06yvPgf4f1Xxl40l8WXFheqn9lW091dy6ikizxO2HZ5xIsnzMdwJzQB9D18u/tC61/Zf/AAVo/Zmsd%2BP7S%2BGPxMtseuJPDE2P/IX6V13/AAT%2B0/4hR/CTW/Efim48Wp4b17xfc6j8NNK8e6td32t6d4deC3SBLya9d7kvLPHdXaR3DtNDFeRQybWiKL4L%2B1J8SvEl1/wW1/ZL8P6z8KPEGgWFnovxKs7PXdVudOe11wS6fpR32q213LOqo0aBhcxQMfMXaGw23lxk/Z0Obzj%2BMor9T3eHMN9bzT2XenWf/gNCtL/20%2B7qKKK6jwgooooAKKKKACiiigAooooAKKKKACiiigDzPUv2ZP2bfjRo%2Bg%2BKfjF%2Bz34H8Wanb%2BH7W1g1HxL4Ts7%2BeOBVLrEsk8bMEDO7BQcAuxxkmqX/AAwP%2Bwr/ANGWfCX/AMNzpn/xiuT%2BL3/BSD9i/wDY%2Bl8OfDT9ov4y/wDCO63feFLPU7Wy/wCEd1G732r74lk32tvIgy8Mo2lg3y5xggnkP%2BH5v/BLL/o6L/yydc/%2BQq8XEYvh2nXlGvOkpp683s7387q9/U0XiHiMqX1SOcTpKnpyLE1IKPWyiq8VHfZRW%2B2p63/wwP8AsK/9GWfCX/w3Omf/ABivTtA0DQvCmhWXhbwtotppumabaR2unadp9ssMFrBGoSOKONAFRFUBVVQAAAAMCvlb/h%2Bb/wAEsv8Ao6L/AMsnXP8A5Cr6e8A%2BOvCvxQ8CaL8S/AuqfbtE8RaRbano975DxfaLW4iWWKTZIqum5HU7WUMM4IB4rowOIyetOSwcqbaWvJy3t58qWl%2B4pcXVeJP3U8xlieTWzrzq8t9L2lVqWvtdJX2v0PCfhh%2Bwv4r8AePPCmtan8Z9N1DQfA/xQ8VeL/DWlw%2BEJILsLrv9rPPaXFyb10lMUuqsUlSGL93CEZCzGQeR61/wRhl17xT498SXnx28OxXHjLwF4/8AC/8AbVr8L0TW7mPxNIri41XUTfF9Uey2iOFAtunljbtTAYe7WH7fnwj1fTrGbSfCniOa%2ButF8W6ld6TL9gt5dLTw5erYajHdyT3aQQMLt0gRml8tiSxdY1d14Twb/wAFPvA/x2m%2BHGo/ASCzlsdd%2BM%2Bo%2BBvG8F/fWOpS6ebfwbq/iFDbXOlX1xZyuxtLA70nmQJNNGwSVT5XpEHXSfsMB/EOq6%2BPihg6n8ddJ%2BI5iGif6v7FpGn6b9gz5/zb/sHmedgbfN2%2BW23c3efGv4Hah%2B0B%2BzzrvwS8f%2BMYre/1qwaNPEGh6WYBZXSSia1uooJZZctDKkL7WdldoznAbA%2BePFv/AAVWlf4IeFPGvwi%2BFOv%2BI73VIPh7J4j8Uy%2BH4LfRtFbxJd6cqQXMA1JrmO4a1vfNVIDdRQNNB5szKSW%2BkPjD8ePD/wAJPgF48%2BPt1o2pXNj4C8P6xql9ZXGnzWktwNOhlllWMTopZW8lgkqho3BDIzKQSAc78Bf2f/ih8KdX8ReO/Gvxa0PxD4q8ceLYtW8aajZeD5rC0ktYNMisLeysbdr6ZrTZ9nglMkstyWZrgbVEqeTxf7OP7Jf7U/wP0Xxxf%2BLP2mPh/wCLPGPjW7Oo3fjO5%2BEV7BPNfBwIRcxnXZFls4IALeG0hNuI1AYOXaRn2/2WvjZ8fvEPxU8TfAb9pUeEbnxFo3grw74rtdS8F6Vc2VoLXVZNSgNk0dzc3DvLbz6XNmcOiypNGRFGQy1zXjL9on9qj4ZfHjX/AIR31z4G8aSyfC/xF4u0fSvC/hS/t73w8bSaGPTIb9mvpxei8Mk0aGNLV2eym8tHVXMQBXT/AIJ5%2BLw4%2BKM3xm8Ny/FOL4wv8RbXxDJ8PH/sKDUX0AeH3hXShqAmERsBuLfbfNNyfOMhH7qsy1/4J0/GnwvN8KtH8E/tM%2BFpfDHwyiuNQXwr4r%2BF9xfWl94iuLya5fVlW11e0WEQiZ0tLZlljtd28GSRImit/BL9ubxnffs66n4y%2BJXiPRvE3xKjudN02y%2BHWnfDTV/Bt/b6zfwqbXTp7PV7m4udjyF2%2B2bViEEM0uCkMjDzDxN/wU5/aE8K/s7fDv4k%2BMta%2BFvhXVdc%2BHfiHxDrGra7oeoNpev6rpl1FDFoGmRrerJBdXKtJIheS5lAjPl28%2BH2AHvXif8AYetPHf7X2l/tReL7vwEF8Oah/aGgro3w0S1164uVsJLOJNS1hruR762iE80qQJDBh1gJZvK%2Bdv7Jn7K37RH7P2keM5/iX%2B0R4P8AGfifxlPNqF/4ztPhndadf3GpsCkUtz5mr3KS20EYjhhtIlgSOOIKGyWYs8NftMfFzxT%2B1F8LdD02Xw0fhp8VPhZqfiXS7KTRLldbsrm1GkupkuvtRgaN11JgYxbhgYwfMOSK8H0v/gq78ctK1b4gX/ivwR4fvLbw/wCDPGWraVoCeGNS0o297pGrQafZWserXE8lr4giuPO3T3Gnxqtkyqso3SopAPeNX/YZ%2Bx/sceCf2R/B2q%2BAdVg8KW1nFf6j8VfhkPE9rqksULiW9Nmb22WO8luXNz5xkcKzSDY2/K8drP8AwSys7DwfbfCr4XfGw6N4S1r4Z6R4D%2BJthqfhoXt54i0iwuru4D288dxAlhdT/wBpaik0vkzoVuhsjjMSGoL79rr9rDQfiRH%2ByFrGofDyb4naj8QtO0XTPGlt4Tv00OPTrnw/qOtNdS6Y2omdpUGkXtqI1vQHZ4JtyAvEvm3xa/4K6fFL4X/DKT4meL2%2BH/hVPCXgXWdX17T9c068nbx3q%2BjaxqOmalo2gut1F5EynTGmVpFumVNQti0e2OWSgD6a079nf48Wn7cN9%2B1Fc/G/wjJ4UvfCUHh1vBifDy6TUEtYZJ7iN/7SOqmMy/abhmY/Y9piURhVb97UOlfsJfDbWvhx4w8BfGjW9T8SzeNvihceN9Z1bR9VvtBuRepdxSaYsc1jdJPGbK2s9Ot0dZQX%2BxK%2BFzsXiW/bU%2BMEfxzOrzWvhOP4Uj4w/wDCuGtpNOuV1lbn%2By/tB1U3RufIEP2z/Rvspt9wi/f%2Bfn9zT/gL%2B1p%2B0Z%2B1F8S/ir4Q%2BHdj4P8ADukWPhrwxr3wk1nXNEvLyS50zUrvVbdr6/gS6h85Zo9L%2B028UbQMIrmIStu3BQDnLr/gjD8CNQ/Zr8RfAzUvid49m1nUrzx/NoHjH/hY/iRZtLj8UahLdyQSxDVc38MYFmssc0hjupLaWeRVkupy294k/wCCbGtX%2BvDSvDnx%2BaHwdqQ8Ht4l0zX9DudX1qV/DtzHcWv2LVri/wB9qsjxIZPOiunDNLJG8ckhcVY/2tP2h9S/Y38c/tIf8LP%2BHGkw/DTWPEa6l4v/AOFeX%2Bo6V4r0zS1fN1p9ousQSQFpI5IMG4uVeSBthZXU0vxk/ad/bG%2BAPww%2BEXjv4j/8If8A294mtvD1h428Haf8MdZltTrF1dWsN%2Bqa4t%2B1pokEf2rEJv0k814Squ7OFUA09G/4JjeB/hR8apPjz%2BzX8UvE3hTWLbwB4h0TQbDXfFOu6/plhqep3EVyNRNnd6p5MkMcyPI1kqokruH3xvGjDY/Z8/ZW/aZ/Z5%2BA0vww8P8A7QXw71DxI%2BsjUpfGGofCa/dtUupdzXt3qMTa8ZLq7nkIfzknhSMKEWPy1RF830L/AIKUeO4P2oE%2BDniq78ESz6z438W%2BGNJ%2BGlvbT2niHRjpFpqN7ZanqF5LctD9k1C20x5ov9GhAS8hKyTCKUiX9iT9s79qb9sTSfE3h218SeCdD1yz8GeGfEGl6xq3wm1qwhs31F7w3Nm2m3mpxT6nbxpaqItWtp47S4aV/LD%2BRItAHuXwS%2BAifs1fsyX3wsbxOus3Jm1/WNT1GLTls4Zb3U7671K5EFsrOLeBZ7uRYot7lI1RS7sC7UfHH/KQv4X/APZGfHn/AKdvCFZf7H/xk%2BLv7Qn7F5%2BNXxivPDlzc%2BIo9ZufD174X0O4061vtDFxcJpl75E91dOjXNokNyR5rAC4CjO3J1PHH/KQv4X/APZGfHn/AKdvCFAHs1FFFABRRXHfHj42eGv2fvh1L8RPE2kanqm7UrHTNM0XRIY5L3VNQvbqK0tLSBZZI4/MknmjXdI6RoCXd0RWYAHY0V47D%2B2x8Ml/Z31X9oXVvCfiXT10TX28P6r4PurO3bWINb/tBNOj0zZFO8DTS3UsMcbrMYHE8cgl8tt9QaZ%2B2PeeI/CWoat4L/ZZ%2BJWt%2BIdB8TSaF4s8CWDaGuqaDdraQ3o%2B0yTapHZMr211aTIYbmUut1HgZ3BQD2mvGf2D/wDkiGuf9lm%2BI/8A6mut16F8HPix4M%2BPHwl8M/Gz4dXs1xoHi3QbTV9GmuLdopHtriJZYy8bfMjbWGVPIOQelee/sH/8kQ1z/ss3xH/9TXW6APZqKKKACiiigAooooAKKKKACigkKCzEAAck14L8b/8Agpv%2Bw78Ab8%2BH/Gnx%2B0i%2B1oyeVH4e8Mb9Vvml7RmK0EhjY%2Bkm2sMRisNhIc9eaiu7aX5/pc5sVjcHgaftMRUjCPeTS/N6/K571RXyOf8Agpt8YPiH%2B7/Zq/4Jp/GXxPv4t7/xXZQeG7Gf0ZJ7lnyvuVH0pPtf/BaT4wH9xpPwZ%2BD2nSdRcz3Ov6rDn02YtWx%2BHNcH9sYaf8CM6n%2BGErf%2BBSUI/ieZ/b%2BDqf7vCpV/wU5W/wDApKnH8WfXNFfJA/4JzftOfEI%2Bf%2B0N/wAFTvi3qLNy8Hw7htPC0QP93FusmR9etOb/AII8/BbUBs8W/tN/HzX424li1j4q3DrIO4bYi8Gn9czSfwYW3%2BKpBP7kpfmP6/nM9YYKy/vVaaf3RU/zZ9OeLfiN8PfAMIufHfjzRtFjIyJNX1SG2Uj6yMK8u8bf8FHf2Cfh7ZzXvib9r/4e/wCjqWlg0/xRb3s4x2ENuzyE%2BwUmvCPEn7En/BDn9mS5kufizp3w%2BtNSVibgeNvHUt5dzN3JguLlix9lT8KxtB/bL/4In%2BANZW1/Z%2B%2BAeh%2BKNXs3BH/Cu/gs9zcRsOhExtU3H0Ic/WuCvm2Koy5atShTfZzlJ/dFL8j6rKuB/FniCj7bL8qbp/zKFecUu/O4Uafz57eZ6DH/AMFYrT4nSZ/ZF/Y1%2BLXxSsRyPEVr4f8A7K0qVe3l3F3tLN/slBxUn/DbH/BRvVPl8M/8EiNact91tW%2BL2kWYHuQyGj/h6N4y8RjyfhX/AME1f2iNVY8Qzax4Kj0q2k9CJZZm498UD9p3/gq144OfA/8AwTa8P%2BF4G/1V542%2BKtrMWHq0Nqm9PoTWH12VTVYupJ/9O6OnyvB/jI9ZeEHiBHXMMbSw3fnr4Ckl6RdavP8ABvug/wCF8f8ABYLXfm0r9gr4eaED0XW/iil0R9fs6Cg%2BIf8Agt9rf7rT/h3%2Bzdoe7/lpqmra1clB9IRyf0o%2Bwf8ABbrxYd1zr37OXhKBvurZ2us39yn%2B95mIz%2BFKf2af%2BCs/ib5fEH/BSvwz4dRv9Ynhv4P2dyQPRWuZAR9etH%2B0z2%2BtS/8ABcPzsH/ELcNT/wB84ow8e/LXqVP/AExgX%2BD%2BY0/BX/gsd4xHleI/21/hd4NV/vyeEfhy2oNH/ui%2BYA/jUV3/AME6fj3rts%2BpfHH/AIKu/GadVXNxN4SurTw3Eo7nESOFFTN/wTb%2BP3i35Pi3/wAFSvjZfxv/AK5PCd1a6EH9h5KPtHtUtl/wRb/Ybv7pNR%2BKmjeMviDdxtuW78b%2BPdQumLepEcsan8Vx7UfUcVW3w8n/ANfMQ/ygH%2BoHhhh9cfntbEeVKhiZ/jWr4aH/AJL/AJHk/jb9k3/glF4PleD9oH/gob4k8Qzr/rrXxf8AH7zZ39cxwyI5/AVwbr/wbO/Dm68gpomr3bN1UeI9XaZvqPMQk/gK%2B4vBH/BPb9hj4dRovhL9kn4fQun3Lm48LW1zMP8AtrMjv%2BteoeHfBng/whB9l8J%2BFNN0uIDAj06wjgXH0QAU1kNWTu6VCPrCdR/fOSHHI/AvCO6y7F4h95zwtL8qeJkvm2/M/OWL4q/8EXNSs/7N%2BFH/AATj8SeO5G/1UHhb4KXFxNJ9GnEZ/Wq1n8MPhLrV/wD218L/APg3i1u7iP8Aqv8AhLr2x0gn/et7h3C/lX6a0Vt/q%2B6nxzgv8NGkvxkpM6HifCvD2%2BrcMUp%2BdfEVZ/8AktKlQj%2BJ%2BfOneBf2hJrYaf4R/wCDfP4O6BF/BNrPjDw7Kp92SG13Z%2BpzWlpHwD/4KDi5F/4M/wCCfX7H/hKY/dk1KxmmdPq1pCM/hX3pRWyyCl1qy%2BSpR/8ASaRvHijhyhb6tw3l0Ld6NWp/6cxB8fWHwl/4LG6hbLp83xN/Zx8IwDovhXwjqNyE%2Bi3OBU3/AAxh/wAFLfEH7zxV/wAFTrawRvvWfh74KaUgX6Su%2B/8ASvruit1kuGfx1KkvWpL/ANt5TpXiLmdJWwuBwNL/AA4HDv8A9Oqsz5An/wCCXPxY8YL5PxY/4KYfGrUIj9%2BPw1eWmjZ9RmKJ8CnWf/BFD9kN/n8W%2BMfij4jkb/Wza38Rbtml/wB7yjHX17RR/YOUN3lSUv8AE5S/9Kk/yE/E/jpP9zjPZW/59UsPRt/4Kw0H/wCTHyvo/wDwRS/4JoaTc/bp/wBm5dRuP4p9W8U6pclvqJLkr%2Bldro3/AATL/wCCfWhIqWP7HXw/cL0%2B2%2BHIbk/iZQ2fxr3OitqeT5TS%2BDDwX/bkf8mcmL8RvEHHf7xm%2BKl64it%2BlSJ5vof7G/7IfhghvDf7K3w408jobLwPYRH/AMdhFdho3w98A%2BHQB4f8D6PYhfuiz0yKLH/fKitiiuuGHw9L4IRXokvySPnsVnGcY7/ecTUqf46lSX/pVSQV4z%2By/wD8lv8A2jv%2ByzWP/qFeF69mrxn9l/8A5Lf%2B0d/2Wax/9QrwvWx5x7NRRRQAUUUUAFFFFABRRRQAUUUUAFFFFABRRRQAUUUUAFFFFABRRRQBjfEH4dfD74teDr74d/FTwJo3ibw/qkax6loXiDS4r2zu0DBwssMyskgDKrAMDyoPUVx2k/sZfsfaB8Prn4SaF%2Byj8NbLwpeWTWd54ZtPAunx6fPbNMJmhe2WERtGZVWQoVwXUNjIzXpVFAHMfCj4J/Br4D%2BHZvB/wO%2BEnhjwZpNxeteXGl%2BFNBt9OtpbhkRGmaO3RFaQpHGpcjJCKM4Ar4z/AOCl2qf2F/wVX/Yf1TdjdqnjG1z/ANd/7Dix%2BO6vvOvzr/4LH3suj/8ABQb9iXX4%2BEs/Huom4bP3Yn1Tw3Gx/wDH68zOJcmWzl25X/5PTPuPDegsTxphaL%2B2q8fvwuL/AMkfopRRRXpnw4UUUUAFFFFABRRRQAUUUUAFFFFABRRRQBleBv8AkSdH/wCwXb/%2Bi1rVrKHgzQ0ysDX0KZJEVvq1zGi%2ByqsgVR7AAUv/AAh%2Bk/8AP3qv/g8u/wD47QBqUVl/8IfpP/P3qv8A4PLv/wCO0f8ACH6T/wA/eq/%2BDy7/APjtAHh/iD/gmn%2Bz54l8R/GbxLqGr%2BJhL8bdOtrPXLdNRh8nRBEpLSaahhIgaaci5mEvmpLMqllK/IX%2BCv8Agnd8OfC3i6P4heIPjF4%2B8U%2BID8TpPHd5rHiC90/zLvU28Kz%2BF/LZLWyhiS3FhOWWOJI8TIjZ2bo29t/4Q/Sf%2BfvVf/B5d/8Ax2j/AIQ/Sf8An71X/wAHl3/8doA%2Bcv8Ah1J8GLPwvoHgHw58Z/iRpHh3SLHwhDqmg6dqeniDxBN4aa1OmXd4z2LSibbZWyS/Z3gjlSJQyfKuPoHWPh1pHi3wPrvw6%2BIV9c%2BI9J8RQ31tqVrqkcKhrK6Dq9mPIjjBiWNzGpbMhUDe7tljc/4Q/Sf%2BfvVf/B5d/wDx2j/hD9J/5%2B9V/wDB5d//AB2gDzP4Hfse6X8C5NS1nTvjn478Qa/qkOi2N14o8TT6bPfHSNKkle00keXZRxfZh9ouwzmM3LG8mcz%2BYVkXO%2BEv7E1x8HvHfj/x/oP7VfxLvrr4i6he3%2Bsx6tB4flNvdTL5cEkM66StxttIgkVtDLLJDGiANG/OfXf%2BEP0n/n71X/weXf8A8do/4Q/Sf%2BfvVf8AweXf/wAdoA8j0n/gn/8AAXWD4gvf2jrI/G3UfEs%2Bnvqeo/FzQdI1ABLBLhLOOK1t7GC0hEP2y8KskAcm6lLO27jI0H/gm58JvAX7Oek/sn/Bz4k%2BLfAngK0h1G317RPB0GkWf/CRwXr7p47uX%2Bz2kiJUvGJbRraYLIf3m4Iy%2B5/8IfpP/P3qv/g8u/8A47R/wh%2Bk/wDP3qv/AIPLv/47QB5h4t/Y8tvEf7RPgn9oLRPj/wCN/DieAdHm0rRPBOhWehjRmsp2tmuYJBPpkt1tlFnbKdlwhRYv3RjJYnktO/4JgfApdOv/AAn4s8d%2BNfEfhd/C%2BveHvDvhLV9StFs/DWn6xIj3sdlJbWsVyW/dosclzNPJCqARsmTn3z/hD9J/5%2B9V/wDB5d//AB2j/hD9J/5%2B9V/8Hl3/APHaAPE1/wCCe3hB9Gmv9R%2BPvxEvPHb%2BMbXxNbfFW5m0n%2B3LS%2Bt9PfTIhEi6eLARCxmuLcxG0KMt1O7BpJGkq1q/7A/gbVfhDov7PUXxh8dWngG00%2Baz8U%2BE4LnTmh8ZJPO092dTnlsnuSbmSSYzfZprcSieRWG1sD2L/hD9J/5%2B9V/8Hl3/APHaP%2BEP0n/n71X/AMHl3/8AHaAPJtS/YP8AhPrPxuuPi9rHinxHd6Xd%2BJH8SXXw6uZbOTw/NrbaYdMbUXia2Nwzm1JUwmf7MZD53k%2Bd%2B8rk9S/4JNfsh6WfiNd/Anwt/wAKg1D4meC9P8L6vq3wl0XSdGudPsLa5nnkFm62TCF7nz/LnZg%2B9IINojeJXH0L/wAIfpP/AD96r/4PLv8A%2BO0f8IfpP/P3qv8A4PLv/wCO0AeYR/sY%2BFr/APZ50z9mbxr8VPFGv%2BHNK1vSL23FxZaPYsbTTru2urfSjFp2n21uLEtaxxvGsSu0TPHv2kAXvj3%2ByxB%2B0RqSWXjT45eN7TwjMtqutfD7SW0yPS9YEFx54E8r2L3yByEWRYbqJXRAuPmfd6D/AMIfpP8Az96r/wCDy7/%2BO0f8IfpP/P3qv/g8u/8A47QB5t4p/Y88J/En4j3Xjr4yfE3xZ4y077HqVvoXg/WpLCLS9CW/tmtbp7YWlpDcSSNbSTQCS5mnaOOeVUK72zgeCf2APCnhDwh4t8O33x%2B%2BJGual4p%2BHkXgi28Vatf6aupaDo0UdwsMVk1tYxRCRGupJPPnimldwhkeQIoHtH/CH6T/AM/eq/8Ag8u//jtH/CH6T/z96r/4PLv/AOO0AZkvg/w38PPgy3gDwbpUVho%2Bh%2BGDp%2BlWMIwlvbQ2/lxRr7KiqB9K4Dxx/wApC/hf/wBkZ8ef%2BnbwhXqJ8GaG%2BFna%2BmTIJiuNWuZEb2ZWkKsPYgivLvHH/KQv4X/9kZ8ef%2BnbwhQB7NRRRQAV5f8Atb/Bvxn8Z/hhYWPw1vNMi8TeGvGGi%2BJdAj1ueSKyurjT7%2BG5NrPJFHI8STRpJD5qxyGIyCQJJs2N6hRQB82%2BDv2YPiuvwJ%2BIvgf4ufDPwF4n1P4ja5qHibVdFHjO/t9PTUZ7hPIsUuk0/wA%2BKOC3t7QrqCRib7QjSLbxYXHm1t%2Bw3%2B2B8M/gF4p8D/AqfwjYa38Wviedf%2BKEN58VdbM1lpH9mWmntY6frk%2Bn3V5PdzRafbiS%2BnhSRPtFw0QjYQtH9t0UAcX4X%2BFum3HwF0r4Pa74Sg8JWcHh62019C8BeKLy2h0mKKNUW3sr63W0uEjjVAiSIsLbVHyr0rz/AP4J0%2BHrDwl%2BzdfeFtKuL6W2074t/EO2t5dT1Se9uXRPGetKDLcXDvNO5A5kkdnY5LMSSa90rxn9g/8A5Ihrn/ZZviP/AOprrdAHs1FFFABRRWb4v8YeFPh/4ZvvGnjnxJY6PpGm27T6hqepXSwwW0Y6u7uQFHuTSbUU23ZIUpRhFyk7JGlXh/x3/wCCkX7E37OVy%2BkfEr9oHRDq6v5Y8P6JK2pagZCcCM29qJHRieBvCj3rwvVPHHxz/wCCtur3Hg/4NaprPw%2B/ZyhuHt9c8cJG1tq/jsK22S2sA4zb2ZwVaVhlhlSD88Q%2BlvgN%2Bxj%2Byt%2BzFaRwfAv4EeHPD88cew6lbaer3sgxjD3Um6Z/%2BBOepryI4zG49t4JRVP%2BeV3zecIq11/ek0n0TWr8GOYZhmbby%2BMY0ulSak%2BbzhBW5o9pSlGMvsprV%2BJ/8PHf2jvix%2B5/ZO/4JrfEvXYpOINb%2BIM1v4YsWH/PVDcF2lTvgbSenBpo%2BCP/AAVp%2BPp834v/ALVvgz4QaTLy%2Bh/Czw82oXzR/wBx729P7qT1eLI44HNfXlfPv7Qv/BS/9mP4CeJh8MNO1jUfHvj2VzFaeAPh5YnVNTeUfwSLGdkBHBIkZWxyFNY4nD06NP2mPxcuXsmqafklD3n6czfke1kvBHEPFWM%2Bq4Z18TO13GmlTikt5ScOXlgusqlaEUt5HFf8OdPgZ4u%2Bf9oL4/8Axn%2BKHmf6%2B28ZfEe5a2b1UR24i2r/ALO6vavhT%2BzR%2Byb%2ByN4dlv8A4W/Cfwj4Js7WH/S9XjtIoZfL9ZruT94493c14Yupf8Fbf2qyDpel%2BFP2cPCs/S4vtniDxLJGehEfFtDkdVbEiE9TitDRf%2BCP/wCz14i1WHxT%2B1L8RviB8aNYifzEl%2BIHiyeS0hf/AKZWsBjRE/2G3jmsMPTpRnz4DBa/z1Pc%2B7m56r%2B6J9thvDfgfhup7TN8wowqrenhYPGVl5Otzxw8H3/f1Leexq/Ef/grn%2BxZ4O19vA/w%2B8Y6r8T/ABLz5Xhz4V6JLrVxLjj5ZIsQHnj/AFmfasFf2m/%2BCpHxvYD4CfsK6B8PtOk/1Gv/ABn8Tnew/wBrT7H9/ER6MSK%2BmPhv8JPhZ8HNBXwt8JfhxoXhnTVx/oOg6VDaREjuViUAn3PNdDXf9TzOv/HxHKu1OKj/AOTS5pfckei%2BI%2BCMq0yvJ1Wkv%2BXmMqyqv19hQdCivSU6nm2fJP8Awy//AMFUPiR8/wAUP%2BCjOh%2BEbd/9dpfw5%2BG8D59lurtvNTHrg0H/AIJFeAPGPz/tA/tbfHP4iCT/AI%2BNP174hSw2LDuFgt0TYp9A1fW1FH9iZfL%2BKpT/AMc5y/ByS/8AJRf8RP4vo6YGdLCr/qHw%2BHotf9vxoyqfP2t/M8L%2BFn/BM39gX4NCNvAv7KXg8TRY8q71fTRqU6H1Et4ZXB9wa9r0nR9I0Gwj0vQ9LtrK1iGIra0gWONB7KoAFWaK7qGEwuFjy0acYrySX5JHyma5/nue1fa5ni6teXepUnUf/k85W%2BSQUUUV0HkhRRRQAUUUUAFFFFABRRRQAUUUUAFFFFABRRRQAUUUUAFFFFABXjP7L/8AyW/9o7/ss1j/AOoV4Xr2avGf2X/%2BS3/tHf8AZZrH/wBQrwvQB7NRRRQAUUUUAFFFFABRRRQAUUUUAFFFFABRRRQAUUUUAFFFFABRRRQAUVj/ABA%2BInw/%2BE3g6/8AiJ8U/HWjeGfD%2BlxCTU9d8QanFZWdohYKGlmmZUjBZlGWIGSB3p1p4%2B8Cah4Ei%2BKNh410mfwzPpK6rD4ih1KJrCSwaLzhdrcBvLMJiIkEgbaV%2BbOOaANavzl/4Lmf6B8b/gL4v6f8I9Bquo7v7u3xH4PTP/kSvvz4a/FP4Y/Gfwhb/EH4PfEfQfFmgXbutprnhrWIL%2BzmZGKOEmgZkYqwKnB4IIPIr4H/AOC%2BdpM/hzTtXtFzPpXwj8RXsHsyeLfAmT/3yWrys9/5E2IfaDf3Wf6H3/hU1/xEvJ4vaeIpw/8ABjlT/wDch%2Bi1FR2d3Df2cV9btmOaNZIz6qRkVJXq7nwLTTswooooEFFFFABRRRQAUUUUAFFFFABRRRQAUUUUAFFFFABRRRQAUUUUAFFFFABRRRQAUUUUAFFFFABRRRQAUUUUAFFFFABXjPjj/lIX8L/%2ByM%2BPP/Tt4Qr2avGfHH/KQv4X/wDZGfHn/p28IUAezUUUUAFFFFABRRRQAV4z%2Bwf/AMkQ1z/ss3xH/wDU11uvZq8Z/YP/AOSIa5/2Wb4j/wDqa63QB7NRRQSFBZiAAOSaAOA/af8A2jvh5%2Byd8Dte%2BO3xNu2XTtFtd0VpEw86%2BuWO2G1iB6ySOQo7DJY4AJHzb4A/Y4%2BOf7dmraX8eP8AgpPqAtvDqtHf%2BFPgJo87ppungjdHJqr8NeXIBGYzhVOQcBmiFXwQp/4Kf/tkD4tXo%2B0/Ar4I608Hg%2BBhmDxZ4nTiTUMdJLe2ztjPIZiCCQ8iD7brwqdOOdVXVqa0Iu0Y9JtPWcu8bq0E9HZyafunzVOlHiCtKtV1w0XaEfs1GnrOS%2B1C6tCL912c2pXiQaVpWl6Fplvouiabb2dnaQLDaWlrCscUMagKqIqgBVAAAAGABXj/AO11%2B3D8Jv2RtMsNK1u2vvEnjXxA/k%2BEPh94ci8/VNZnJwoSNcmOLP3pWGBggBmwp87/AGhP29/Gfiz4lXf7Jf8AwT78K2njn4kxfu/EPiO4cnQPBiElTLeTrkSTLg4gTJ3KQcspjbr/ANkP9gvwZ%2Bzfqt98XvH3im7%2BIHxZ8Qru8T/EbX0DXMpI5gtU5FpbDgCNOoABJCqq61MbWxc3QwFtNJVGrxj5RW05Lsvdj9p/ZP2vA8LZVw3gqeZ8UprnSlRwkXy1qyavGdV2bw2HejUnH21WP8Gmov2y8yH7N3/BQH9tsC//AGv/AIv/APCofA1zz/wq34X3%2B7UrqI/8s7/VMHtlWSEFHU9FIr6G/Z5/ZP8A2df2U/DP/CK/AH4TaT4cgdAt1c2sG%2B6u8dDNcOWlmP8AvscdsV6HRXRhsswuGqe1d51P55Pml8ntFeUVFep5Od8cZ7nOD%2BoQccPg07rD0I%2Byo6bOUU3KrJfz1p1Z/wCHYKKKK9A%2BPCiiigAooooAKKKKACiiigAooooAKKKKACiiigAooooAKKKKACiiigAooooAKKKKACiiigArxn9l/wD5Lf8AtHf9lmsf/UK8L17NXjP7L/8AyW/9o7/ss1j/AOoV4XoA9mooooAKKKKACiiigAooooAKKKKACiiigAooooAKKKKACiiigAooooA5X43eIvD3hL4T674i8U6Fqmp2VrZFpLLRfDV3rF1I5YCPyrOzhmnmYOVOI42K43cBSR8h%2BEbbxR8TP%2BCMngn4J6D8JvHY8TeHfhP4Tj8R%2BD9e%2BH%2Bq6VdXkelNp/8AaemKl/bQiWWWO2uYFiyfODgruRt1fc1FAHgn7E8Gra741%2BNfxkg8G69oPhvx38TLfUvC1n4l8PXWkXlzDD4f0ixnvHsryOK4thJc2k6hZY0ZxCJcYkVj80/8FePCfxX1PWPFC%2BNvGXh7UtCk/Z18dXPhrTdK8Lz2d3YJBrng2WQXNxJezJdk7EIZIbcLtOQ2Rt/RGvjz/gpvo3/CQeI9S0oJuaT9kv4stGvq6z%2BFnX/x5RXDmcPaZZXj3hP/ANJkfU8DYn6nxvldf%2BXE4d/%2BV6X%2BZ9M/AnWv%2BEj%2BCHg3xDv3fb/CunXO71320bZ/Wuqryj9hDWf%2BEh/Yj%2BD%2Bsl9zT/DHQWkP%2B3/Z8Ib/AMeBr1etsJP2mEpz7xi/vjF/qebxBhvqXEGMw/8AJWrR/wDAatWP/toUUUV0HkBRRRQAUUUUAFFFFABRRRQAUUUUAFFFFABRRRQAUUUUAFFFFABRRRQAUUUUAFFFFABRRRQAUUUUAFFFFABRRRQAV4z44/5SF/C//sjPjz/07eEK9mrxnxx/ykL%2BF/8A2Rnx5/6dvCFAHs1FFFABXmH7W3xk8ZfBj4YWF98NbPTJfEviTxhovhrQJNbgklsrW41C/htjdTxxSRvLHDHJJN5SyRmUxCMPHv3r6fXG/Hj4JeGv2gfh1L8O/E2sanpe3UrHU9L1rRJo473S9QsrqK7tLuBpY5I98c8MbbZEeNwCjo6MykA8Tv8A9sf4z%2BGf2Q/iJ8SNd8PeHr3xz8N/G83hbW76w026TRgFvraL%2B2WtvOknS1hsruO%2BngEzMghmjExwJa4r4Zf8FCPjB8edQg%2BBnwQ8f/DPW/F4%2BKeoeGJPibaeG7y48M3lha%2BHbTW2v7Wxj1ESylvt9rZ7RfFN6zTCRlVY299%2BHP7LA%2BFPw91bwN4L%2BPXjiC61yS8vdS8TSrpMuoTatdXT3E%2BqkvYGHzyXEYi8r7KkUUaJAoWucuP2AvBR8NWZ0v41%2BPdP8bWvjO48VS/FS1n0xtdu9UnsDp00kyyWL2LRtYiO2EItBEkdvAURHiR1AOk%2BAf7T/hz4h/sleHf2n/i3qGjeDra60FbrxPNqGqpDp%2Bl3MbGK5H2iYqvkrMjhXfbldpIBOKwP%2BCdPifw141/ZuvvGHg3xDY6vpGqfFv4h3emappl2lxbXcEnjPWmjlilQlZEZSGDKSCCCDXqHwd%2BFHg74FfCrw98G/h9aTQ6L4Z0iDTtNW5nMszRxIFDyyNzJI2CzueWZmY8k157%2Bwf8A8kQ1z/ss3xH/APU11ugD2avl/wD4KhfGbxpo/wAM9D/ZO%2BB19s%2BI/wAbdTbw5oDxk7tOsCudQ1BschIbckbhypkDD7hr6duLi3s7eS7u50iiiQvLJIwCooGSST0AHevjr9gizu/2v/2kPG//AAUs8VWsjaHMZfCPwXtrhCBDoltKwuL9VPRrmcNg8MoEicqRXlZpOdSMcHTdpVbptfZgvjl9z5V/ekux4mdVKlWEMBRdp1rptbxpr%2BJLydnyx/vTXY%2Bm/gP8FvBH7Ovwc8OfBD4c2At9G8NaXFZWa7QGk2j55Xx1kkctIx7s7HvXzb%2B178ePif8AtN/F%2Bf8A4J2/sc%2BI5NP1IwK/xf8AiLZ5MfhLTH4NrCwPN9MuVVQcoCeh3vF3P/BRL9qDxf8AAz4b6X8K/gXbrffFn4nah/YPw800EEwzOAJtQfIO2K2RvMLEFQxTcNu4jsP2N/2TfA37HfwXtPhl4Wle/wBUuJDfeLPEl0S11rmqSAGe7mdiWYs2doJO1QBknJOOITxVX%2Bz8P7tOCXO1pZW0pxts5JaveMNvekmv2HhnBZfwZkNLiPF0ozqybjgqMknC9O0ZYmpF6SpUZWhSg041a6969OjNT3f2dv2b/g5%2Byt8MLH4R/BHwbb6PpFmoMhRQZ7ybADXE8n3pZWwMs3sBgAAdzRRXsUqVOjTVOnFKK0SWiSPg8djsbmeMqYvGVJVKtRuUpyblKUnq22222/6skkiiiirOUKKKKACiiigAooooAKKKKACiiigAooooAKKKKACiiigAooooAKKKKACiiigAooooAKKKKACiiigArxn9l/8A5Lf%2B0d/2Wax/9QrwvXs1eM/sv/8AJb/2jv8Ass1j/wCoV4XoA9mooooAKKKKACiiigAooooAKKKKACiiigAooooAKKKKACiiigAooooAKKKKACvmn9r3Rf8AhI/2jdH8PbN32/8AZp%2BJ9tt9d954UXH619LV4l8TdPh1b9vf4b6XcD93c/BLx/FJ/utqvhEH%2BdRVh7SlKHdNfemv1OrA4h4THUsQvsTjL/wGUZf%2B2mR/wSk1r%2B3v%2BCdHwhvt%2B7y/CENtn/ri7w4/8cr6Er5T/wCCJOoTXv8AwTK%2BG9rd8T2B1eznXP3Wj1a8UD/vnbX1ZXBk0/aZPh5d6cP/AElf5H1niXh1hPEbOaK2jisQv/K1R/8AtwUUUV6R8SFFFFABRRRQAUUUUAFFFFABRRRQAUUUUAFFFFABRRRQAUUUUAFFFFABRRRQAUUUUAFFFFABRRRQAUUUUAFFFFABXjPjj/lIX8L/APsjPjz/ANO3hCvZq8Z8cf8AKQv4X/8AZGfHn/p28IUAezUUUUAFFFFABRRRQAV4z%2Bwf/wAkQ1z/ALLN8R//AFNdbr2avGf2D/8AkiGuf9lm%2BI//AKmut0Ac9/wVT%2BMWqfBn9hXxzf8Ahje%2BveI7JPDXhy3hOJZrzUXFqoj/ANtUkkkH/XOvQvgx4E8Hfsi/ss%2BHvAmp6nb2ejfD/wAGQx6pqLcRqltb7ri5b6lZJCfc14P%2B2R/xfz/god%2Bz/wDsrQ/vtO8Kz3fxM8WQdQi2YNvprEehumkU57NVr/gq34q1/wAdeDvBX7CXw71KSDxF8cvEyaTeTW5/eWWg2%2B2fUrn6CIKhB4ZXcdq%2Bdq4r2WIxWMtf2ajTiu8tJNfOc4R%2BT7G3AuQ/638efVpT5Kacacp9KdKnF18TU/7cgm/Nxiutnn/8E/PB/iX9qT4ta7/wU%2B%2BMejy2z%2BJLd9I%2BDuhXgydE8No7AXBX%2BGe6bc5I/hY7SUkAH2HWf4S8K6B4F8K6Z4J8KabHZaXo%2Bnw2Om2cQwsFvEgjjQewVQPwrQr1cBhPqeGUG7yesn/NJ6yf36Lskl0Pf4t4hfEudzxVOHs6EUqdGn0pUKd40qa81HWb3lUnUm7uQUUUV2nzQUUUUAFFFFABRRRQAUUUUAFFFFABRRRQAUUUUAFFFFABRRRQAUUUUAFFFFABRRRQAUUUUAFFFFABRRRQAV4z%2By//AMlv/aO/7LNY/wDqFeF69mrxn9l//kt/7R3/AGWax/8AUK8L0AezUUUUAFFFFABRRRQAUUUUAFFFFABRRRQAUUUUAFFFFABRRRQAUUUUAc78XPil4N%2BB/wALfEXxj%2BId%2B9roXhbRbnVNWnihaWRbeCJpH2IuWkchSFRQWZiAASRXEfDv9sDwR4w8E%2BOfFvjbwJ4o8B3nw2iafxp4b8W21q9/p9v9iW%2BS4AsLi6hmjeBtymKVzuSSMhZI3QbP7VfwVuv2jP2bvG3wO07Xo9KvPE/hy6sdO1OaEyx2l0yEwTOgILosoRmQEFlBGRnNeV%2BFP2fP2rdbh%2BLvi/xzqfhHwh4v%2BLOgnSre/wDB/iO71GPwotrphtrC4ha4sbc3spuZ7q4fcsAjXyYx5pVnIB3f7NP7XXhf9pXVNY8OWXwz8VeEtW0bRtJ1iXS/FS2DPPpuprcNZXcclhd3UJWT7LcDy2kWVPLy8ah0LUvHH/KQv4X/APZGfHn/AKdvCFcZ/wAE/wD9jjxb%2By34i8W67qHwx%2BHPw80jXtB0HT7bwH8LNQuLnTGvrEXgudaleaztMXd2lxbROBEzbNPiMk0zEbNK/wDhj4b8Hf8ABTbwX4z0nUvEM154h%2BD3jiS/h1XxdqN9aRFNW8JYFta3M8kFkDuOVt0jDYG4HauADkv%2BCMn/ABL/ANk3WvCHT/hHvin4l07b/d23zvj/AMiV9aV8l/8ABJ3/AIlln%2B0L4Qbj%2Byf2nPFccKekLm2dD%2BOWr60ryci0yiiuya%2B6U1%2Bh%2BgeKvveImZVP55xn/wCDKOHqf%2B5GFFFFesfn4UUUUAFFFFABRRRQAUUUUAFFFFABRRRQAUUUUAFFFFABRRRQAUUUUAFFFFABRRRQAUUUUAFFFFABRRRQAUUUUAFeM%2BOP%2BUhfwv8A%2ByM%2BPP8A07eEK9mrxnxx/wApC/hf/wBkZ8ef%2BnbwhQB7NRRRQAUUV8/f8FLjpg/Zrtf%2BE08v/hCv%2BFheF/8AhZH2j/j3/wCEe/tm0%2B2/as8fY/L/AOPnd%2B7%2Bzef5n7vfQB9A0V%2Bd%2Bo%2BKPhy//BMz40eCPhj4n0%2BHwVN44v3%2BHdvo9xG1nY%2BFJ9bgtzf%2BQmS%2BgR3P293EYEL2EUqRMIyhHjEmk/Cu4%2BHtl4J1L4l/BKy8ARftDa7NYeO9c8GxTfB69X/hErRkjtdHa%2BSGIefNLHGgv2QX9pqEwkeR/swAP13rxn9g/wD5Ihrn/ZZviP8A%2BprrdZ/7EmofEK3/AOCdHwru/CXhCa68RQfDDR47LSvHXiGe3e4lS0iQG6vBaSSrvA37zbbvmGY1OQMf9jHxl4g8H/sVeLPiD440uw0/VNK%2BIPxN1DVrLTtRe7tbeaLxdrkkiRzyQwtNGrKQHaKMsACUXOBMpKEXJ7LUmcowg5S2Sv8Adr%2BhyP7A3/F9f2xf2h/2xLj97YjxPD4B8ITHotnpUY%2B1PGe8ctw6vnplTUH7H/8Axlh%2B3n8Vf217z/SPDfgon4dfDR25jcQN5mpXidjvmYKkg6ozLn5a479lTx%2B37Iv/AAQbg%2BMclwYNUi8C6pq8F47YebUb%2B7nNq7N1JMk8C564Ar6Q/wCCe/wPT9nT9iz4cfCeWxFve2Phi3uNXj24P264H2i5z6nzpZBk84Ar5bLoPEywtOX8rrz/AMU2%2BRfJyb/7dR9ZwGnkPhVi85elfHyWHi%2BqjUSxWKa9YfV6F/5ZSX2rHslFFFfVnyoUUUUAFFFFABRRRQAUUUUAFFFFABRRRQAUUUUAFFFFABRRRQAUUUUAFFFFABRRRQAUUUUAFFFFABRRRQAUUUUAFeM/sv8A/Jb/ANo7/ss1j/6hXhevZq8Z/Zf/AOS3/tHf9lmsf/UK8L0AezUUUUAFFFFABRRRQAUUUUAFFFFABRRRQAUUUUAFFFFABRRRQAUUUUAFFFFABXjPjj/lIX8L/wDsjPjz/wBO3hCvZq%2Ba/jl8RoPBv/BVL9njwlcygDxb8KviTp0CE9ZYrnwteAj3CW0n4E1E5xpxvLy/F2/NkVKkKUeaW10vvaS/Fo5//gnT/wASj9pv9qvwh08j4wR6jt/6%2B7NHz%2BOyvrSvkv8AY7/4k3/BTf8Aa28Ntwk83grUbcf3vM0mUSH/AL6AFfWleZkumB5e06i%2B6pP/ADP0PxN97ipVv%2BfmHwU//AsFhv8A5EKKKK9Y/PwooooAKKKKACiiigAooooAKKKKACiiigAooooAKKKKACiiigAooooAKKKKACiiigAooooAKKKKACiiigAooooAK8Z8cf8AKQv4X/8AZGfHn/p28IV7NXjPjj/lIX8L/wDsjPjz/wBO3hCgD2aiiigAooooAKKKKACvi7xl4v8A%2BEF/4JMfHzxCsvlv/wAJJ8WrWJ84KyXHi7XbdCPfdKK%2B0a/Or9r/AFC6P/BIT4jeC9Nl2Xniz9oDxZotmR1LzfEnUiR75RHH4152b1HRyqvNbqEv/SWl%2BLPKz2s6GSYmot1Tnb15Wl%2BLRo/tD%2BEP7W/ZX/ZA/wCCfkMeX8daj4cXxFaY/wBfpOk2MN3qGR67hE3PGRX6CV8f%2BCNPtfjD/wAFgNauLGIPofwD%2BFFno1pGOVg1bVW84sD0z9jQxke34V9gVy5PTXPWqra6pr/DSiof%2Blcx%2Bo8V0VkvDmR5DHT2OGVaa/6eYp%2B0V/NUKeHXpLswooor2z4MKKKKACiiigAooooAKKKKACiiigAooooAKKKKACiiigAooooAKKKKACiiigAooooAKKKKACiiigAooooAKKKKACvGf2X/APkt/wC0d/2Wax/9QrwvXs1eM/sv/wDJb/2jv%2ByzWP8A6hXhegD2aiiigAooooAKKKKACiiigAooooAKKKKACiiigAooooAKKKKACiiigAorjv2g/jNoX7O/wO8WfHPxJpl1fWfhTQLnUpNPsdvn3jRRlkt4txC%2BZIwWNdxA3OMkDJrh/hf%2B1pqdxovxKj/aQ8Aad4H1z4U20d/4rtNF8RSazYnTJLH7bHeQXLWttJINqTxsjQIyyW0gG9SjsAe01%2BfP/BWnxdefDH/gox%2Bxl8VrfK2%2Bj634jt9UnBwILO9u/D1lM59sTgfjX1B%2Bxl%2B1Rq37V/hLUfG9zo/gSxtIHtxbWXhH4lx%2BIb2yaRDI1rqkcVrFHYXkamMPAktwoZmAkIUM3zV/wW2%2BH958QbaGPSdyX%2BhfAXxtr9jcRj5oHsNf8F3bOvofLikH0Jrzc4U/7LrShvGPMvWLUv8A238TyM/VT%2Bxa8qfxRjzL1g1P8eRr5no/wZ/4kn/BYz40aZ0/tz4WeHNRx/e8l3t8/rivrSviLVPiHbeHf%2BChX7Pn7XFkwTQPj78KH8L38gOYobrZHqli3P8AFKZPKXH9019u1jk84uNaC6VJP5T5ZxfzUj9V48lHG0snzKk706%2BBw1n3lRVShNesZQj8pRfVBRRRXsHwIUUUUAFFFFABRRRQAUUUUAFFFFABRRRQAUUUUAFFFFABRRRQAUUUUAFFFFABRRRQAUUUUAFFFFABRRRQAUUUUAFeM%2BOP%2BUhfwv8A%2ByM%2BPP8A07eEK9mrxnxx/wApC/hf/wBkZ8ef%2BnbwhQB7NRRRQAUUVzvxX%2BK/gH4I%2BAr34mfE3XG0/R7B4I5porOa5lklmmSCCCKCBHlnmlmljijijRpJJJERFZmAIB0VFeeWX7VnwFv/AIFXf7SSeOXi8Iae1xHf3t5pF3Bc21xBcNay2sllJEt0l0twpg%2BzNEJvNxGELEKcaP8Abn/Zpl%2BH8nxGTxbrX2eLxP8A8I4%2BinwPrA1z%2B1/IFz9gGjm0/tAz/ZiLnyxb7vIPnY8r56APXK/OL42OviH4NfBf4U7xt8Qft3%2BJ5b1CfvWdr408QzTf%2ByH8K/Q7wr4k03xl4Z07xdo0d4lnqljFd2qajps9ncLHIgdRLb3CJNA%2BCN0ciK6HKsoIIH5hfFzxV9j%2BIPwptFk/c%2BFvHn7Qvi6/5/1f2PWtcNu//fwNzXj59NQyud%2BrgvvnG/4Jnm5rhqmPw8MFD4q9WjSXrUr0YfqfSn/BICKX4g/CHx7%2B11qKE3Pxj%2BKOsa5ZyOPmTTYZ2tLWA98J5MoGezV9cV8%2Bf8EpPCv/AAhv/BOj4Q6R5WzzvB8N9jH/AD9O9zn8fOz%2BNfQda5LTdPKaCe7im/WXvP8AGTP0rxLxUMX4g5pKn8EK9SnBdqdF%2Bwpr5QoxX3vqFFFFemfDhRRRQAUUUUAFFFFABRRRQAUUUUAFFFFABRRRQAUUUUAFFFFABRRRQAUUUUAFFFFABRRRQAUUUUAFFFFABRRRQAV4z%2By//wAlv/aO/wCyzWP/AKhXhevZq8Z/Zf8A%2BS3/ALR3/ZZrH/1CvC9AHs1FFFABRRRQAUUUUAFFFFABRRRQAUUUUAFFFFABRRRQAUUUUAFFFFAHHftCfBnQ/wBon4G%2BLPgZ4k1S6sLPxXoFzpsmoWO3z7NpYyqXEe4FfMjYrIu4EbkGQRkV5t4E/Y%2B8byW/xBk/aA%2BLWieL7v4rWD6b47k0fwdNpMUmnpp62Vta2cbX9wbYKrXUsjSNOZJLptvlKqoPeqKAPCv2S/2PvE/7PPivUPG/jr4p6T4k1GXwNoHg7S00Dwd/Yltb6RpDXjWpmi%2B1XHn3TG%2Bl3yq0cQVUWOGIbt3JfFn9m34Mal%2B3hpdr4f8Ahj4d0fUviP8AAP4hWXi/WtM0SCC61YPqHhSINdSxoHuCqyvguWI3Njqa%2Boq8Z8cf8pC/hf8A9kZ8ef8Ap28IVMoxnFxls9PvJnCNSDjJXTTT9Ho/zPijTrbxd8Uf%2BCE/hL4haNER45%2BAOtJq1kh5a0udB1GWNgSOQFstzY9h9a/SH4Z%2BP9B%2BK3w40D4oeFpvM0zxHotrqenvnOYZ4llT/wAdYV8q/wDBPzw5o2m/FT9q79j7xNZLNp1p8UrjV20%2BToNO16zEwiA/ubUfH%2B8a2f8Agj/4k1nTP2adX/Zo8Y3jS678GPHGq%2BD715eHmt4ZzLbTY/uGKUIp6ERV8vk0pUK1FS%2B3TcH/AI6EnH73D8j6vhucs68F6dKTvVyyvyvv7LEc1KXyjicNB%2BTq%2BZ9W0UUV9UfLBRRRQAUUUUAFFFFABRRRQAUUUUAFFFFABRRRQAUUUUAFFFFABRRRQAUUUUAFFFFABRRRQAUUUUAFFFFABRRRQAV4z44/5SF/C/8A7Iz48/8ATt4Qr2avGfHH/KQv4X/9kZ8ef%2BnbwhQB7NRRRQAV5B%2B2v8N/H3xD%2BE%2BkX3wy8MtruseE/H/h3xPD4dS7hgfVotP1O3uJ7aOSd0iWYwpIYvNdIzKsYd0Ul19fooA%2BMte%2BAP7RHjX9kH4u%2BB7v4D3tnrvxL8bXHiseGr3WtM329hJqdsr6bHcxXTxwaq1haNOk6k28F1cxstwxiLjz60/Yg%2BOVrDpvxIHwf%2BKcXh/SvjZq2vWvw8svitbr42m0e98NW%2Bnma513%2B1QZ7hdRhkkXdqbSrYyJD5xWMWlfodRQB5Z8BvAnx7P7JHhj4f8Axq%2BJuqaX8QB4Zgt9b8TaTJZXd9a3IA%2BbfcW8ttPOq4R5GhZHcOwXDCvyt%2BI2qX%2Bh6z8V9N1XxXfa23gX4M/Fa3uNb1NIEuLq91P4kazp5klW3iihWSSOTcRHGiZYhUUYA/aWvw18V/bPGlp%2B2hpq7kluPjLB4J02UdW%2B2ePNVv5FX/v3yPevmOLJuOWKK3bf4QqP87HtcHYSGY%2BJHDuEn8M8fhnL/DTm60n8lSv8j9kP2X/Cv/CCfs0fDvwR5Wz%2BxvA2kWOzH3fKs4o8f%2BO13VMt7eG0t0tbaMJHEgSNB0VQMAU%2Bvo6VNUqUYLokvuSX6HBj8XPH4%2Btip71Jzm/Wc5Tf4yYUUUVocgUUUUAFFFFABRRRQAUUUUAFFFFABRRRQAUUUUAFFFFABRRRQAUUUUAFFFFABRRRQAUUUUAFFFFABRRRQAUUUUAFeM/sv/8AJb/2jv8Ass1j/wCoV4Xr2avGf2X/APkt/wC0d/2Wax/9QrwvQB7NRRRQAUUUUAFFFFABRRRQAUUUUAFFFFABRRRQAUUUUAFFFFABRRRQAUUUUAFeM%2BOP%2BUhfwv8A%2ByM%2BPP8A07eEK9mrxnxx/wApC/hf/wBkZ8ef%2BnbwhQB5F8QNSf8AZO/4KwaN8UfEUQi8H/H/AML2/heXUs7UtPEdixNokp6YmhIij7lyeymq/jXWJf2Ev%2BClE/xW8TQrD8NP2io9P0nUtWB2xaN4otImjtvO7JHcREru4y%2B5mwEJPt/7cn7MGn/tefs1eIfg412LLV5IlvvCurBir6bq0B8y1uFYcphxtYjnY7gda8w%2BButeD/8Agql/wT91D4Y/H7Rza%2BIVSfw18QbAxqtzo3iCyYK06L0RxIsdwg6DeFOQGFfMYjDVaeKlQpu0rutSb25tqkH5O9/Sbf2T0eAM9wXDHE%2BIy3M05YHHwlGpb4lCcoOcod6lCrGliaa%2B0lOD0k2vquivl/8A4J0ftI%2BNtbs9c/Y0/aY1WNfi58KpVsNTeaXDeIdLAH2TVod3zSK8ZQSHkhirNtMgUfUFe7g8XTxuHjWhpfdPdNaOL7NO6f8Ak0dfEmQY3hjOauX4lqTjZxnHWFSnJKVOrB/ahUg4zi%2BzadpRkkUUUV1HhhRRRQAUUUUAFFFFABRRRQAUUUUAFFFFABRRRQAUUUUAFFFFABRRRQAUUUUAFFFFABRRRQAUUUUAFFFFABXjPjj/AJSF/C//ALIz48/9O3hCvZq8Z8cf8pC/hf8A9kZ8ef8Ap28IUAezUUUUAFFFFABRRRQAV%2BMvwy8MHW/FfivTzF83jL/gp/qNjcqRzJZabqd/NJ9QDOPbg1%2BzVflx8GPAlxaftafBfwbPAoHiH9rD45%2BMLlQwOFtNZv4YHbHTJiwO9fP8RUXVw1Nf34r/AMCcI/5n2fhxQcuPMJjOmGp4yv6ezwOKs/vkredj9R6KKK%2BgPjAooooAKKKKACiiigAooooAKKKKACiiigAooooAKKKKACiiigAooooAKKKKACiiigAooooAKKKKACiiigAooooAKKKKACvGf2X/APkt/wC0d/2Wax/9QrwvXs1eM/sv/wDJb/2jv%2ByzWP8A6hXhegD2aiiigAooooAKKKKACiiigAooooAKKKKACiiigAooooAKKKKACiiigDzD9tP4veKvgH%2ByZ8Q/jH4GjtTrfh/wpeXWjvfRF7eG6EZEUsqggtEjlXdcjKqwyM5Hn3wp%2BPXiP4B3Xxy8NftMfGzUPFugfB7TLLxFN451nSbK3vV0ybTHuriGePTreCB3he2ndTHCrGOaJWDspd/ffGng3wr8RfB2rfD7x1oFrquia7ps%2Bn6xpd7EHhvLWaNo5YZFPDI6MykdwTXIfBz9lv4N/AXe/wANNP16Ca4vZby/u9V8aarqdxqM7wQ2/mXc17cyyXZSG3gii85n8lIwsewZBAPB/wDglx%2B2rrf7W/ij4x2viv8AaB8GeL7jRvFunXWh6H4P1nTb2Lw5pd7o9lcpY%2BdZFvtXkzvcQvcuziSeGcIVRVjTs7/4neG/GP8AwU28F%2BDNJ03xDDeeHvg944jv5tV8I6jY2kpfVvCWDbXVzBHBegbTlrd5AuRuI3Ln2nwt8MfA/grxX4m8b%2BGdD%2Bzap4x1KC/8SXX2mV/tlxDaQ2cb7XYrHiC3hTCBQdm4gsST5v44/wCUhfwv/wCyM%2BPP/Tt4QoA9mr4z/aS8F/Fj9gf9oPXv2%2BfgP4Wn8TeAPFkdufjd4D0%2BLN1B5ClF1uyHAZ0QkypxuG5mOGLxfZlIyq6lHUEEYII4IrjxuDWMppKTjKLvGS3i%2B/mmtGno02uzXBmOAjj6KSk4Ti%2BaElvGWqv2aabUovSUW0%2BjXzN8c/2d/g1/wUQ%2BG3hb9qH9m74qJoXjbTbUXvw5%2BKXh/wD1sB5za3K8GWAsXSSCQZQlxgZdGq/sw/8ABQlrzxmv7K37buk2nw7%2BMdgwgS2uXMeleKU6JeabcP8AI4k/54k7wxKgEhgvO%2BNP2O/2j/2N/HmtfHD/AIJt3%2BmXug63enUPFfwJ15xBp17ORiSfTJ%2BllOwH3DiMnGcqiRi3pP7RP7A//BS/w1P%2Bzf8AtJeB4NC8Z20xhv8A4bfEKH7BrWm3ZABazkYqztjlZIGDFcblUHbXg%2B0rUsVzaUsQ9GpX9lWt1jLpLs/jW0ozSTPseHvEDLsRl9PhvjKlL2cLqjVg4%2B0otu7%2Brzn7tWjJvmnhKsotSblSdOd5VPruivja0%2BDX/BSP9h6M2v7Onjay%2BO/w7tDm18E%2BPdR%2Bx%2BItPgHSG21HHlzgAYHnAYGFVK6j4af8Fbv2Vte19Ph38dp9a%2BDnjJTtufDPxP0x9N2t0LJdMPIeMn7rF1LAg7a9SGb4eMlDFJ0Z9p6Rf%2BGfwS%2B%2BL/unvYnw6zivRlishnHMcOtebD3lViv%2BnuGf%2B0U2ur9nVgntUas39Q0VV0XW9F8SaVBrvh3V7W/srmMPbXllcLLFKp6MrqSGHuDVqvVTTV0fAyjKEnGSs1o09Gn5p2a%2B4KKKKZIUUUUAFFFFABRRRQAUUUUAFFFFABRRRQAUUUUAFFFFABRRRQAUUUUAFFFFABRRRQAUUUUAFeM%2BOP8AlIX8L/8AsjPjz/07eEK9mrxnxx/ykL%2BF/wD2Rnx5/wCnbwhQB7NRRRQAV5h%2B1t8ZPGXwY%2BGFhffDWz0yXxL4k8YaL4a0CTW4JJbK1uNQv4bY3U8cUkbyxwxySTeUskZlMQjDx796%2Bn1xvx4%2BCXhr9oH4dS/DvxNrGp6Xt1Kx1PS9a0SaOO90vULK6iu7S7gaWOSPfHPDG22RHjcAo6OjMpAPEtV/bJ%2BM3hT9jX4ofFPXPD/hy/8AHvwt8Tah4f1J7Cyni0y9lhuIRHfRWrXDzsDa3MM/2JZ3leUNbxyuzI54W3/4KRfGg/steOvEmkaJ4e134laX4s1bQ/BEFz4R1PQIruKy0u31G41LUtFvZ21DS4raOWXdBPKj3AS1MbxjULevaI/2DvAMnwW1j4I6v8VfGt/aa9qf9tanrVzc2CajLr41NdTTWhLFaIq3SXMcBSMILVEtoo1twilTlav/AMExP2VfiB4C8T%2BE/wBoLwlB8VNX8W6neajqvjT4i6BpN/qsV5cafa6cZ7XZZR29myWtjZxqIII1/wBGRmDPuZgD0/wb8ZtAT9njQvjv8XPE2i%2BHLG68KWOra5qd/epZ2FkZoI5HZpJnxHGGfALtwMZJr4I/Y48beD/if/wUL8HeIPDfiiw1XQ9B0P4seJtP1bTbpLm2uIL74h6xaRzRSRllkV127WUkMCMZyK/Qr4PfCfwN8CPhX4e%2BDXw00SDTtB8M6RBp2l2lvbRQqkUSBQdkSIgZsFm2qoLMTgZr89P%2BCcf/ABVv/BQ/46%2BIPvf8Ijr2s6Hu/ufaviNrF7t/HGa8nNfeeHp96sP/ACXml%2BiP0DgH9zDOMX/z7wGJ%2B%2Bq6FBf%2BnJL5n6Nf8JhpP/Ppqn/gju//AI1S/wDCYaT/AM%2Bmq/8Agju//jVfO3j7/gsj/wAE3vhf471r4aeOf2jfsOt%2BHdWudM1iy/4RDWJfs91bytFLHvjtGR9row3KSpxkEjmsn/h%2BX/wS0/6Oh/8ALJ1v/wCQqqWeZLCTjLE001/fj/mZ0fC3xMxFGNWlkmLlGSTTWHqtNNJppqFmmmmn1TT6n0//AMJhpP8Az6ar/wCCO7/%2BNUf8JhpP/Ppqv/gju/8A41Xzt4B/4LI/8E3vih470X4aeBv2jft2t%2BItWttM0ey/4RDWIvtF1cSrFFHvktFRNzuo3MQozkkDmu%2B/b%2B%2BMHxM/Z9/Ym%2BKfxx%2BDdpps3ifwl4H1DVdHXV5mS3WWCFpN77Y5N21QzBNuHZQhZAxdevC43B42Llh6kZpb8rTt62Pn884Z4k4YrQpZxgquGlNNxVWnOm5JOzaU0m0no2uuh6X/AMJhpP8Az6ar/wCCO7/%2BNUf8JhpP/Ppqv/gju/8A41Xz3qf7bnxt8K/EPxz4L%2BIXwK8CaFp/wy%2BHlp4m8c%2BJ7v4qXRsbd7uLVGt7a2xo4lnUPp8YlldIiiXBaOOZ0EUnM/Db/gpVq/xV1TwzoerfCfV/C%2BtxfGiXwd4h0hZby2hkQ%2BD9Q1%2BGfbrGj2l68LpDEm37PaSCVAyyyQqVuOk8M%2Bqv%2BEw0n/n01X/wR3f/AMao/wCEw0n/AJ9NV/8ABHd//Gq%2Bef2Sv2%2BfiT%2B0Pp%2BiXHjn9mD/AIR%2B78WfCbRfiD4T0vw941h1We606%2BYI8E5uILKK3uIS8TFQ8iOj5DhlMddT%2B1X4s%2BKupfFr4X/s8fC34r6h4Ebxtdaxdat4r0bTbG6vYrewshIttAt/b3FurSTTQszPE58qCVV2swkQA9d/4TDSf%2BfTVf8AwR3f/wAao/4TDSf%2BfTVf/BHd/wDxqvnKD9oT9pH4n/8ABMjwh8f/AIfWlz/wnOu6R4dm8Q3fhXQ1vbi3tJb%2B0i1jUNOspFkE8qWZvLm3gKy7mWNdk5xG/A%2BFf2l/iD41/Zl%2BIXjfxn%2B1V8S/BUPws%2BI1/wCHtO8RH4f6RD4i8YeZaWNxpsMum3mmMguZJL9LZLaC2t5pnWNSsTsyUAfZf/CYaT/z6ar/AOCO7/8AjVH/AAmGk/8APpqv/gju/wD41Xw5%2B0D%2B1X%2B3b8CLDQ/iL8XbTxTo13pXgTwVezeF/BXgeHUfD%2Bv61c3Zi8RWd/qLW0zWAhUxrbgXFrkurIbtiYV3PBH7b/j7WPjl4u8TfEbxx408K%2BHoPHfi7wf4ItNS0HR08G3F5olreuwurkI%2Brmdo9Ou74zK0Vp5aeQu6VCHAPsb/AITDSf8An01T/wAEd3/8aq/YX9pqdol9YziSKQZVgCO%2BCMHkEHIIPIIr5D/4JlftAftOfE3xjrXg/wDaX1vxWLiX4a%2BF/Emmad470rRbe9knvGv1vLqyOjRrF/ZbNDbrDFdf6fGyyfaEjDxbvq3wf/yCZv8AsKX3/pXLQBq0UUUAFFFFABRRRQAUUUUAFFFFABRRRQAUUUUAFFFFABRRRQAUUUUAFFFFABXjP7L/APyW/wDaO/7LNY/%2BoV4Xr2avGf2X/wDkt/7R3/ZZrH/1CvC9AHs1FFFABRRRQAUUUUAFFFFABRRRQAUUUUAFFFFABRRRQAUUUUAFFFFABRRRQAV4z44/5SF/C/8A7Iz48/8ATt4Qr2avGfHH/KQv4X/9kZ8ef%2BnbwhQB7NRRRQAV5p%2B0V%2Bx3%2BzP%2B1hoo0X4/fB7SPEBjjKWuozQmK9tR1/c3MZWaLnnCsAe4Nel0VnWo0cRTdOrFSi900mvuZjXw9DFUnSrQUovdNJp/Jpnx/D%2BxL%2B3f%2BzahX9i79uKTWtCgObPwF8a9POp28a9o01GHFzHGPuqirgDGScZrF%2BIX7UP7QkHh1/A//BQL/gkvqvizRUJFxqvw%2BjtPFVjMMYMy2cmJYFH%2B0SwAzX21RXlyyeMIuOHqygv5XacPTlqc2nkpI87D5ZictrRrZXiquHlF3jyyclF9OVSfNG3TkqRt0sfln4bl/wCCOuo%2BIp5/2cv2yPiD%2Bzd4oebfeaRba1qGiwRzHtcQXyNblfVFkVeO1e5eA5P%2BClunWi3f7OX7evwP%2BPOlxruiTxPpq2ly8XZVm0qR1dscb3OD1NfXvjr4W/DL4oWH9lfEv4daF4itcY%2Bza7pEN3Hj02yqwrwfx1/wR%2B/4Jw%2BP7k6hffsu6Npd1u3x3Hhq8utLMTdmVbSWNBj0249q8x5LjqDvQ5F/glUo/wDkqdSn/wCSo%2B8j4meJzioZnLC5lFaf7VRU52/6%2BuLqrT/p%2B/0OeH7bn7f3w2/dfHP/AIJdeIb2CL/Wat8NPGNnrAmHdktfllX6M2aWP/gs7%2ByV4fdYfjd4R%2BJ/wylyBJH48%2BHF9bmNvRvIWYCk/wCHSHhXwx83wX/bX/aC8FBP9TY6X8SHms19AYZo23Aehakk/Yo/4KL%2BGIzH8PP%2BCr%2Bq3FuAQLHxh8LdM1HzB6NMWD/iBRfiShspS9fYz/FOjL9R/wCuvDmJ/wCRlwq4PrLB42UPuhXVaK%2B/5Hongn/gpr/wT8%2BIIQ%2BHf2vfAiNJjZHquux2Dk%2Bm26MZz7YzXrHhT4l/Djx5GJvA/wAQNE1lGGVbStVhuAR65jY18R%2BNf2E/%2BChOvl28S%2BHP2RPiKxzmbxx8LZ7eV/fdbISre4NeT%2BK/%2BCYvxzvZDN4p/wCCVvwD1mVTkS%2BBPiXq%2BiHd6oGlUL7ZFH9r55S%2BPDX/AO3ai/J1EL%2B1/CjEfHSzTCvzoYXExXzp1aMn9yP1Por8lf8Ahjn9qzwUNvh79gP46%2BEI0%2B5cfDn9rW0fb/uRTROw/E0oi/4KAeB/%2BQXF%2B29p%2Bzp9ruNL8UY/Py9/9aP9Za8P4mFmvS//ALdTQW8L638PPqlPyr5djYfe6fto/cmfrTRX5Lf8Nbf8FL/B33/iv%2B0rHGnSHxZ%2Bx9pzRj/tvBdl2Hvij/h6x/wUB8Jn/T/H2hzbev8AwmXwH16y/wC%2Bvse/H4Uf63YCP8SnOPyX%2BaD%2BzODan8HibAP/ABvF0fv9tgUl9/zP1por8mB/wXn/AGlfDIH/AAmerfAmcj7yW/h/xhZk/wDf60YCtLT/APg4q8dwY%2B1fBT4dax/2D/iDc2O76fa7MY/GmuM8g%2B1Nr1i/0bHHh7LqrtQzvLKnpmOHj/6dVH8bH6q0V%2BZmkf8ABxakyg67%2ByVpVuO/2T42aTN%2BjRpW5bf8HF3wPgAbxD%2Bz/rUH97%2Bz/Gei3WPpi5XNbx4t4el/y/S9VJfoarg/MajtRxODqf4MfgJfljEfovRX586d/wAHIX7FdxMLW%2B%2BEvxQjk7m10rTblB%2BMd/8A0rptL/4OAf2F9SAM3h34kWgPefwfux/37matocT8PT2xMPvf/wAiaS4C4rW1CMv8NfCS/wDScbL8j7gor48s/wDgut/wTznAN/428U2Pr9r8EX/H/fEbVo2n/BcT/gmBcsIpv2lGtnP8F14N1hCPx%2ByY/Wt1n%2BRv/mJp/wDgSX52EuAeNp/Bl9WX%2BGKn/wCkVJn1lRXzNYf8Fj/%2BCaGo4%2Bz/ALV%2Birn/AJ76bfRf%2BhwCtix/4Kq/8E6tQx9n/a98Grn/AJ76gYv/AENRWsc4ymW2Ih/4HH/5IT4A47j/AMyrE/8Agiq/yhI%2BgaK8Vsv%2BCj37Al/jyP2yvhsuf%2Be3jC0j/wDQ3Fa1n%2B3T%2BxLqGPsH7YnwsmJ7RfEHTWP6TVtHMMvltWh/4HH/AOSOSpwhxdR/iZbiF64ev/8AKT1SiuAs/wBrD9lnUMfYP2lfAE%2Benk%2BMrFv5S1p2nx5%2BBt//AMePxn8Jz56eT4itm/k9arE4aW1SL/7ej/mcFTJM6o/xMLVj60qi/OmjrKKxrT4jfD2/x9h8d6NNnp5WqRN/Jq0rbVNMvf8Ajz1GCb/rlMrfyNaKcJbNHFUw%2BIpfHBr1TX5pE9FFFUYhRRRQAV4z44/5SF/C/wD7Iz48/wDTt4Qr2avGfHH/ACkL%2BF//AGRnx5/6dvCFAHs1FFFABRRRQAUUUUAFfnP/AMEhPDx/4Xz%2B2J47ZM/bf2m7zTlc/wDTt4i1BiB/4ECv0Yr4l/4JQ%2BF20bwH%2B0L4gmT59Z/bR8cTI5HWOPxGIVH0DRv%2BdcGLp%2B0xWHf8spP/AMkkv1PreH8asHkGcRvrVo0qf34qlN/%2Bm0fbVFfMXj//AIKa/wDCBeO9b8C/8O%2Bf2nta/sXV7mw/tjQPhP8AabC/8mVo/PtpftI82F9u9HwNyspwM1kf8PYf%2Bsan7Wn/AIZv/wC6qylnWWRk4upqv7s//lZ%2Bcy4hyaEnGVXVafDU6af8%2Bj60rF%2BI/wAPPBnxc%2BH2ufCr4jaDFqvh/wAS6Rc6XrmmTsypdWlxE0U0RKEMAyMwypBGcgg818%2BeAf8Agpr/AMJ7470XwL/w75/ae0X%2B2tXtrD%2B2Nf8AhP8AZrCw86VY/PuZftJ8qFN293wdqqxwcV7N%2B0n4w%2BJ3w8%2BAXi/4g/Bnw5aaz4n0HQLnUtH0W9hd01KSBDKbUBHQh5VRo0bdhXdWIYAqevDYzDYyLlRldLfSS/8ASox/U7cHj8HmEXLDy5ktHpJef2ox/C5jQfsa/s8L4V8U%2BDtT8Ialq9n418N2%2Bg%2BKpfEXivU9TutSsIPtPkxyXN3cyT70%2B1z4lDiUbl%2Bf5E253gf9gr9lr4e6kuueH/AWpTakPFw8US6trXjHVtSvLjVxpE2jC7muLy6llnYafPLb4kZl2lTjciMvhviP/go/8TfiR4WufGP7LjaHqth4j8dzaR8KJYvCS6o3iDTrDSFutVvZGudb0q2hjiu/PgDtcLtFm4CStIPL4nwb%2B3V8Rvi54j0T48WX2m107x58Mv2d9Vj8KNr979h0qfxF4u122v5IPs08W5zF5KMxyk62sKzJLEvlHpOw%2Bw/DH7J3wI8E2OiWHg7wne6UvhzwNaeDtEm07xHqEM1potq8bwWqypOHO0xR5kLGRgCGdgzA6Pxv/Z6%2BFP7ROiafofxS0fUZhpGom%2B0i/wBE8RX2kX1jcGGWBnhvLCaG4i3QzTROEkAdJGVgVJFfJvwT/ap/ag%2BN37Unwg8Yan4q8I/2J47%2BFvj/AFvw58PdKur3T2tZLO/0aC2g1aUzXCXUsfmlGuEtojbSPcIsUmcn279t/VvEk%2BmfCj4by%2BKtV8O6R47%2BK9hofjPUvDeu3Gn3UNmdPv7pIIb23aKe38%2B9tbO18yNo5GW4KqVLigD0KT9nf4WJ4DHww0ax1jRdAi8OWGhWWmeGfFeo6VHp9jZkm3S0%2Bx3ERs3UHaZYCkroiIzssaKvF%2BJf%2BCev7Kvivwp4T8Haj4S8SW9t4J1671zw7d6R8R9esL6LVLpZVuL%2Ba8tr2O5u7mQTzBp55JJD50nzfO2eB%2BEWo/tC/FP/AIJt%2BN9D%2BE/xJu5/GlnqXjvw54B8Waxqpa4uLfT9e1TT9MuJLyUOWlNrbQD7W4cu2J237jniv2fbP4q/FnTvjf8AAs%2BC/H1hYeEvFOjHwT4e8cftCataarDfy6VFPd6fd%2BINJur66SMbkuhCs11tW6TcqqyxRAH0r4g/ZL%2BCni7xB4Y8R%2BLrTxNq0nhC3sItHstV8f6zc2LvZSeba3F1aSXbW9/dRy4lF1dRyz%2BYiOZCyKwguP2Mv2bb34q3Xxl1H4dvd6zeT3NxNbXut3s2mLc3No1lcXSaa8xso7mW2eSCS4SFZXjlkVnIkcN8Fz/Gr4ueL/2aNS1/xh%2B0l4y0zV/hd%2BzX4i8U%2BGr/AEvxZd2wvfE%2BnaxqNnM1w8Mw/t2CzewsrZftHmxXaXglkjL3C7fW/EviL9rL4ZftreCtb8VaP4wnl8d/GSKws7tPiEr%2BHG8MSeHppZdMTRRdZS9tpoJLp7j7ICRAXN2yyfZyAfUPwH/ZL%2BBH7NVze33wj8Malb3N/p1pp0t3rXinUtXnisbXzPs1lDJqFxM9vaxGaUpbxFIkMjEICTXaeD/%2BQTN/2Fb7/wBK5a1Ky/B//IJm/wCwrff%2BlctAGpRRRQAUUUUAFFFFABRRRQAUUUUAFFFFABRRRQAUUUUAFFFFABRRRQAUUUUAFeM/sv8A/Jb/ANo7/ss1j/6hXhevZq8Z/Zf/AOS3/tHf9lmsf/UK8L0AezUUUUAFFFFABRRRQAUUUUAFFFFABRRRQAUUUUAFFFFABRRRQAUUUUAFFFFABXjPjj/lIX8L/wDsjPjz/wBO3hCvZq%2BcP2j9X%2BNej/t4fCef4HfD/wALeItSb4R%2BO1u7TxX4wudFgjg/tTwkS6S2%2Bn3rO%2B7aNhjUYJO/ICkA%2Bj6K8Z/4Tj/goX/0a/8ABn/w/Grf/MvR/wAJx/wUL/6Nf%2BDP/h%2BNW/8AmXoA9morxn/hOP8AgoX/ANGv/Bn/AMPxq3/zL0f8Jx/wUL/6Nf8Agz/4fjVv/mXoA9mor5x0n9o79u3WPjPr/wADrf8AZQ%2BEi6p4d8L6Rrt5cv8AHXVPIkg1G51K3hRCPDG4uraXOWBUAB48FiWC9R/wnH/BQv8A6Nf%2BDP8A4fjVv/mXoA9morxn/hOP%2BChf/Rr/AMGf/D8at/8AMvR/wnH/AAUL/wCjX/gz/wCH41b/AOZegD2aivGf%2BE4/4KF/9Gv/AAZ/8Pxq3/zL1y/gH9o79u34ieK/G/hDR/2UPhJDceA/FEWharJc/HXVAk88mlafqYeLb4YJKeTqMKksFO9HGMAMwB9HUV4z/wAJx/wUL/6Nf%2BDP/h%2BNW/8AmXo/4Tj/AIKF/wDRr/wZ/wDD8at/8y9AHs1FeM/8Jx/wUL/6Nf8Agz/4fjVv/mXo/wCE4/4KF/8ARr/wZ/8AD8at/wDMvQB7NRXzj8Iv2jv27fjL4Uu/F/hz9lD4SW1vZ%2BKNb0KSO9%2BOuqK5n0vVbrTJ3G3www2NNaSMhzkoykhTlR1H/Ccf8FC/%2BjX/AIM/%2BH41b/5l6APZiARgjIPY1mah4K8G6vn%2B1fCWmXWev2iwjfP5qa8s/wCE4/4KF/8ARr/wZ/8AD8at/wDMvR/wnH/BQv8A6Nf%2BDP8A4fjVv/mXpOMZboUoxkrNXO4v/wBn74C6rn%2B1Pgl4Quc9ftHhq1fP5x1jXv7HP7Iup5/tL9lj4cXGevn%2BB7B/5w1gf8Jx/wAFC/8Ao1/4M/8Ah%2BNW/wDmXrl/gj%2B0d%2B3b8ePgx4Q%2BOPhX9lD4SWul%2BM/C%2Bn67pttqHx11RZ4YLu2juI0kCeGGUOFkAYKzDIOCRzWMsLhZfFTi/wDt2P8A8ic8sHg5/FSi/WMX%2BcTsbz/gn9%2BwlfZ%2B0/sYfCsk9WT4f6cp/NYQayrv/gmd/wAE%2Br3PnfscfD1c/wDPLwzBH/6Coq5/wnH/AAUL/wCjX/gz/wCH41b/AOZej/hOP%2BChf/Rr/wAGf/D8at/8y9ZPLsvlvRh/4BH/AORMZZTlUt8PT/8AAIf/ACBg3X/BKP8A4JzXmfO/ZC8HjP8Azysmj/8AQWFZ9z/wR8/4JqXefN/ZM8PjP/PK6u0/9BmFdd/wnH/BQv8A6Nf%2BDP8A4fjVv/mXrl/jd%2B0d%2B3b8B/gx4v8Ajj4q/ZQ%2BEl1pfgzwvqGu6lbaf8ddUaeaC0tpLiRIw/hhVLlYyFDMoyRkgc1m8oymW%2BHh/wCAR/8AkTF5Fkkt8LT/APBcP/kTJuf%2BCK//AATDus%2Bb%2Bypp4z/zz8Qamn/oN0Koz/8ABDf/AIJbznJ/ZeVT6x%2BMtaX%2BV5Xpn/Ccf8FC/wDo1/4M/wDh%2BNW/%2BZej/hOP%2BChf/Rr/AMGf/D8at/8AMvWbyPJXvhqf/gEf8jN8OcPPfB0v/Bcf8jyif/ghJ/wTCm4T9n68i/3PGmrH/wBCujVGf/ggd/wTLl%2B58HNXj/3PGGoH%2Bcxr2X/hOP8AgoX/ANGv/Bn/AMPxq3/zL0f8Jx/wUL/6Nf8Agz/4fjVv/mXqHkGRv/mFp/8AgKNIZFk1P4MPBeit%2BTR4fN/wb%2Bf8E15fufDvxFH/ALni26/qxqrN/wAG9v8AwTik%2B54X8WR/7niqX%2BqmvUvi7%2B0d%2B3b8GvClp4v8R/sofCS5t7zxRomhRx2Xx11RnE%2Bqara6ZA53eGFGxZruNnOchFYgMcKeo/4Tj/goX/0a/wDBn/w/Grf/ADL1D4cyB/8AMLD/AMBR0Ry7Bw%2BGLXpKovyqo%2BfJf%2BDd/wD4J2yHKWPjWP8A3PFH%2BMRqvJ/wbpf8E9n%2B5dePk/3PEsX9bc19F/8ACcf8FC/%2BjX/gz/4fjVv/AJl6P%2BE4/wCChf8A0a/8Gf8Aw/Grf/MvUvhnh5/8wsP/AAH/AIJtHDxh8M5r0q11%2BVdHziP%2BDdb9hSE5svG/xPtvTyPFFuMfnampo/8Ag3w/ZDtjmx%2BOXxnt/TyPGNqMf%2BSdfRH/AAnH/BQv/o1/4M/%2BH41b/wCZeuX8fftHft2/DvxX4I8Iax%2Byh8JJrjx54ol0LSpLb466oUgnj0rUNTLy7vDAITydOmUFQx3ugxgllP8AVnh9bYaH3P8A%2BSKdJy3qVP8AwdiP/mg8pg/4IKfs6Wn/AB4/tUfH239PJ8eWy/8AtlV23/4IffCayH%2BgfttftIwenlfEiBf5Wde4/wDCcf8ABQv/AKNf%2BDP/AIfjVv8A5l6P%2BE4/4KF/9Gv/AAZ/8Pxq3/zL1S4dyNbUF98v/kzCeAoVPilN/wDcav8A/NB4zF/wRl8M2v8Ax4/8FBf2nIcdNnxPQfytRT/gH%2Bx%2BP2UP%2BChPg5F/aS%2BKPxBXXvgz4ywPiT4p/tP%2Bz/I1bwt/x7fu08vzPO%2Bfru8qP%2B7Xsf8AwnH/AAUL/wCjX/gz/wCH41b/AOZeqHgfwP8AtWeMf2rPDnxu%2BN3w4%2BHvhnRvDPw98Q6HDD4V%2BId9rV1d3WpX2iXCMyXGkWKRRomlygsHdi0qALjJHRh8oy3C1VUpU7SXnL8nNr8CaWW4ShVVSCldd51JfhKrJfeme60UUV6R3BRRRQAUUUUAFfOX7EPhnTvC37PHiy9sfMIvf2hvH%2Bp3zsM4P/CeapvbgdFSMfgtfRtfJX7JXiz9s7T/AIe%2BKLP4Y/AP4YavoSfGn4i/2fqOvfF3UdNu5l/4TPWSxktotAuUiIbcABM%2BQAcgnaE0m0%2BxcalSMJQT0la/nZ3X3PU%2BoP8AhOfBP/Q4aX/4MI//AIql/wCE58E/9DhpX/gwj/8Aiq8t/wCE4/4KF/8ARr/wZ/8AD8at/wDMvR/wnH/BQv8A6Nf%2BDP8A4fjVv/mXpkHqX/Cc%2BCf%2Bhw0r/wAGEf8A8VR/wnPgn/ocNK/8GEf/AMVXlv8AwnH/AAUL/wCjX/gz/wCH41b/AOZej/hOP%2BChf/Rr/wAGf/D8at/8y9AGpffAz9ijVPhxpPwd1P4O/C248I6Be/bNC8Kz%2BHtNfTdNud0jedBbFPKhk3Syneig5kc5%2BY50NP8Ahx%2ByjpNra2WleA/h7bQ2VppNpZQ2%2Bl2KLbwaXPJcaZEgCgIlpPLLLbqMCCSR3jCsxJ8z%2BCP7R37dvx4%2BDHhD44%2BFf2UPhJa6X4z8L6frum22ofHXVFnhgu7aO4jSQJ4YZQ4WQBgrMMg4JHNdR/wnH/BQv/o1/wCDP/h%2BNW/%2BZegDVsfgf%2BxVpfinW/HOmfCD4XW%2Bt%2BJYLqHxHrEHh/TUutVjusfaUuZQm%2BdZdq%2BYHJD4G7OK6DxvpXwA%2BJngi5%2BGXxI03wd4g8N3kKRXfh7XIbS7sZ40ZWRHglDRsqsqkArgFQR0FcV/wnH/AAUL/wCjX/gz/wCH41b/AOZej/hOP%2BChf/Rr/wAGf/D8at/8y9AHVDwT%2BzCPD1v4RHhHwGNJtPDc/h610v7BZfZ4dInEazacke3atrIIYg8AHlsIkBU7RjDuv2fP2GL74W2vwOvfgh8J5vBVlfm%2Bs/B8vhrTG0uC6O/M6Whj8lJP3j/OFDfO3PJrifjd%2B0d%2B3b8B/gx4v%2BOPir9lD4SXWl%2BDPC%2Boa7qVtp/x11Rp5oLS2kuJEjD%2BGFUuVjIUMyjJGSBzXUf8Jx/wUL/6Nf8Agz/4fjVv/mXoA3fEHwm/ZA8WWPhjS/FXw0%2BG2p23gmWOXwZb6ho2nzR6A6BAjWSuhFqVEaYMW0jYuOgq1pvgH9lrRvirf/HbR/BfgC08b6rbLb6p4yttNsY9VvIQkaCOW7VRNIgSKJQrMQBGg6KMcx/wnH/BQv8A6Nf%2BDP8A4fjVv/mXo/4Tj/goX/0a/wDBn/w/Grf/ADL0Aeo/8Jz4J/6HDS//AAYR/wDxVHgw79DM6g7Jr67liJGNyPcyMrfQqQR7GvLv%2BE4/4KF/9Gv/AAZ/8Pxq3/zL1y/xd/aO/bt%2BDXhS08X%2BI/2UPhJc2954o0TQo47L466ozifVNVtdMgc7vDCjYs13GznOQisQGOFIB9HUV4z/AMJx/wAFC/8Ao1/4M/8Ah%2BNW/wDmXo/4Tj/goX/0a/8ABn/w/Grf/MvQB7NRXjP/AAnH/BQv/o1/4M/%2BH41b/wCZej/hOP8AgoX/ANGv/Bn/AMPxq3/zL0AezUV84%2BPv2jv27fh34r8EeENY/ZQ%2BEk1x488US6FpUlt8ddUKQTx6VqGpl5d3hgEJ5OnTKCoY73QYwSy9R/wnH/BQv/o1/wCDP/h%2BNW/%2BZegD2aivGf8AhOP%2BChf/AEa/8Gf/AA/Grf8AzL0f8Jx/wUL/AOjX/gz/AOH41b/5l6APZqK8Z/4Tj/goX/0a/wDBn/w/Grf/ADL1y%2BrftHft26P8Z9A%2BB1x%2Byh8JG1TxF4X1fXbO5T466p5EcGnXOm28yOT4Y3B2bVICoCkEJJkqQoYA%2BjqK8Z/4Tj/goX/0a/8ABn/w/Grf/MvR/wAJx/wUL/6Nf%2BDP/h%2BNW/8AmXoA9morxn/hOP8AgoX/ANGv/Bn/AMPxq3/zL0f8Jx/wUL/6Nf8Agz/4fjVv/mXoA9mor5x0n9o79u3WPjPr/wADrf8AZQ%2BEi6p4d8L6Rrt5cv8AHXVPIkg1G51K3hRCPDG4uraXOWBUAB48FiWC9R/wnH/BQv8A6Nf%2BDP8A4fjVv/mXoA9morxn/hOP%2BChf/Rr/AMGf/D8at/8AMvR/wnH/AAUL/wCjX/gz/wCH41b/AOZegD2aivGf%2BE4/4KF/9Gv/AAZ/8Pxq3/zL1y/gH9o79u34ieK/G/hDR/2UPhJDceA/FEWharJc/HXVAk88mlafqYeLb4YJKeTqMKksFO9HGMAMwB9HUV4z/wAJx/wUL/6Nf%2BDP/h%2BNW/8AmXo/4Tj/AIKF/wDRr/wZ/wDD8at/8y9AHs1eM/sv/wDJb/2jv%2ByzWP8A6hXhej/hOP8AgoX/ANGv/Bn/AMPxq3/zL1b/AGVvhz8afB%2BsfFDx38dNA8L6Tqnj74hRa5Z6V4T8S3OrW9raxaDo%2BmKr3FxZWbNI0mnSuVEW0LIg3Mc4APW6KKKACiiigAooooAKKKKACiiigAooooAKKKKACiiigAooooAKKKKACiiigAr5X/ae/a0%2BLnww%2BMfizWvAPh3wfJ4Y%2BD/h/wAP3vjU61pFxNquqW%2Br38qXMFhcR3EaWXkW1nHcZkinFzIUjIh8vzT9UV4z8Z/2Ifhx8bvikfiZrnjnxVpcWo2ukWvi/wANaNdWqad4pg0u9kvbGK%2BWW3kmCxzTS5%2BzywGWOQxTGWMKgAPZqKKKACiiigD5j8OftK/EyH9v/wAUfB/4jax4e8J%2BG18QWmieDItR%2BEWspdeMYBoEGo4g8RtdrpzSx3dzqAFoIXk8u0mAUFmkX6cryvxZ%2By1B4/8AjJpHxT8e/G/xrq%2BleHtdj1rQPAFwdMi0ax1CO3eCOcNDZJey7PMkkVJrqSMSPu2fIgX1SgAooooA8X/4KC/F344fs/fsj%2BNPj18Ar3wpHrHgnQrvXLqDxhotzfW13aWttLM9uiW11bMkrsiKJC5VAWJR%2BBXn/jz9rT4ueC/jx4t1Pwp4d8IRfDzwh8Y/CPw%2B8ZWc2kXB1vVdV12DRUj1CG7S4WGOOD%2B3NJjMUlvK8iQz4lj2oK9h/ax/Zxsv2tPgRr37PutfFXxT4R0nxPZS2OuX/hBdO%2B13NlLE8U1tuv7S6jRHV%2BWRFkBUbXXnPFwfsA%2BDp/iLZ/EXxV8cfH2usdZ0nXPE2jahLpUVj4n1zTEjSx1a9jtrCJluIhBaYW2aCBjY2xeJjHkgHvdFFFABXi/7ZPxd%2BOHwStfAPjH4WXvhT%2BxtQ%2BJnhzw94vsfEGi3NzdXNrqus2Omg2csN1CltJGtzLJvkSdSURdnJNe0V5V%2B1d%2By2/7VXhvQvC8/x98b%2BBrfQvElhrqN4Lh0dnu72xvILyzaU6lp94NsVxbxuFjCBuVk3qdoAPOP2ef2lfiZrf7VXi34I/FDV/D3hPTofFOt2/gnwlJ8ItZ0y5162hdJTf2%2BtXF39g1B2Mk0ssVtAX5LsVwxP05Xkuk/soh/jJovxl%2BI/wC0B478azeF7u8u/CeheIRpMNho91c28lrJcRLYafbSyv8AZ5p4V8%2BSVUWd9oBII9aoAKKKKAPD/wBu74ufHj9n74Nav8dfhR4x8C2On%2BFtFuby90XxZ4Zvb%2B58Q3uUWz0yzktr2D7PNcSkW6N5V0zSzxBYWPyt5/8ABH9r74z658S/BX9reDPCWkfDTxv8T/FHw28K%2BGtO0uaPV9Ev9Ah1bfPPci4a3mgkbw/qaLDHbxGNWtj5kmWA9P8A2lf2QYP2kvHngj4gTftA%2BO/CFz4Bu7m90Wx8MRaNPZyXsqCNbyaDU9OvEeeGPzFhkAUxieUj5myKvgP9hr4e%2BA/jLb/F2H4i%2BLtSg07XdT17RPCGpXNl/ZOla3qMbx6hqkCRWqT%2BfOJ7ssrzPCjX1yY4o/M4APa6KKKACvl/9rn48ftL/Bb4iaf4U0qHwB410fxzDrVtovw5i8H30msJa2mh3V3Jf3E4vXiurYXUVvbSQi1iB%2B3woJjIyJJ9QV4dN%2BxNcR/tH%2BK/2mtE/ar%2BJenav4t02HTrnS4YPD89pp9nDA0cNtZtc6TLc28Syu91sWba87l3Dg7aAGfsIftB%2BN/j38Pby6%2BK/j7Rr7xdpws21/w3ZfC7V/CN5oDz2yyiC5stXup7hwW3%2BXcAJHIqHaG2k17pXm/wO/Zu074M%2BJ/EnxD1j4peKfHHirxXFY2%2BseJ/FzWC3L2lmJvstqkWn2trbRxRtc3LjbCGZriQszZGPSKACiiigD45/wCCgn7cfxU/Yw8c/wBp65ougeMfCL6NqOt2/hWX4c6nZS26abo19qSSf8JFNdPpk939r00bLFYEuhHMsoG2FpG9e/Zo%2BLvxz1b4qeN/2ev2jrnwpqHifwjpOh61HrXgrSLmwsbmx1QXkaRGC5ubl1liuNOu1L%2BbiRDE2yMkqK3x1/YS8EftOa1dWvx/%2BLfjXxR4LuZLiRfhleSabDosUk1jNZM2%2B3so76QCO4mYJLdOgd9235EC9P8As%2BfszaR8A7zXvEV38UPFnjjxH4kNnHq3irxrcWb30ttaRGK1tR9jtreFYog8rDEe9nnld2dnJoA9KooooAK%2BI/2p/wBsr9rP4N/GrxB8KPB3hvw5411Ow0W413wwE%2BB/iCOTRQNR0y1Qwt9uceJpBY6pced/ZflPC0JWURiYR19uV4fr37Fup%2BJfHp%2BJ2tftc/FGbW9PgvIvBt4U0ADwqt1NDJP9kjGk7J2aOBbfderdMsTOFKu7OQDqv2WPiw/xk%2BEcHiy9%2BJmjeKr%2BHUbqy1S%2B0bwZfeHRbXEUrK1rNpuoXE91ZzxjCvHM4fPzbVDAV6NXDfAP4C%2BHvgB4Z1PRtK8U634g1HX9euNb8SeJPEc0DXuq38wRGnlFvFDAmI4oYlSGKONUiQBRgk9zQAUUUUAFFFFABRRRQAUUUUAUfFHiGw8JeGtR8V6qHNrpljNd3IiXLeXGhdsDucKa%2Bc/2Jv2k/jX4/wDFOj%2BDPjZ4e8GWY8dfC2y%2BI3hmHwZpVxaDTI7y4Ju9PuzNcSi7mje5tn%2B2IIBO0sxMEe0F/pa7tLW/tZbG9t0mhmjaOaKVQyupGCpB4II4xXkP7M37FfgL9mDVX1fQPiD4t8Sy23hix8M%2BHR4svbWYaBoVm8j2%2Bm2pt7eEtGpk%2BaWczXEgji8yZ/LXAB7FRRRQAVwv7UHjz4i/Cz9mj4ifE74P%2BFF17xb4c8C6vqnhbQ2sZroajqNvZyy21sYYGWWYSSoieXGwdt2FIJBruqzvFuiX/iXwxqHh/S/Feo6Fc3tpJDb61pCwNdWLspAmiFxFLEXU8gSRumR8ysMggHl37FPxan%2BKHwzvrLVviF4f1nU/Duqrp15pmifDDU/Bz6GgtoJIrO40rVLme5hcI4kV28tHili2Jgb39irzz4D/ALO2k/A688S%2BI7n4ieJPGPiTxfqMN54i8U%2BK3sxd3Rht0t4IhHY21tbRRRxoAqxwpks7MWZmY%2Bh0AFFFFAHy5%2B1R%2B1j8UP2cPi944sviVo3hLxF8L7D9nfxf49ttCt9EuE1V20QaWs9tcXMly9vNFOt9OAgtkKhEy75YV2/7M/xf%2BPmqfFzxl%2Bzr%2B0s/hK88UeGPDHh7xLHqvgrSbmxspLLVn1K3W2MNzc3LmWG40i7BlEgWRHiby4zuWoPjH%2Bwr4d%2BOnx1b4y%2BPPjt45l02bwVqfhG%2B%2BHsMGi/2Jd6NqS232%2B0kL6a16RO1pA7OLoOpQhGRGZD0n7O/7Luh/s%2B32teI5/ih4t8b%2BIdftbCyv/E/ja5tJL02Fiki2dmPsltbx%2BVEZ7hwShkd7mV3d2bNAHp9FFFABXyJ8a/2l/2tvBmu/tAeBLfwr4M8WXvgLw/4U8SfDax0n4f6nfzrHqOq6lCEvLWK8eXUZ4F02OdTbC3JckKvyq1fXdeFy/sUeIYvjp42%2BP8AoX7aHxW0rVvG%2BkWOmXNjZWfhhrTTbayuLmezS2EuivJ%2B6N5dKDM8pdZyJPMKoVAOr/ZU%2BLc3xl%2BFI8Taj8TtG8U6ja6rc2OrXWj%2BCL/w2bO4ib5rWfTNRuJ7q0nRSu5JmDEMrbVVhXpNcJ8A/gHoHwB0LWbHT/FuueI9V8TeIJdc8T%2BJvEktu17qt/JDDB5sgtoYYIwsFvbwqkUUaKkKALnJPd0AFFFFAHxt%2B0t%2B13%2B0t%2Bzx8ZoPhtrKfDPxrfa3BBN4Rh07wte2kvgu81LxDpnh7SJtTle%2BmF1FO2rzgtEtnI4sbpYwy%2BYYvcf2Vfi/8SPiMPH/AMPvjEdEn8VfDTx43hrWdV8NadNZ2Gp%2BZpenatb3ENvNPPJb5tdUt0eNppcSRyYYgjHC23/BNXwk118Q38Q/tL/E7Wbf4k68dc1i31I6F5lnqUVxDPp9zbXUWlpdKbB7e3FpG80kUSwoGR%2Bc%2BsfAP4C6H8A/D2rabZeL9c8Sat4i16bWvE/ijxK9sb/V76SOKHzphawQQLsggt4ESKKNFjgjULwSQDuqKKKAGXP2n7NJ9j2edsPlebnbuxxnHOM18QfFb9rn9tP4afETXPhtb23gPxnr3hi98NW%2BreOvBHwV1/Vo/DlvqzXj3thLpVnqU93czRw2VjdExTp%2B7uoWlgQGJpPt67hkuLWW3hupIHkjZVniCl4yRgMu4FcjqMgj1Br57%2BDH7AXiD4CfDa4%2BGnw7/bq%2BMUUd1qz6nNrN5ZeE59Qlu5XlkuZ5pn0I/aZJ3l3SSTiR8xpsKAYIB6z8BPiHZfFb4O%2BH/iFYfEDRvFSanp4kfX/D%2BkzWFpdyAlZClrPNNLbFXVkaGSR3jZWVjuUgdfXJfAv4L%2BEv2ffhfp3wp8FXN/cWVhLdXE19qtyJrq%2Bu7q5lurq6mcKoaWa4nmlfaqrukO1VXCjraACqPieHxJc%2BG9Qt/Bup2Nlq8llKul3mp2D3VtBcFCI5JYY5YmmjVsFkWSMsAQHUncL1ZvjHQb/xR4Wv/Dul%2BLdS0G5vLV4oNa0cQG6sXI4miFxFLEXU8gSRuhx8ysMigD4e%2BG/7dn7Wvxg%2BKet/BL4Wab8Pk8Z6ba67fSeM/Ffwu1rQ11TTNItdFlSxl0S8vk1DT5Xu/EOxJp5nj8qGS4SF1nQH7G%2BAXxa034%2BfAnwV8ddG02Wzs/GvhLTdetLOZ9zwRXlrHcLGxAGSokAJ9RXi2r/8EyPA%2Bta5ffEW7/aU%2BKafEDVkvLXWviTbXukQ6tf6ZdW1rbTaYUTTRZw2xSytGHkW0UqyQLKsocsx%2Bg/Bfg/w18PPB2k%2BAPBmkxafo%2Bh6ZBp%2Bk2EOdltbQxrHFGuecKiqo%2BlAGnRRRQBy/wAadR8caN8Lda1v4c%2BIbHS9WsLM3UN9qHg%2B98QIkcZDygadYzwXN5I0SuqRQyBy7LhXPyN8W/CX/goj8fvEnjTQ9T8b3HhHwJ4M1KedfEHji8%2BBniKa21i/h1%2B60hEuZVvo08MzyWtpa/uNUaSWB5VjfOwJX238TPBmu%2BPfCU3hzw38Utf8G3kksbxa/wCGYrF7uDawJVVv7a5gYMAVIeJuCcYOCPFbr/gnN4U1DwfcfDbVv2kPibd%2BGNc1Ca/8eaBNcaOIvGF3PeNdXE19Kumi4i80ssLR2ctrEIYkjVFG7cAfRNFFFABRRRQAUUUUAFFFFABRRRQAUUUUAFFFFABRRRQAUUUUAFFFFABRRRQAUUUUAFFFFABRRRQAUUUUAFFFFABRRRQAUUUUAFFFFABRRRQAUUUUAFFFFABRRRQAUUUUAFFFFABRRRQAUUUUAFFFFABRRRQAUUUUAFFFFABRRRQAUUUUAFFFFABRRRQAUUUUAFFFFABRRRQAUUUUAFFFFABRRRQAUUUUAFFFFABRRRQAUUUUAFFFFABRRRQAUUUUAFFFFABRRRQAUUUUAFFFFABRRRQAUUUUAFFFFABRRRQAUUUUAFFFFABRRRQAUUUUAFFFFAH/2Q%3D%3D\">"
      ]
     },
     "metadata": {},
     "output_type": "display_data"
    }
   ],
   "source": [
    "s.run(tf.global_variables_initializer())\n",
    "\n",
    "BATCH_SIZE = 512\n",
    "EPOCHS = 40\n",
    "\n",
    "# for logging the progress right here in Jupyter (for those who don't have TensorBoard)\n",
    "simpleTrainingCurves = matplotlib_utils.SimpleTrainingCurves(\"cross-entropy\", \"accuracy\")\n",
    "\n",
    "for epoch in range(EPOCHS):  # we finish an epoch when we've looked at all training samples\n",
    "    \n",
    "    batch_losses = []\n",
    "    for batch_start in range(0, X_train_flat.shape[0], BATCH_SIZE):  # data is already shuffled\n",
    "        _, batch_loss = s.run([step, loss], {input_X: X_train_flat[batch_start:batch_start+BATCH_SIZE], \n",
    "                                             input_y: y_train_oh[batch_start:batch_start+BATCH_SIZE]})\n",
    "        # collect batch losses, this is almost free as we need a forward pass for backprop anyway\n",
    "        batch_losses.append(batch_loss)\n",
    "\n",
    "    train_loss = np.mean(batch_losses)\n",
    "    val_loss = s.run(loss, {input_X: X_val_flat, input_y: y_val_oh})  # this part is usually small\n",
    "    train_accuracy = accuracy_score(y_train, s.run(classes, {input_X: X_train_flat}))  # this is slow and usually skipped\n",
    "    valid_accuracy = accuracy_score(y_val, s.run(classes, {input_X: X_val_flat}))  \n",
    "    simpleTrainingCurves.add(train_loss, val_loss, train_accuracy, valid_accuracy)"
   ]
  },
  {
   "cell_type": "markdown",
   "metadata": {},
   "source": [
    "# MLP with hidden layers"
   ]
  },
  {
   "cell_type": "markdown",
   "metadata": {},
   "source": [
    "Previously we've coded a dense layer with matrix multiplication by hand. \n",
    "But this is not convenient, you have to create a lot of variables and your code becomes a mess. \n",
    "In TensorFlow there's an easier way to make a dense layer:\n",
    "```python\n",
    "hidden1 = tf.layers.dense(inputs, 256, activation=tf.nn.sigmoid)\n",
    "```\n",
    "\n",
    "That will create all the necessary variables automatically.\n",
    "Here you can also choose an activation function (remember that we need it for a hidden layer!).\n",
    "\n",
    "Now define the MLP with 2 hidden layers and restart training with the cell above.\n",
    "\n",
    "You're aiming for ~0.97 validation accuracy here."
   ]
  },
  {
   "cell_type": "code",
   "execution_count": 35,
   "metadata": {},
   "outputs": [],
   "source": [
    "# write the code here to get a new `step` operation and then run the cell with training loop above.\n",
    "# name your variables in the same way (e.g. logits, probas, classes, etc) for safety.\n",
    "### YOUR CODE HERE ###\n",
    "\n",
    "s = reset_tf_session()\n",
    "input_X = tf.placeholder(tf.float32, shape=(None,784))\n",
    "input_y = tf.placeholder(tf.float32, shape=(None,10))"
   ]
  },
  {
   "cell_type": "code",
   "execution_count": 39,
   "metadata": {},
   "outputs": [
    {
     "name": "stdout",
     "output_type": "stream",
     "text": [
      "0\n",
      "1\n",
      "2\n",
      "3\n",
      "4\n",
      "5\n",
      "6\n",
      "7\n",
      "8\n",
      "9\n",
      "10\n",
      "11\n",
      "12\n",
      "13\n",
      "14\n",
      "15\n",
      "16\n",
      "17\n",
      "18\n",
      "19\n",
      "20\n",
      "21\n",
      "22\n",
      "23\n",
      "24\n",
      "25\n",
      "26\n",
      "27\n",
      "28\n",
      "29\n",
      "30\n",
      "31\n",
      "32\n",
      "33\n",
      "34\n",
      "35\n",
      "36\n",
      "37\n",
      "38\n",
      "39\n"
     ]
    }
   ],
   "source": [
    "hidden1 = tf.layers.dense(input_X, 256,activation=tf.nn.sigmoid)\n",
    "hidden2 = tf.layers.dense(hidden1, 256,activation=tf.nn.sigmoid)\n",
    "logits = tf.layers.dense(hidden2, 10)\n",
    "probas = tf.nn.softmax(logits)\n",
    "classes = tf.argmax(probas,1)\n",
    "loss = tf.reduce_mean(tf.nn.softmax_cross_entropy_with_logits(labels=input_y, logits=logits))\n",
    "\n",
    "step = tf.train.AdamOptimizer().minimize(loss)\n",
    "\n",
    "s.run(tf.global_variables_initializer())\n",
    "\n",
    "BATCH_SIZE = 512\n",
    "EPOCHS = 40\n",
    "\n",
    "# for logging the progress right here in Jupyter (for those who don't have TensorBoard)\n",
    "simpleTrainingCurves = matplotlib_utils.SimpleTrainingCurves(\"cross-entropy\", \"accuracy\")\n",
    "\n",
    "for epoch in range(EPOCHS):  # we finish an epoch when we've looked at all training samples\n",
    "    \n",
    "    batch_losses = []\n",
    "    for batch_start in range(0, X_train_flat.shape[0], BATCH_SIZE):  # data is already shuffled\n",
    "        _, batch_loss = s.run([step, loss], {input_X: X_train_flat[batch_start:batch_start+BATCH_SIZE], \n",
    "                                             input_y: y_train_oh[batch_start:batch_start+BATCH_SIZE]})\n",
    "        # collect batch losses, this is almost free as we need a forward pass for backprop anyway\n",
    "        batch_losses.append(batch_loss)\n",
    "\n",
    "    train_loss = np.mean(batch_losses)\n",
    "    val_loss = s.run(loss, {input_X: X_val_flat, input_y: y_val_oh})  # this part is usually small\n",
    "    train_accuracy = accuracy_score(y_train, s.run(classes, {input_X: X_train_flat}))  # this is slow and usually skipped\n",
    "    valid_accuracy = accuracy_score(y_val, s.run(classes, {input_X: X_val_flat}))\n",
    "    print(epoch)"
   ]
  }
 ],
 "metadata": {
  "kernelspec": {
   "display_name": "Python 3",
   "language": "python",
   "name": "python3"
  },
  "language_info": {
   "codemirror_mode": {
    "name": "ipython",
    "version": 3
   },
   "file_extension": ".py",
   "mimetype": "text/x-python",
   "name": "python",
   "nbconvert_exporter": "python",
   "pygments_lexer": "ipython3",
   "version": "3.6.2"
  }
 },
 "nbformat": 4,
 "nbformat_minor": 1
}
