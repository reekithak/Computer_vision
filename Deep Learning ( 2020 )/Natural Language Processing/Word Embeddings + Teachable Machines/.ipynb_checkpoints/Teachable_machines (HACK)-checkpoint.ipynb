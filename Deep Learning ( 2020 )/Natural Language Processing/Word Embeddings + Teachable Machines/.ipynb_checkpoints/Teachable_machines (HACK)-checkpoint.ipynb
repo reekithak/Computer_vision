{
 "cells": [
  {
   "cell_type": "markdown",
   "metadata": {},
   "source": [
    "**Reverse engineer google teachable machines**"
   ]
  },
  {
   "cell_type": "markdown",
   "metadata": {},
   "source": [
    "- Use Teachable machine \n",
    "- Export model\n",
    "- Downlaod netron : -https://www.electronjs.org/apps/netron (Viewer for neural network, deep learning, and machine learning models)\n",
    "- and View the model\n",
    "- Analyse using netron\n"
   ]
  },
  {
   "cell_type": "code",
   "execution_count": 2,
   "metadata": {
    "ExecuteTime": {
     "end_time": "2020-11-04T18:16:17.920750Z",
     "start_time": "2020-11-04T18:16:17.886746Z"
    }
   },
   "outputs": [
    {
     "data": {
      "text/plain": [
       "\"\\nimport tensorflow.keras\\nfrom PIL import Image, ImageOps\\nimport numpy as np\\n\\n# Disable scientific notation for clarity\\nnp.set_printoptions(suppress=True)\\n\\n# Load the model\\nmodel = tensorflow.keras.models.load_model('keras_model.h5')\\n\\n# Create the array of the right shape to feed into the keras model\\n# The 'length' or number of images you can put into the array is\\n# determined by the first position in the shape tuple, in this case 1.\\ndata = np.ndarray(shape=(1, 224, 224, 3), dtype=np.float32)\\n\\n# Replace this with the path to your image\\nimage = Image.open('test_photo.jpg')\\n\\n#resize the image to a 224x224 with the same strategy as in TM2:\\n#resizing the image to be at least 224x224 and then cropping from the center\\nsize = (224, 224)\\nimage = ImageOps.fit(image, size, Image.ANTIALIAS)\\n\\n#turn the image into a numpy array\\nimage_array = np.asarray(image)\\n\\n# display the resized image\\nimage.show()\\n\\n# Normalize the image\\nnormalized_image_array = (image_array.astype(np.float32) / 127.0) - 1\\n\\n# Load the image into the array\\ndata[0] = normalized_image_array\\n\\n# run the inference\\nprediction = model.predict(data)\\nprint(prediction)\\n\\n\\n\\n\""
      ]
     },
     "execution_count": 2,
     "metadata": {},
     "output_type": "execute_result"
    }
   ],
   "source": [
    "# Snippet to use for model ( Current one)\n",
    "'''\n",
    "import tensorflow.keras\n",
    "from PIL import Image, ImageOps\n",
    "import numpy as np\n",
    "\n",
    "# Disable scientific notation for clarity\n",
    "np.set_printoptions(suppress=True)\n",
    "\n",
    "# Load the model\n",
    "model = tensorflow.keras.models.load_model('keras_model.h5')\n",
    "\n",
    "# Create the array of the right shape to feed into the keras model\n",
    "# The 'length' or number of images you can put into the array is\n",
    "# determined by the first position in the shape tuple, in this case 1.\n",
    "data = np.ndarray(shape=(1, 224, 224, 3), dtype=np.float32)\n",
    "\n",
    "# Replace this with the path to your image\n",
    "image = Image.open('test_photo.jpg')\n",
    "\n",
    "#resize the image to a 224x224 with the same strategy as in TM2:\n",
    "#resizing the image to be at least 224x224 and then cropping from the center\n",
    "size = (224, 224)\n",
    "image = ImageOps.fit(image, size, Image.ANTIALIAS)\n",
    "\n",
    "#turn the image into a numpy array\n",
    "image_array = np.asarray(image)\n",
    "\n",
    "# display the resized image\n",
    "image.show()\n",
    "\n",
    "# Normalize the image\n",
    "normalized_image_array = (image_array.astype(np.float32) / 127.0) - 1\n",
    "\n",
    "# Load the image into the array\n",
    "data[0] = normalized_image_array\n",
    "\n",
    "# run the inference\n",
    "prediction = model.predict(data)\n",
    "print(prediction)\n",
    "\n",
    "\n",
    "\n",
    "'''"
   ]
  }
 ],
 "metadata": {
  "kernelspec": {
   "display_name": "Python 3",
   "language": "python",
   "name": "python3"
  },
  "language_info": {
   "codemirror_mode": {
    "name": "ipython",
    "version": 3
   },
   "file_extension": ".py",
   "mimetype": "text/x-python",
   "name": "python",
   "nbconvert_exporter": "python",
   "pygments_lexer": "ipython3",
   "version": "3.7.8"
  }
 },
 "nbformat": 4,
 "nbformat_minor": 4
}
