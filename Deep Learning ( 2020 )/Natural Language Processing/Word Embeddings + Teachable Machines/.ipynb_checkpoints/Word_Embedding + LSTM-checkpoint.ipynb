{
 "cells": [
  {
   "cell_type": "markdown",
   "metadata": {
    "ExecuteTime": {
     "end_time": "2020-11-04T17:44:00.639408Z",
     "start_time": "2020-11-04T17:44:00.619409Z"
    }
   },
   "source": [
    "**Steps**\n",
    "- Convert into one-hot\n",
    "- Create and apply padding of sentences \n",
    "- Create a model and apply embedding layer\n",
    "- Create embedding matrix"
   ]
  },
  {
   "cell_type": "code",
   "execution_count": 11,
   "metadata": {
    "ExecuteTime": {
     "end_time": "2020-11-04T17:44:26.494063Z",
     "start_time": "2020-11-04T17:44:26.478064Z"
    }
   },
   "outputs": [
    {
     "data": {
      "text/plain": [
       "'from keras.preprocessing.text import one_hot'"
      ]
     },
     "execution_count": 11,
     "metadata": {},
     "output_type": "execute_result"
    }
   ],
   "source": [
    "from tensorflow.keras.preprocessing.text import one_hot #tf>2.0\n",
    "#OR\n",
    "'''from keras.preprocessing.text import one_hot''' # <tf2.0"
   ]
  },
  {
   "cell_type": "code",
   "execution_count": 9,
   "metadata": {
    "ExecuteTime": {
     "end_time": "2020-11-04T17:44:01.684656Z",
     "start_time": "2020-11-04T17:44:01.674658Z"
    }
   },
   "outputs": [],
   "source": [
    "sent=[  'the glass of milk',\n",
    "     'the glass of juice',\n",
    "     'the cup of tea',\n",
    "    'I am a good boy',\n",
    "     'I am a good developer',\n",
    "     'understand the meaning of words',\n",
    "     'your videos are good',]"
   ]
  },
  {
   "cell_type": "code",
   "execution_count": 10,
   "metadata": {
    "ExecuteTime": {
     "end_time": "2020-11-04T17:44:02.555656Z",
     "start_time": "2020-11-04T17:44:02.536658Z"
    }
   },
   "outputs": [
    {
     "data": {
      "text/plain": [
       "['the glass of milk',\n",
       " 'the glass of juice',\n",
       " 'the cup of tea',\n",
       " 'I am a good boy',\n",
       " 'I am a good developer',\n",
       " 'understand the meaning of words',\n",
       " 'your videos are good']"
      ]
     },
     "execution_count": 10,
     "metadata": {},
     "output_type": "execute_result"
    }
   ],
   "source": [
    "sent"
   ]
  },
  {
   "cell_type": "code",
   "execution_count": 15,
   "metadata": {
    "ExecuteTime": {
     "end_time": "2020-11-04T17:48:09.855046Z",
     "start_time": "2020-11-04T17:48:09.843047Z"
    }
   },
   "outputs": [],
   "source": [
    "voc_size = 10000\n",
    "# vocabulary size , to determine the total word size out of which things are taken"
   ]
  },
  {
   "cell_type": "markdown",
   "metadata": {},
   "source": [
    "**One_hot REP**"
   ]
  },
  {
   "cell_type": "code",
   "execution_count": 16,
   "metadata": {
    "ExecuteTime": {
     "end_time": "2020-11-04T17:48:10.905048Z",
     "start_time": "2020-11-04T17:48:10.887047Z"
    }
   },
   "outputs": [
    {
     "name": "stdout",
     "output_type": "stream",
     "text": [
      "[[9205, 7921, 4422, 8391], [9205, 7921, 4422, 296], [9205, 5424, 4422, 5360], [1227, 3853, 6985, 4834, 9940], [1227, 3853, 6985, 4834, 1892], [1797, 9205, 7639, 4422, 7774], [967, 8498, 3264, 4834]]\n"
     ]
    }
   ],
   "source": [
    "onehot_rep = [one_hot(words,voc_size) for words in sent ]\n",
    "print(onehot_rep)"
   ]
  },
  {
   "cell_type": "markdown",
   "metadata": {},
   "source": [
    "**Word Embedding REP**"
   ]
  },
  {
   "cell_type": "code",
   "execution_count": 19,
   "metadata": {
    "ExecuteTime": {
     "end_time": "2020-11-04T17:50:21.075244Z",
     "start_time": "2020-11-04T17:50:21.056241Z"
    }
   },
   "outputs": [],
   "source": [
    "from keras.layers import Embedding\n",
    "from keras.preprocessing.sequence import pad_sequences #to equate the number of words in each sentence ! \n",
    "from keras.models import Sequential\n",
    "import numpy as np"
   ]
  },
  {
   "cell_type": "code",
   "execution_count": 20,
   "metadata": {
    "ExecuteTime": {
     "end_time": "2020-11-04T17:52:20.285684Z",
     "start_time": "2020-11-04T17:52:18.500381Z"
    }
   },
   "outputs": [
    {
     "name": "stdout",
     "output_type": "stream",
     "text": [
      "[[   0    0    0    0 9205 7921 4422 8391]\n",
      " [   0    0    0    0 9205 7921 4422  296]\n",
      " [   0    0    0    0 9205 5424 4422 5360]\n",
      " [   0    0    0 1227 3853 6985 4834 9940]\n",
      " [   0    0    0 1227 3853 6985 4834 1892]\n",
      " [   0    0    0 1797 9205 7639 4422 7774]\n",
      " [   0    0    0    0  967 8498 3264 4834]]\n"
     ]
    }
   ],
   "source": [
    "sent_len  = 8 # size of all sentence \n",
    "embedded_docs = pad_sequences(onehot_rep,padding='pre',maxlen=sent_len) # padding = pre , adding zeros before the sent\n",
    "print(embedded_docs)"
   ]
  },
  {
   "cell_type": "code",
   "execution_count": 21,
   "metadata": {
    "ExecuteTime": {
     "end_time": "2020-11-04T17:52:38.911861Z",
     "start_time": "2020-11-04T17:52:38.906860Z"
    }
   },
   "outputs": [],
   "source": [
    "dim = 10 # Dimension of the embeddings matrix"
   ]
  },
  {
   "cell_type": "code",
   "execution_count": 22,
   "metadata": {
    "ExecuteTime": {
     "end_time": "2020-11-04T17:56:02.603397Z",
     "start_time": "2020-11-04T17:55:42.946257Z"
    }
   },
   "outputs": [],
   "source": [
    "model = Sequential()\n",
    "model.add(Embedding(voc_size,10,input_length=sent_len))\n",
    "model.compile('adam','mse')"
   ]
  },
  {
   "cell_type": "code",
   "execution_count": 23,
   "metadata": {
    "ExecuteTime": {
     "end_time": "2020-11-04T17:56:02.649401Z",
     "start_time": "2020-11-04T17:56:02.611398Z"
    }
   },
   "outputs": [
    {
     "name": "stdout",
     "output_type": "stream",
     "text": [
      "Model: \"sequential\"\n",
      "_________________________________________________________________\n",
      "Layer (type)                 Output Shape              Param #   \n",
      "=================================================================\n",
      "embedding (Embedding)        (None, 8, 10)             100000    \n",
      "=================================================================\n",
      "Total params: 100,000\n",
      "Trainable params: 100,000\n",
      "Non-trainable params: 0\n",
      "_________________________________________________________________\n"
     ]
    }
   ],
   "source": [
    "model.summary()"
   ]
  },
  {
   "cell_type": "markdown",
   "metadata": {},
   "source": [
    "**Checking the model for embedding matrix**"
   ]
  },
  {
   "cell_type": "code",
   "execution_count": 30,
   "metadata": {
    "ExecuteTime": {
     "end_time": "2020-11-04T17:57:58.028467Z",
     "start_time": "2020-11-04T17:57:58.013467Z"
    }
   },
   "outputs": [
    {
     "data": {
      "text/plain": [
       "array([   0,    0,    0,    0, 9205, 7921, 4422, 8391])"
      ]
     },
     "execution_count": 30,
     "metadata": {},
     "output_type": "execute_result"
    }
   ],
   "source": [
    "embedded_docs[0]"
   ]
  },
  {
   "cell_type": "code",
   "execution_count": 32,
   "metadata": {
    "ExecuteTime": {
     "end_time": "2020-11-04T17:58:07.121808Z",
     "start_time": "2020-11-04T17:58:06.982805Z"
    }
   },
   "outputs": [
    {
     "data": {
      "text/plain": [
       "array([[ 0.02780727, -0.00488631,  0.04339607, -0.00397545,  0.01098503,\n",
       "        -0.01431972, -0.03765552, -0.02006643,  0.02967038,  0.03932008],\n",
       "       [ 0.02780727, -0.00488631,  0.04339607, -0.00397545,  0.01098503,\n",
       "        -0.01431972, -0.03765552, -0.02006643,  0.02967038,  0.03932008],\n",
       "       [ 0.02780727, -0.00488631,  0.04339607, -0.00397545,  0.01098503,\n",
       "        -0.01431972, -0.03765552, -0.02006643,  0.02967038,  0.03932008],\n",
       "       [ 0.02780727, -0.00488631,  0.04339607, -0.00397545,  0.01098503,\n",
       "        -0.01431972, -0.03765552, -0.02006643,  0.02967038,  0.03932008],\n",
       "       [ 0.00417088, -0.02415024,  0.03552214, -0.04630468, -0.04118545,\n",
       "        -0.01260658,  0.00253456, -0.01902642, -0.0374258 , -0.02115573],\n",
       "       [ 0.01300371,  0.04360439, -0.0358865 , -0.019915  , -0.01809163,\n",
       "        -0.03863225,  0.01616546, -0.04957112, -0.02459576,  0.04689458],\n",
       "       [-0.00931312, -0.01235604,  0.02125149, -0.03013922, -0.00099944,\n",
       "        -0.02925745, -0.00118379, -0.03479423, -0.04814729, -0.0116267 ],\n",
       "       [ 0.0082942 ,  0.00412168,  0.01144411,  0.03857088, -0.0120643 ,\n",
       "         0.04100766, -0.00542153, -0.00967509, -0.02321278,  0.04652501]],\n",
       "      dtype=float32)"
      ]
     },
     "execution_count": 32,
     "metadata": {},
     "output_type": "execute_result"
    }
   ],
   "source": [
    "model.predict(embedded_docs)[0]"
   ]
  }
 ],
 "metadata": {
  "kernelspec": {
   "display_name": "Python 3",
   "language": "python",
   "name": "python3"
  },
  "language_info": {
   "codemirror_mode": {
    "name": "ipython",
    "version": 3
   },
   "file_extension": ".py",
   "mimetype": "text/x-python",
   "name": "python",
   "nbconvert_exporter": "python",
   "pygments_lexer": "ipython3",
   "version": "3.7.8"
  }
 },
 "nbformat": 4,
 "nbformat_minor": 4
}
