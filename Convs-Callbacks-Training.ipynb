{
 "cells": [
  {
   "cell_type": "code",
   "execution_count": 5,
   "metadata": {},
   "outputs": [],
   "source": [
    "import tensorflow as tf\n",
    "from os import path, getcwd, chdir\n",
    "\n",
    "path = f\"{getcwd()}/../tmp2/mnist.npz\""
   ]
  },
  {
   "cell_type": "code",
   "execution_count": 6,
   "metadata": {},
   "outputs": [],
   "source": [
    "config = tf.ConfigProto()\n",
    "config.gpu_options.allow_growth = True\n",
    "sess = tf.Session(config=config)"
   ]
  },
  {
   "cell_type": "code",
   "execution_count": 7,
   "metadata": {},
   "outputs": [],
   "source": [
    "\n",
    "def train_mnist_conv():\n",
    "   \n",
    "\n",
    "  \n",
    "    class MyCallback(tf.keras.callbacks.Callback):\n",
    "        def on_epoch_end(self,epoch,logs={}):\n",
    "            if(logs.get('acc')>0.998):\n",
    "                print(\"\\nReached 99.8% accuracy so cancelling training!\")\n",
    "                self.model.stop_training = True\n",
    "   \n",
    "    mnist = tf.keras.datasets.mnist\n",
    "    (training_images, training_labels), (test_images, test_labels) = mnist.load_data(path=path)\n",
    "    \n",
    "    callbacks=MyCallback()\n",
    "    training_images=training_images.reshape(60000, 28, 28, 1)\n",
    "    training_images = training_images/255.0\n",
    "    test_images = test_images.reshape(10000, 28, 28, 1)\n",
    "    test_images = test_images/255.0\n",
    "    \n",
    "\n",
    "    model = tf.keras.models.Sequential([\n",
    "            \n",
    "            tf.keras.layers.Conv2D(64,(3,3),activation= 'relu',input_shape=(28,28,1)),\n",
    "            tf.keras.layers.MaxPooling2D(2,2),\n",
    "            tf.keras.layers.Conv2D(64,(3,3),activation= 'relu'),\n",
    "            tf.keras.layers.MaxPooling2D(2,2),\n",
    "            tf.keras.layers.Flatten(),\n",
    "            tf.keras.layers.Dense(128,activation='relu'),\n",
    "            tf.keras.layers.Dense(10,activation='softmax')\n",
    "     \n",
    "    ])\n",
    "\n",
    "    model.compile(optimizer='adam', loss='sparse_categorical_crossentropy', metrics=['accuracy'])\n",
    "    # model fitting\n",
    "    history = model.fit(\n",
    "        \n",
    "        training_images,training_labels,epochs=20,callbacks=[callbacks]\n",
    "        \n",
    "    )\n",
    "   \n",
    "    return history.epoch, history.history['acc'][-1]\n",
    "\n"
   ]
  },
  {
   "cell_type": "code",
   "execution_count": 8,
   "metadata": {},
   "outputs": [
    {
     "name": "stderr",
     "output_type": "stream",
     "text": [
      "WARNING: Logging before flag parsing goes to stderr.\n",
      "W0627 22:01:58.135560 140447850280768 deprecation.py:506] From /usr/local/lib/python3.6/dist-packages/tensorflow/python/ops/init_ops.py:1251: calling VarianceScaling.__init__ (from tensorflow.python.ops.init_ops) with dtype is deprecated and will be removed in a future version.\n",
      "Instructions for updating:\n",
      "Call initializer instance with the dtype argument instead of passing it to the constructor\n"
     ]
    },
    {
     "name": "stdout",
     "output_type": "stream",
     "text": [
      "Epoch 1/20\n",
      "60000/60000 [==============================] - 20s 326us/sample - loss: 0.1228 - acc: 0.9627\n",
      "Epoch 2/20\n",
      "60000/60000 [==============================] - 16s 270us/sample - loss: 0.0399 - acc: 0.9877\n",
      "Epoch 3/20\n",
      "60000/60000 [==============================] - 16s 271us/sample - loss: 0.0270 - acc: 0.9917\n",
      "Epoch 4/20\n",
      "60000/60000 [==============================] - 16s 265us/sample - loss: 0.0198 - acc: 0.9939\n",
      "Epoch 5/20\n",
      "60000/60000 [==============================] - 17s 278us/sample - loss: 0.0143 - acc: 0.9955\n",
      "Epoch 6/20\n",
      "60000/60000 [==============================] - 17s 282us/sample - loss: 0.0113 - acc: 0.9964\n",
      "Epoch 7/20\n",
      "60000/60000 [==============================] - 16s 272us/sample - loss: 0.0093 - acc: 0.9967\n",
      "Epoch 8/20\n",
      "60000/60000 [==============================] - 16s 273us/sample - loss: 0.0084 - acc: 0.9975\n",
      "Epoch 9/20\n",
      "60000/60000 [==============================] - 16s 273us/sample - loss: 0.0068 - acc: 0.9977\n",
      "Epoch 10/20\n",
      "59680/60000 [============================>.] - ETA: 0s - loss: 0.0060 - acc: 0.9980\n",
      "Reached 99.8% accuracy so cancelling training!\n",
      "60000/60000 [==============================] - 17s 278us/sample - loss: 0.0060 - acc: 0.9980\n"
     ]
    }
   ],
   "source": [
    "_, _ = train_mnist_conv()"
   ]
  }
 ],
 "metadata": {
  "coursera": {
   "course_slug": "introduction-tensorflow",
   "graded_item_id": "ml06H",
   "launcher_item_id": "hQF8A"
  },
  "kernelspec": {
   "display_name": "Python 3",
   "language": "python",
   "name": "python3"
  },
  "language_info": {
   "codemirror_mode": {
    "name": "ipython",
    "version": 3
   },
   "file_extension": ".py",
   "mimetype": "text/x-python",
   "name": "python",
   "nbconvert_exporter": "python",
   "pygments_lexer": "ipython3",
   "version": "3.6.8"
  }
 },
 "nbformat": 4,
 "nbformat_minor": 1
}
