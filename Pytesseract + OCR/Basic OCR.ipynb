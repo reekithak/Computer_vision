{
 "cells": [
  {
   "cell_type": "markdown",
   "metadata": {},
   "source": [
    "**Pytesseract + OCR ( Optical character recognition )**"
   ]
  },
  {
   "cell_type": "markdown",
   "metadata": {},
   "source": [
    "- Libraries [ opencv , pytesseract ] \n",
    "- install tesseract-ocr "
   ]
  },
  {
   "cell_type": "code",
   "execution_count": 2,
   "metadata": {
    "ExecuteTime": {
     "end_time": "2020-10-09T20:29:06.755383Z",
     "start_time": "2020-10-09T20:29:02.033343Z"
    }
   },
   "outputs": [],
   "source": [
    "import pytesseract \n",
    "pytesseract.pytesseract.tesseract_cmd = r\"C:\\Program Files\\Tesseract-OCR\\tesseract.exe\""
   ]
  },
  {
   "cell_type": "code",
   "execution_count": 3,
   "metadata": {
    "ExecuteTime": {
     "end_time": "2020-10-09T20:29:14.660880Z",
     "start_time": "2020-10-09T20:29:14.043794Z"
    }
   },
   "outputs": [],
   "source": [
    "import cv2"
   ]
  },
  {
   "cell_type": "code",
   "execution_count": 23,
   "metadata": {
    "ExecuteTime": {
     "end_time": "2020-10-09T20:48:06.145907Z",
     "start_time": "2020-10-09T20:48:03.091561Z"
    }
   },
   "outputs": [],
   "source": [
    "img = cv2.imread('2.jpg')\n",
    "cv2.imshow('sample img',img)\n",
    "cv2.waitKey(0)\n",
    "cv2.destroyAllWindows()"
   ]
  },
  {
   "cell_type": "code",
   "execution_count": 24,
   "metadata": {
    "ExecuteTime": {
     "end_time": "2020-10-09T20:48:08.258268Z",
     "start_time": "2020-10-09T20:48:07.420646Z"
    }
   },
   "outputs": [],
   "source": [
    "text = pytesseract.image_to_string(img)\n"
   ]
  },
  {
   "cell_type": "code",
   "execution_count": 25,
   "metadata": {
    "ExecuteTime": {
     "end_time": "2020-10-09T20:48:08.289187Z",
     "start_time": "2020-10-09T20:48:08.264253Z"
    }
   },
   "outputs": [
    {
     "name": "stdout",
     "output_type": "stream",
     "text": [
      " \n",
      "\f",
      "\n"
     ]
    }
   ],
   "source": [
    "print(text)"
   ]
  }
 ],
 "metadata": {
  "kernelspec": {
   "display_name": "Python 3",
   "language": "python",
   "name": "python3"
  },
  "language_info": {
   "codemirror_mode": {
    "name": "ipython",
    "version": 3
   },
   "file_extension": ".py",
   "mimetype": "text/x-python",
   "name": "python",
   "nbconvert_exporter": "python",
   "pygments_lexer": "ipython3",
   "version": "3.7.7"
  }
 },
 "nbformat": 4,
 "nbformat_minor": 4
}
