{
 "cells": [
  {
   "cell_type": "markdown",
   "metadata": {},
   "source": [
    "**Program with basic explanation of tensorflow workflow - [purpose: To understand Tf Workflow]**"
   ]
  },
  {
   "cell_type": "code",
   "execution_count": 9,
   "metadata": {},
   "outputs": [],
   "source": [
    "#import tensorflow as tf\n",
    "import tensorflow.compat.v1 as tf\n",
    "tf.disable_v2_behavior()\n",
    "#eager execution :- runs and evaluates immediately , without forming grpahs"
   ]
  },
  {
   "cell_type": "markdown",
   "metadata": {},
   "source": [
    "**PLACEHOLDERS**"
   ]
  },
  {
   "cell_type": "markdown",
   "metadata": {},
   "source": [
    "tf.placeholder - similar to variables , can be fed into the runtime using feed_dict within session.run , no initial value needed\n",
    "\n",
    "tf.variable - you can provide initial values while declaring it\n",
    "\n",
    "\n",
    "\n",
    "**#Sample : 1**"
   ]
  },
  {
   "cell_type": "code",
   "execution_count": 22,
   "metadata": {},
   "outputs": [],
   "source": [
    "x = tf.placeholder(tf.int32,shape=[3],name='x')\n",
    "'''It is of type int32 with shape(3,1)i.e 1D vector with 3 elements and given the name\n",
    "x, similarly another placeholder is created , namely y . We treat these as\n",
    "similar to constants'''\n",
    "y = tf.placeholder(tf.int32 , shape=[3],name='y')"
   ]
  },
  {
   "cell_type": "code",
   "execution_count": 31,
   "metadata": {},
   "outputs": [
    {
     "name": "stdout",
     "output_type": "stream",
     "text": [
      "sum(x): 600\n",
      "prod(y): 6\n"
     ]
    }
   ],
   "source": [
    "'''we need to run the graph inorder to know ,what value (x,y) holds'''\n",
    "sum_x = tf.reduce_sum(x,name='sum_x') #sum of elements within the palceholder\n",
    "prod_y = tf.reduce_prod(y,name='prod_y') #product of elements within the ph\n",
    "\n",
    "final_div = tf.div(sum_x,prod_y,name='final_div')#element wise division\n",
    "\n",
    "\n",
    "final_mean = tf.reduce_mean([sum_x,prod_y],name='final_mean')#taking the mean of array of values\n",
    "\n",
    "#STARTING THE SESSION\n",
    "\n",
    "sess = tf.Session()\n",
    "print(\"sum(x):\", sess.run(sum_x,feed_dict={x:[100,200,300]}))\n",
    "print(\"prod(y):\", sess.run(prod_y,feed_dict={y:[1,2,3]}))\n",
    "writer = tf.summary.FileWriter('./tensorflow_example',sess.graph)\n",
    "writer.close()\n",
    "sess.close()\n",
    "\n"
   ]
  },
  {
   "cell_type": "markdown",
   "metadata": {},
   "source": [
    "Summary :- Begins with a session,end it out. Writer creates an event list and\n",
    "logs em into the given directory. To run , pass em into sess.run() provided ,\n",
    "we add in the feed_dict(dictionary of values that are needed)"
   ]
  },
  {
   "cell_type": "markdown",
   "metadata": {},
   "source": [
    " "
   ]
  },
  {
   "cell_type": "markdown",
   "metadata": {},
   "source": [
    " "
   ]
  },
  {
   "cell_type": "markdown",
   "metadata": {},
   "source": [
    " "
   ]
  },
  {
   "cell_type": "markdown",
   "metadata": {},
   "source": [
    " "
   ]
  },
  {
   "cell_type": "markdown",
   "metadata": {},
   "source": [
    "**FETCHES & FEED DICTIONARY**"
   ]
  },
  {
   "cell_type": "code",
   "execution_count": null,
   "metadata": {},
   "outputs": [],
   "source": []
  }
 ],
 "metadata": {
  "kernelspec": {
   "display_name": "Python 3",
   "language": "python",
   "name": "python3"
  },
  "language_info": {
   "codemirror_mode": {
    "name": "ipython",
    "version": 3
   },
   "file_extension": ".py",
   "mimetype": "text/x-python",
   "name": "python",
   "nbconvert_exporter": "python",
   "pygments_lexer": "ipython3",
   "version": "3.7.7"
  }
 },
 "nbformat": 4,
 "nbformat_minor": 2
}
