{
 "cells": [
  {
   "cell_type": "markdown",
   "metadata": {},
   "source": [
    "**Classification using Deep Learning**"
   ]
  },
  {
   "cell_type": "markdown",
   "metadata": {},
   "source": [
    " "
   ]
  },
  {
   "cell_type": "markdown",
   "metadata": {},
   "source": [
    " "
   ]
  },
  {
   "cell_type": "markdown",
   "metadata": {},
   "source": [
    "\n",
    " "
   ]
  },
  {
   "cell_type": "code",
   "execution_count": 17,
   "metadata": {
    "ExecuteTime": {
     "end_time": "2020-10-12T21:10:18.908834Z",
     "start_time": "2020-10-12T21:10:18.887887Z"
    }
   },
   "outputs": [],
   "source": [
    "from tensorflow.keras.layers import Input , Dense, Flatten\n",
    "from tensorflow.keras.models import Model\n",
    "from tensorflow.keras.applications.resnet50 import ResNet50\n",
    "\n",
    "from tensorflow.keras.applications.resnet50 import preprocess_input\n",
    "\n",
    "from tensorflow.keras.preprocessing import image\n",
    "from tensorflow.keras.preprocessing.image import ImageDataGenerator, load_img\n",
    "from tensorflow.keras.models import Sequential\n",
    "import numpy as np\n",
    "from glob import glob\n",
    "import matplotlib.pyplot as plt\n",
    "%matplotlib inline\n",
    "\n",
    "\n",
    "from keras.applications.vgg16 import VGG16\n",
    "from keras.applications.vgg16 import preprocess_input\n"
   ]
  },
  {
   "cell_type": "code",
   "execution_count": 35,
   "metadata": {
    "ExecuteTime": {
     "end_time": "2020-10-12T21:36:44.978922Z",
     "start_time": "2020-10-12T21:36:44.974962Z"
    }
   },
   "outputs": [],
   "source": [
    "import tensorflow as tf \n",
    "from keras.models import load_model"
   ]
  },
  {
   "cell_type": "code",
   "execution_count": 6,
   "metadata": {
    "ExecuteTime": {
     "end_time": "2020-10-12T21:04:14.356428Z",
     "start_time": "2020-10-12T21:04:14.347418Z"
    }
   },
   "outputs": [],
   "source": [
    "img_size = [150,150]"
   ]
  },
  {
   "cell_type": "code",
   "execution_count": 7,
   "metadata": {
    "ExecuteTime": {
     "end_time": "2020-10-12T21:04:57.203328Z",
     "start_time": "2020-10-12T21:04:57.198342Z"
    }
   },
   "outputs": [],
   "source": [
    "train_path = r'D:\\working repos\\Hackerearth Challenge\\DL_1\\temp_data\\Data\\train'\n",
    "test_path = r'D:\\working repos\\Hackerearth Challenge\\DL_1\\temp_data\\Data\\test'"
   ]
  },
  {
   "cell_type": "code",
   "execution_count": 8,
   "metadata": {
    "ExecuteTime": {
     "end_time": "2020-10-12T21:06:41.389187Z",
     "start_time": "2020-10-12T21:05:46.260524Z"
    }
   },
   "outputs": [
    {
     "name": "stdout",
     "output_type": "stream",
     "text": [
      "Downloading data from https://storage.googleapis.com/tensorflow/keras-applications/vgg16/vgg16_weights_tf_dim_ordering_tf_kernels_notop.h5\n",
      "58892288/58889256 [==============================] - 51s 1us/step\n"
     ]
    }
   ],
   "source": [
    "vgg = VGG16(input_shape=img_size+[3] , weights='imagenet',include_top= False)"
   ]
  },
  {
   "cell_type": "code",
   "execution_count": 12,
   "metadata": {
    "ExecuteTime": {
     "end_time": "2020-10-12T21:07:08.889832Z",
     "start_time": "2020-10-12T21:07:08.882850Z"
    }
   },
   "outputs": [
    {
     "data": {
      "text/plain": [
       "[<tensorflow.python.keras.engine.input_layer.InputLayer at 0x1f3a0051ec8>,\n",
       " <tensorflow.python.keras.layers.convolutional.Conv2D at 0x1f3a0bead88>,\n",
       " <tensorflow.python.keras.layers.convolutional.Conv2D at 0x1f3a0be1f88>,\n",
       " <tensorflow.python.keras.layers.pooling.MaxPooling2D at 0x1f3a0bd5848>,\n",
       " <tensorflow.python.keras.layers.convolutional.Conv2D at 0x1f3a0bc9208>,\n",
       " <tensorflow.python.keras.layers.convolutional.Conv2D at 0x1f3a0bc6048>,\n",
       " <tensorflow.python.keras.layers.pooling.MaxPooling2D at 0x1f3a0bb5608>,\n",
       " <tensorflow.python.keras.layers.convolutional.Conv2D at 0x1f3a0baa548>,\n",
       " <tensorflow.python.keras.layers.convolutional.Conv2D at 0x1f3a0ba1c08>,\n",
       " <tensorflow.python.keras.layers.convolutional.Conv2D at 0x1f3a0b94b88>,\n",
       " <tensorflow.python.keras.layers.pooling.MaxPooling2D at 0x1f3a0b89208>,\n",
       " <tensorflow.python.keras.layers.convolutional.Conv2D at 0x1f3a0b7af08>,\n",
       " <tensorflow.python.keras.layers.convolutional.Conv2D at 0x1f3a0b76e48>,\n",
       " <tensorflow.python.keras.layers.convolutional.Conv2D at 0x1f3a0b6b308>,\n",
       " <tensorflow.python.keras.layers.pooling.MaxPooling2D at 0x1f3a0b5c8c8>,\n",
       " <tensorflow.python.keras.layers.convolutional.Conv2D at 0x1f3a0b42408>,\n",
       " <tensorflow.python.keras.layers.convolutional.Conv2D at 0x1f3a0b3e948>,\n",
       " <tensorflow.python.keras.layers.convolutional.Conv2D at 0x1f3a0017d48>,\n",
       " <tensorflow.python.keras.layers.pooling.MaxPooling2D at 0x1f3a0039048>]"
      ]
     },
     "execution_count": 12,
     "metadata": {},
     "output_type": "execute_result"
    }
   ],
   "source": [
    "vgg.layers"
   ]
  },
  {
   "cell_type": "code",
   "execution_count": 13,
   "metadata": {
    "ExecuteTime": {
     "end_time": "2020-10-12T21:07:31.747635Z",
     "start_time": "2020-10-12T21:07:31.728686Z"
    }
   },
   "outputs": [],
   "source": [
    "for layer in vgg.layers:\n",
    "    layer.trainable = False"
   ]
  },
  {
   "cell_type": "code",
   "execution_count": 22,
   "metadata": {
    "ExecuteTime": {
     "end_time": "2020-10-12T21:26:37.283632Z",
     "start_time": "2020-10-12T21:26:37.267674Z"
    }
   },
   "outputs": [],
   "source": [
    "#getting number of classes\n",
    "\n",
    "folders = glob('D:/working repo/Hackerearth Challenge/L_1/temp_data/Data/train/*')"
   ]
  },
  {
   "cell_type": "code",
   "execution_count": 24,
   "metadata": {
    "ExecuteTime": {
     "end_time": "2020-10-12T21:26:51.838625Z",
     "start_time": "2020-10-12T21:26:51.827655Z"
    }
   },
   "outputs": [],
   "source": [
    "folders = ['a','b']"
   ]
  },
  {
   "cell_type": "code",
   "execution_count": 29,
   "metadata": {
    "ExecuteTime": {
     "end_time": "2020-10-12T21:29:42.951446Z",
     "start_time": "2020-10-12T21:29:42.926547Z"
    }
   },
   "outputs": [],
   "source": [
    "x = Flatten()(vgg.output) #Final layer\n",
    "prediction = Dense(len(folders),activation='softmax')(x)\n",
    "model = Model(inputs=vgg.input,outputs=prediction)"
   ]
  },
  {
   "cell_type": "code",
   "execution_count": 30,
   "metadata": {
    "ExecuteTime": {
     "end_time": "2020-10-12T21:29:43.354477Z",
     "start_time": "2020-10-12T21:29:43.330541Z"
    }
   },
   "outputs": [
    {
     "name": "stdout",
     "output_type": "stream",
     "text": [
      "Model: \"functional_7\"\n",
      "_________________________________________________________________\n",
      "Layer (type)                 Output Shape              Param #   \n",
      "=================================================================\n",
      "input_1 (InputLayer)         [(None, 150, 150, 3)]     0         \n",
      "_________________________________________________________________\n",
      "block1_conv1 (Conv2D)        (None, 150, 150, 64)      1792      \n",
      "_________________________________________________________________\n",
      "block1_conv2 (Conv2D)        (None, 150, 150, 64)      36928     \n",
      "_________________________________________________________________\n",
      "block1_pool (MaxPooling2D)   (None, 75, 75, 64)        0         \n",
      "_________________________________________________________________\n",
      "block2_conv1 (Conv2D)        (None, 75, 75, 128)       73856     \n",
      "_________________________________________________________________\n",
      "block2_conv2 (Conv2D)        (None, 75, 75, 128)       147584    \n",
      "_________________________________________________________________\n",
      "block2_pool (MaxPooling2D)   (None, 37, 37, 128)       0         \n",
      "_________________________________________________________________\n",
      "block3_conv1 (Conv2D)        (None, 37, 37, 256)       295168    \n",
      "_________________________________________________________________\n",
      "block3_conv2 (Conv2D)        (None, 37, 37, 256)       590080    \n",
      "_________________________________________________________________\n",
      "block3_conv3 (Conv2D)        (None, 37, 37, 256)       590080    \n",
      "_________________________________________________________________\n",
      "block3_pool (MaxPooling2D)   (None, 18, 18, 256)       0         \n",
      "_________________________________________________________________\n",
      "block4_conv1 (Conv2D)        (None, 18, 18, 512)       1180160   \n",
      "_________________________________________________________________\n",
      "block4_conv2 (Conv2D)        (None, 18, 18, 512)       2359808   \n",
      "_________________________________________________________________\n",
      "block4_conv3 (Conv2D)        (None, 18, 18, 512)       2359808   \n",
      "_________________________________________________________________\n",
      "block4_pool (MaxPooling2D)   (None, 9, 9, 512)         0         \n",
      "_________________________________________________________________\n",
      "block5_conv1 (Conv2D)        (None, 9, 9, 512)         2359808   \n",
      "_________________________________________________________________\n",
      "block5_conv2 (Conv2D)        (None, 9, 9, 512)         2359808   \n",
      "_________________________________________________________________\n",
      "block5_conv3 (Conv2D)        (None, 9, 9, 512)         2359808   \n",
      "_________________________________________________________________\n",
      "block5_pool (MaxPooling2D)   (None, 4, 4, 512)         0         \n",
      "_________________________________________________________________\n",
      "flatten_3 (Flatten)          (None, 8192)              0         \n",
      "_________________________________________________________________\n",
      "dense_3 (Dense)              (None, 2)                 16386     \n",
      "=================================================================\n",
      "Total params: 14,731,074\n",
      "Trainable params: 16,386\n",
      "Non-trainable params: 14,714,688\n",
      "_________________________________________________________________\n"
     ]
    }
   ],
   "source": [
    "model.summary()"
   ]
  },
  {
   "cell_type": "code",
   "execution_count": 32,
   "metadata": {
    "ExecuteTime": {
     "end_time": "2020-10-12T21:30:01.965514Z",
     "start_time": "2020-10-12T21:30:01.940584Z"
    }
   },
   "outputs": [],
   "source": [
    "model.compile(loss='binary_crossentropy',\n",
    "             optimizer='adam',\n",
    "             metrics=['accuracy'])"
   ]
  },
  {
   "cell_type": "code",
   "execution_count": 33,
   "metadata": {
    "ExecuteTime": {
     "end_time": "2020-10-12T21:31:10.686448Z",
     "start_time": "2020-10-12T21:31:10.668496Z"
    }
   },
   "outputs": [],
   "source": [
    "train_datagen = ImageDataGenerator(rescale=1./255,\n",
    "                                  shear_range=0.2,\n",
    "                                  zoom_range=0.2,\n",
    "                                  horizontal_flip=True)\n",
    "test_datagen = ImageDataGenerator(rescale=1./255)"
   ]
  },
  {
   "cell_type": "code",
   "execution_count": 34,
   "metadata": {
    "ExecuteTime": {
     "end_time": "2020-10-12T21:32:47.887149Z",
     "start_time": "2020-10-12T21:32:47.617944Z"
    }
   },
   "outputs": [
    {
     "name": "stdout",
     "output_type": "stream",
     "text": [
      "Found 1730 images belonging to 2 classes.\n",
      "Found 742 images belonging to 2 classes.\n"
     ]
    }
   ],
   "source": [
    "training_set = train_datagen.flow_from_directory(r'D:\\working repos\\Hackerearth Challenge\\DL_1\\temp_data\\Data\\train',\n",
    "                                                target_size=(150,150),\n",
    "                                                batch_size=32,\n",
    "                                                class_mode='binary')\n",
    "test_set = test_datagen.flow_from_directory(r'D:\\working repos\\Hackerearth Challenge\\DL_1\\temp_data\\Data\\test',\n",
    "                                                target_size=(150,150),\n",
    "                                                batch_size=32,\n",
    "                                                class_mode='binary')\n"
   ]
  },
  {
   "cell_type": "code",
   "execution_count": null,
   "metadata": {
    "ExecuteTime": {
     "end_time": "2020-10-12T22:07:41.940883Z",
     "start_time": "2020-10-12T22:07:39.069Z"
    }
   },
   "outputs": [],
   "source": [
    "fit_  = model.fit_generator(training_set,\n",
    "                           validation_data=test_set,\n",
    "                           epochs=5,\n",
    "                           steps_per_epoch=len(training_set),\n",
    "                           validation_steps=len(test_set))\n",
    "\n"
   ]
  },
  {
   "cell_type": "code",
   "execution_count": 43,
   "metadata": {
    "ExecuteTime": {
     "end_time": "2020-10-12T22:07:44.000427Z",
     "start_time": "2020-10-12T22:07:43.871583Z"
    }
   },
   "outputs": [
    {
     "data": {
      "image/png": "[encoded data removed]",
      "text/plain": [
       "<Figure size 432x288 with 1 Axes>"
      ]
     },
     "metadata": {
      "needs_background": "light"
     },
     "output_type": "display_data"
    }
   ],
   "source": [
    "#Accuracy plot\n",
    "plt.plot(fit_.history['accuracy'],label='train acc')\n",
    "plt.plot(fit_.history['val_accuracy'],label='val acc')\n",
    "plt.legend()\n",
    "plt.show()"
   ]
  },
  {
   "cell_type": "code",
   "execution_count": 44,
   "metadata": {
    "ExecuteTime": {
     "end_time": "2020-10-12T22:07:46.165352Z",
     "start_time": "2020-10-12T22:07:46.017828Z"
    }
   },
   "outputs": [
    {
     "data": {
      "image/png": "[encoded data removed]",
      "text/plain": [
       "<Figure size 432x288 with 1 Axes>"
      ]
     },
     "metadata": {
      "needs_background": "light"
     },
     "output_type": "display_data"
    }
   ],
   "source": [
    "#Loss plot\n",
    "plt.plot(fit_.history['loss'],label='train Loss')\n",
    "plt.plot(fit_.history['val_loss'],label='val Loss')\n",
    "plt.legend()\n",
    "plt.show()\n"
   ]
  },
  {
   "cell_type": "code",
   "execution_count": null,
   "metadata": {},
   "outputs": [],
   "source": []
  }
 ],
 "metadata": {
  "kernelspec": {
   "display_name": "Python 3",
   "language": "python",
   "name": "python3"
  },
  "language_info": {
   "codemirror_mode": {
    "name": "ipython",
    "version": 3
   },
   "file_extension": ".py",
   "mimetype": "text/x-python",
   "name": "python",
   "nbconvert_exporter": "python",
   "pygments_lexer": "ipython3",
   "version": "3.7.7"
  }
 },
 "nbformat": 4,
 "nbformat_minor": 4
}
