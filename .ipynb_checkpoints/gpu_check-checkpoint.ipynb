{
 "cells": [
  {
   "cell_type": "code",
   "execution_count": 30,
   "metadata": {
    "ExecuteTime": {
     "end_time": "2020-10-29T14:58:43.219810Z",
     "start_time": "2020-10-29T14:58:43.202881Z"
    }
   },
   "outputs": [],
   "source": [
    "import tensorflow as tf\n",
    "import os\n",
    "os.environ[\"CUDA_VISIBLE_DEVICES\"]=\"0,1\""
   ]
  },
  {
   "cell_type": "code",
   "execution_count": 31,
   "metadata": {
    "ExecuteTime": {
     "end_time": "2020-10-29T14:58:44.355704Z",
     "start_time": "2020-10-29T14:58:44.348723Z"
    }
   },
   "outputs": [
    {
     "name": "stdout",
     "output_type": "stream",
     "text": [
      "Tf Version:  2.3.0\n"
     ]
    }
   ],
   "source": [
    "print(\"Tf Version: \",tf.__version__)"
   ]
  },
  {
   "cell_type": "code",
   "execution_count": 32,
   "metadata": {
    "ExecuteTime": {
     "end_time": "2020-10-29T14:58:46.765164Z",
     "start_time": "2020-10-29T14:58:46.758183Z"
    }
   },
   "outputs": [
    {
     "name": "stdout",
     "output_type": "stream",
     "text": [
      "Physical GPU :  [PhysicalDevice(name='/physical_device:CPU:0', device_type='CPU'), PhysicalDevice(name='/physical_device:XLA_CPU:0', device_type='XLA_CPU'), PhysicalDevice(name='/physical_device:GPU:0', device_type='GPU'), PhysicalDevice(name='/physical_device:XLA_GPU:0', device_type='XLA_GPU')]\n"
     ]
    }
   ],
   "source": [
    "print('Physical GPU : ',tf.config.list_physical_devices())"
   ]
  },
  {
   "cell_type": "code",
   "execution_count": 33,
   "metadata": {
    "ExecuteTime": {
     "end_time": "2020-10-29T14:58:48.055123Z",
     "start_time": "2020-10-29T14:58:48.044188Z"
    }
   },
   "outputs": [
    {
     "name": "stdout",
     "output_type": "stream",
     "text": [
      "GPU Available ?:  True\n"
     ]
    }
   ],
   "source": [
    "print(\"GPU Available ?: \",tf.test.is_gpu_available())"
   ]
  },
  {
   "cell_type": "code",
   "execution_count": 44,
   "metadata": {
    "ExecuteTime": {
     "end_time": "2020-10-29T15:03:34.251333Z",
     "start_time": "2020-10-29T15:03:34.240362Z"
    }
   },
   "outputs": [
    {
     "name": "stdout",
     "output_type": "stream",
     "text": [
      "true\n"
     ]
    }
   ],
   "source": [
    "if(tf.test.is_gpu_available()):\n",
    "    print(\"true\")\n",
    "else:\n",
    "    print(\"no device detected\")"
   ]
  },
  {
   "cell_type": "code",
   "execution_count": 34,
   "metadata": {
    "ExecuteTime": {
     "end_time": "2020-10-29T14:58:48.618293Z",
     "start_time": "2020-10-29T14:58:48.612276Z"
    }
   },
   "outputs": [
    {
     "name": "stdout",
     "output_type": "stream",
     "text": [
      "Cuda Avaialble ?:  True\n"
     ]
    }
   ],
   "source": [
    "print(\"Cuda Avaialble ?: \",tf.test.is_built_with_cuda())"
   ]
  },
  {
   "cell_type": "code",
   "execution_count": 40,
   "metadata": {
    "ExecuteTime": {
     "end_time": "2020-10-29T15:02:04.020477Z",
     "start_time": "2020-10-29T15:02:04.004520Z"
    }
   },
   "outputs": [
    {
     "name": "stdout",
     "output_type": "stream",
     "text": [
      "Device Name:  /device:GPU:0\n"
     ]
    }
   ],
   "source": [
    "print(\"Device Name: \",tf.test.gpu_device_name())"
   ]
  },
  {
   "cell_type": "code",
   "execution_count": 42,
   "metadata": {
    "ExecuteTime": {
     "end_time": "2020-10-29T15:02:16.067143Z",
     "start_time": "2020-10-29T15:02:16.055175Z"
    }
   },
   "outputs": [
    {
     "data": {
      "text/plain": [
       "'from tensorflow.python.client import device_lib\\ndevice_lib.list_local_devices()\\n'"
      ]
     },
     "execution_count": 42,
     "metadata": {},
     "output_type": "execute_result"
    }
   ],
   "source": [
    "'''from tensorflow.python.client import device_lib\n",
    "device_lib.list_local_devices()\n",
    "'''"
   ]
  }
 ],
 "metadata": {
  "kernelspec": {
   "display_name": "Python 3",
   "language": "python",
   "name": "python3"
  },
  "language_info": {
   "codemirror_mode": {
    "name": "ipython",
    "version": 3
   },
   "file_extension": ".py",
   "mimetype": "text/x-python",
   "name": "python",
   "nbconvert_exporter": "python",
   "pygments_lexer": "ipython3",
   "version": "3.7.8"
  }
 },
 "nbformat": 4,
 "nbformat_minor": 4
}
