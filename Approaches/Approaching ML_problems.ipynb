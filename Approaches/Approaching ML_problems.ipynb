{
 "cells": [
  {
   "cell_type": "markdown",
   "metadata": {},
   "source": [
    "# ML PRACTISES and APPROACHES\n",
    "- Akhil Sanker "
   ]
  },
  {
   "cell_type": "markdown",
   "metadata": {},
   "source": [
    " "
   ]
  },
  {
   "cell_type": "markdown",
   "metadata": {},
   "source": [
    " "
   ]
  },
  {
   "cell_type": "markdown",
   "metadata": {},
   "source": [
    " "
   ]
  },
  {
   "cell_type": "markdown",
   "metadata": {},
   "source": [
    " "
   ]
  },
  {
   "cell_type": "markdown",
   "metadata": {},
   "source": [
    " "
   ]
  },
  {
   "cell_type": "markdown",
   "metadata": {},
   "source": [
    "# T - SNE ( MNIST Dataset )"
   ]
  },
  {
   "cell_type": "code",
   "execution_count": 24,
   "metadata": {
    "ExecuteTime": {
     "end_time": "2020-10-08T20:41:35.315829Z",
     "start_time": "2020-10-08T20:41:35.294885Z"
    }
   },
   "outputs": [],
   "source": [
    "'''\n",
    "mat , seaborn - Visualization\n",
    "numpy - handle numerical arrays\n",
    "pandas - create  df's from arrays\n",
    "scikit-learn - perform t-SNE\n",
    "\n",
    "'''\n",
    "import matplotlib.pyplot as plt\n",
    "import numpy as np\n",
    "import pandas as pd\n",
    "import seaborn as sns\n",
    "\n",
    "from sklearn import datasets\n",
    "from sklearn import manifold\n"
   ]
  },
  {
   "cell_type": "code",
   "execution_count": 25,
   "metadata": {
    "ExecuteTime": {
     "end_time": "2020-10-08T20:42:56.663859Z",
     "start_time": "2020-10-08T20:41:36.712711Z"
    }
   },
   "outputs": [],
   "source": [
    "data = datasets.fetch_openml('mnist_784',\n",
    "                            version=1,\n",
    "                            return_X_y=True\n",
    "                            )\n",
    "pixel_values , targets = data\n",
    "targets = targets.astype(int)"
   ]
  },
  {
   "cell_type": "markdown",
   "metadata": {},
   "source": [
    "We've an array of pixel values and an array of targets , the targets being \n",
    "strings , we convert them to integers.\n",
    "pixel_values contain a 2-d array of shape 70000*784 (28*28) , i.e 70,000 images\n",
    "of shape 28*28 , which are flattened to give the representation."
   ]
  },
  {
   "cell_type": "code",
   "execution_count": 26,
   "metadata": {
    "ExecuteTime": {
     "end_time": "2020-10-08T20:42:56.679815Z",
     "start_time": "2020-10-08T20:42:56.666850Z"
    }
   },
   "outputs": [
    {
     "data": {
      "text/plain": [
       "((70000, 784), (70000,))"
      ]
     },
     "execution_count": 26,
     "metadata": {},
     "output_type": "execute_result"
    }
   ],
   "source": [
    "pixel_values.shape , targets.shape"
   ]
  },
  {
   "cell_type": "markdown",
   "metadata": {
    "ExecuteTime": {
     "end_time": "2020-10-08T20:40:30.676913Z",
     "start_time": "2020-10-08T20:40:30.655969Z"
    }
   },
   "source": [
    "1st row represents first image\n",
    "Taking one image & Visualizing it"
   ]
  },
  {
   "cell_type": "code",
   "execution_count": 27,
   "metadata": {
    "ExecuteTime": {
     "end_time": "2020-10-08T20:42:56.976092Z",
     "start_time": "2020-10-08T20:42:56.693780Z"
    }
   },
   "outputs": [
    {
     "data": {
      "text/plain": [
       "<matplotlib.image.AxesImage at 0x1d584139588>"
      ]
     },
     "execution_count": 27,
     "metadata": {},
     "output_type": "execute_result"
    },
    {
     "data": {
      "image/png": "[encoded data removed]",
      "text/plain": [
       "<Figure size 432x288 with 1 Axes>"
      ]
     },
     "metadata": {
      "needs_background": "light"
     },
     "output_type": "display_data"
    }
   ],
   "source": [
    "\n",
    "single_image = pixel_values[2,:].reshape(28,28)\n",
    "plt.imshow(single_image,cmap='gray')"
   ]
  },
  {
   "cell_type": "markdown",
   "metadata": {},
   "source": [
    "**Using TSNE**\n",
    "- Takes high dim dataset and reduces to a graph and still retain a lot of information.\n",
    "- The below , it takes the entire 200 rows , transforms it into an array of shape 200 x 2.\n",
    "- This data can be converted into pandas dataframe by pd.DataFrame()\n",
    "- np.column_stack = Stacks 1d arrays as columns into 2d arrays"
   ]
  },
  {
   "cell_type": "code",
   "execution_count": 43,
   "metadata": {
    "ExecuteTime": {
     "end_time": "2020-10-08T20:53:38.473698Z",
     "start_time": "2020-10-08T20:53:35.782895Z"
    }
   },
   "outputs": [],
   "source": [
    "'''Creating a dataset now !'''\n",
    "\n",
    "tsne = manifold.TSNE(n_components=2,random_state=42)\n",
    "transformed_data = tsne.fit_transform(pixel_values[:200,:])"
   ]
  },
  {
   "cell_type": "code",
   "execution_count": 46,
   "metadata": {
    "ExecuteTime": {
     "end_time": "2020-10-08T20:55:16.804162Z",
     "start_time": "2020-10-08T20:55:16.787208Z"
    }
   },
   "outputs": [],
   "source": [
    "tnse_df = pd.DataFrame(\n",
    "        np.column_stack((transformed_data,targets[:200])),\n",
    "columns = [\"x\",\"y\",\"targets\"])"
   ]
  },
  {
   "cell_type": "code",
   "execution_count": 48,
   "metadata": {
    "ExecuteTime": {
     "end_time": "2020-10-08T20:55:26.787532Z",
     "start_time": "2020-10-08T20:55:25.053871Z"
    }
   },
   "outputs": [],
   "source": [
    "tnse_df.loc[:,\"targets\"] = tnse_df.targets.astype(int\n",
    "                                                 )"
   ]
  },
  {
   "cell_type": "code",
   "execution_count": 49,
   "metadata": {
    "ExecuteTime": {
     "end_time": "2020-10-08T20:55:32.147059Z",
     "start_time": "2020-10-08T20:55:32.095198Z"
    }
   },
   "outputs": [
    {
     "data": {
      "text/html": [
       "<div>\n",
       "<style scoped>\n",
       "    .dataframe tbody tr th:only-of-type {\n",
       "        vertical-align: middle;\n",
       "    }\n",
       "\n",
       "    .dataframe tbody tr th {\n",
       "        vertical-align: top;\n",
       "    }\n",
       "\n",
       "    .dataframe thead th {\n",
       "        text-align: right;\n",
       "    }\n",
       "</style>\n",
       "<table border=\"1\" class=\"dataframe\">\n",
       "  <thead>\n",
       "    <tr style=\"text-align: right;\">\n",
       "      <th></th>\n",
       "      <th>x</th>\n",
       "      <th>y</th>\n",
       "      <th>targets</th>\n",
       "    </tr>\n",
       "  </thead>\n",
       "  <tbody>\n",
       "    <tr>\n",
       "      <th>0</th>\n",
       "      <td>-6.223260</td>\n",
       "      <td>2.464627</td>\n",
       "      <td>5</td>\n",
       "    </tr>\n",
       "    <tr>\n",
       "      <th>1</th>\n",
       "      <td>-16.393826</td>\n",
       "      <td>-10.717417</td>\n",
       "      <td>0</td>\n",
       "    </tr>\n",
       "    <tr>\n",
       "      <th>2</th>\n",
       "      <td>14.503359</td>\n",
       "      <td>-4.653343</td>\n",
       "      <td>4</td>\n",
       "    </tr>\n",
       "    <tr>\n",
       "      <th>3</th>\n",
       "      <td>3.765731</td>\n",
       "      <td>9.096017</td>\n",
       "      <td>1</td>\n",
       "    </tr>\n",
       "    <tr>\n",
       "      <th>4</th>\n",
       "      <td>7.457469</td>\n",
       "      <td>-1.868676</td>\n",
       "      <td>9</td>\n",
       "    </tr>\n",
       "  </tbody>\n",
       "</table>\n",
       "</div>"
      ],
      "text/plain": [
       "           x          y  targets\n",
       "0  -6.223260   2.464627        5\n",
       "1 -16.393826 -10.717417        0\n",
       "2  14.503359  -4.653343        4\n",
       "3   3.765731   9.096017        1\n",
       "4   7.457469  -1.868676        9"
      ]
     },
     "execution_count": 49,
     "metadata": {},
     "output_type": "execute_result"
    }
   ],
   "source": [
    "tnse_df.head()"
   ]
  },
  {
   "cell_type": "code",
   "execution_count": 29,
   "metadata": {
    "ExecuteTime": {
     "end_time": "2020-10-08T20:42:59.708713Z",
     "start_time": "2020-10-08T20:42:59.696745Z"
    }
   },
   "outputs": [
    {
     "data": {
      "text/plain": [
       "TSNE(random_state=42)"
      ]
     },
     "execution_count": 29,
     "metadata": {},
     "output_type": "execute_result"
    }
   ],
   "source": [
    "tsne_df.loc[:,'targets'] = tsne_df.targets.astype(int)"
   ]
  },
  {
   "cell_type": "markdown",
   "metadata": {},
   "source": [
    "**Plotting**"
   ]
  },
  {
   "cell_type": "code",
   "execution_count": 51,
   "metadata": {
    "ExecuteTime": {
     "end_time": "2020-10-08T20:57:36.975339Z",
     "start_time": "2020-10-08T20:57:35.331721Z"
    }
   },
   "outputs": [
    {
     "name": "stderr",
     "output_type": "stream",
     "text": [
      "d:\\program files\\python3\\lib\\site-packages\\seaborn\\axisgrid.py:243: UserWarning: The `size` parameter has been renamed to `height`; please update your code.\n",
      "  warnings.warn(msg, UserWarning)\n"
     ]
    },
    {
     "data": {
      "text/plain": [
       "<seaborn.axisgrid.FacetGrid at 0x1d583f3b9c8>"
      ]
     },
     "execution_count": 51,
     "metadata": {},
     "output_type": "execute_result"
    },
    {
     "data": {
      "image/png": "[encoded data removed]",
      "text/plain": [
       "<Figure size 691.625x648 with 1 Axes>"
      ]
     },
     "metadata": {
      "needs_background": "light"
     },
     "output_type": "display_data"
    }
   ],
   "source": [
    "grid = sns.FacetGrid(tnse_df , hue=\"targets\" , size=9)\n",
    "grid.map(plt.scatter,\"x\",\"y\").add_legend()"
   ]
  },
  {
   "cell_type": "markdown",
   "metadata": {},
   "source": [
    "The above is how visualization on unsupervised problems are done ! We can cluster these using k means clustering ! \n",
    "- To find the appropriate number of k value , the best way is cross validation"
   ]
  },
  {
   "cell_type": "markdown",
   "metadata": {},
   "source": [
    "# Cross - Validation"
   ]
  },
  {
   "cell_type": "code",
   "execution_count": null,
   "metadata": {},
   "outputs": [],
   "source": []
  }
 ],
 "metadata": {
  "kernelspec": {
   "display_name": "Python 3",
   "language": "python",
   "name": "python3"
  },
  "language_info": {
   "codemirror_mode": {
    "name": "ipython",
    "version": 3
   },
   "file_extension": ".py",
   "mimetype": "text/x-python",
   "name": "python",
   "nbconvert_exporter": "python",
   "pygments_lexer": "ipython3",
   "version": "3.7.7"
  }
 },
 "nbformat": 4,
 "nbformat_minor": 4
}
