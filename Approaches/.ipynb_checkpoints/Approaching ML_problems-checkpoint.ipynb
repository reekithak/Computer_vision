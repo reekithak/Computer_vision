{
 "cells": [
  {
   "cell_type": "markdown",
   "metadata": {},
   "source": [
    "# ML Practises and Approaches"
   ]
  },
  {
   "cell_type": "markdown",
   "metadata": {},
   "source": [
    "**t-SNE ( MNIST Dataset )** "
   ]
  },
  {
   "cell_type": "code",
   "execution_count": 1,
   "metadata": {},
   "outputs": [
    {
     "data": {
      "text/plain": [
       "\"\\nmat , seaborn - Visualization\\nnumpy - handle numerical arrays\\npandas - create  df's from arrays\\nscikit-learn - perform t-SNE\\n\\n\""
      ]
     },
     "execution_count": 1,
     "metadata": {},
     "output_type": "execute_result"
    }
   ],
   "source": [
    "import matplotlib.pyplot as plt\n",
    "import numpy as np\n",
    "import pandas as pd\n",
    "import seaborn as sns\n",
    "\n",
    "from sklearn import datasets\n",
    "from sklearn import manifold\n",
    "'''\n",
    "mat , seaborn - Visualization\n",
    "numpy - handle numerical arrays\n",
    "pandas - create  df's from arrays\n",
    "scikit-learn - perform t-SNE\n",
    "\n",
    "'''"
   ]
  },
  {
   "cell_type": "code",
   "execution_count": 2,
   "metadata": {},
   "outputs": [
    {
     "data": {
      "text/plain": [
       "\"\\nWe've an array of pixel values and an array of targets , the targets being \\nstrings , we convert them to integers.\\npixel_values contain a 2-d array of shape 70000*784 (28*28) , i.e 70,000 images\\nof shape 28*28 , which are flattened to give the representation.\\n\""
      ]
     },
     "execution_count": 2,
     "metadata": {},
     "output_type": "execute_result"
    }
   ],
   "source": [
    "data = datasets.fetch_openml('mnist_784',\n",
    "                            version=1,\n",
    "                            return_X_y=True\n",
    "                            )\n",
    "pixel_values , targets = data\n",
    "targets = targets.astype(int)\n",
    "'''\n",
    "We've an array of pixel values and an array of targets , the targets being \n",
    "strings , we convert them to integers.\n",
    "pixel_values contain a 2-d array of shape 70000*784 (28*28) , i.e 70,000 images\n",
    "of shape 28*28 , which are flattened to give the representation.\n",
    "'''"
   ]
  },
  {
   "cell_type": "code",
   "execution_count": 3,
   "metadata": {},
   "outputs": [
    {
     "data": {
      "text/plain": [
       "<matplotlib.image.AxesImage at 0x2a7708d1f48>"
      ]
     },
     "execution_count": 3,
     "metadata": {},
     "output_type": "execute_result"
    },
    {
     "data": {
      "image/png": "[encoded data removed]",
      "text/plain": [
       "<Figure size 432x288 with 1 Axes>"
      ]
     },
     "metadata": {
      "needs_background": "light"
     },
     "output_type": "display_data"
    }
   ],
   "source": [
    "'''Taking one image & Visualizing it.'''\n",
    "single_image = pixel_values[1,:].reshape(28,28)\n",
    "plt.imshow(single_image,cmap='gray')"
   ]
  },
  {
   "cell_type": "code",
   "execution_count": null,
   "metadata": {},
   "outputs": [],
   "source": []
  }
 ],
 "metadata": {
  "kernelspec": {
   "display_name": "Python 3",
   "language": "python",
   "name": "python3"
  },
  "language_info": {
   "codemirror_mode": {
    "name": "ipython",
    "version": 3
   },
   "file_extension": ".py",
   "mimetype": "text/x-python",
   "name": "python",
   "nbconvert_exporter": "python",
   "pygments_lexer": "ipython3",
   "version": "3.7.7"
  }
 },
 "nbformat": 4,
 "nbformat_minor": 4
}
